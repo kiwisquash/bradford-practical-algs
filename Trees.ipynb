{
 "cells": [
  {
   "cell_type": "code",
   "execution_count": null,
   "metadata": {},
   "outputs": [],
   "source": [
    "import pprint"
   ]
  },
  {
   "cell_type": "markdown",
   "metadata": {},
   "source": [
    "# Basics\n",
    "- root\n",
    "    - root is at the top\n",
    "- branches\n",
    "- leaves"
   ]
  },
  {
   "cell_type": "markdown",
   "metadata": {},
   "source": [
    "# Properties"
   ]
  },
  {
   "cell_type": "markdown",
   "metadata": {},
   "source": [
    "1. Trees are hierarchical\n",
    "2. Children of one node are indeendent of the children of the other node\n",
    "3. Each leaf is unique"
   ]
  },
  {
   "cell_type": "markdown",
   "metadata": {},
   "source": [
    "    <html>\n",
    "    <head>\n",
    "        <title>simple</title>\n",
    "    </head>\n",
    "    <body>\n",
    "        <h1>A simple web page</h1>\n",
    "        <ul>\n",
    "            <li>List item one</li>\n",
    "            <li>List item two</li>\n",
    "        </ul>\n",
    "        <h2><a href=\"https://www.google.com\">Google</a><h2>\n",
    "    </body>\n",
    "    </html>\n"
   ]
  },
  {
   "cell_type": "markdown",
   "metadata": {},
   "source": [
    "    html -> head -> title\n",
    "        -> body -> h1\n",
    "                -> ul -> li\n",
    "                      -> li\n",
    "                -> h2 -> a\n"
   ]
  },
  {
   "cell_type": "markdown",
   "metadata": {},
   "source": [
    "# Definitions"
   ]
  },
  {
   "cell_type": "markdown",
   "metadata": {},
   "source": [
    "- *Node*: \n",
    "    - It can have a unique name (“key.”) \n",
    "    - A node may also have additional information(“payload.”)\n",
    "        - not central to many tree algorithms, it is often critical in applications that make use of trees.\n",
    "- *Edge*:\n",
    "    - An edge connects two nodes to show that there is a relationship between them. \n",
    "    - Every node other than the root is connected by exactly one incoming edge from another node. \n",
    "    - Each node may have several outgoing edges.\n",
    "- *Root*:\n",
    "    - The root of the tree is the only node in the tree that has no incoming edges.\n",
    "- *Path*:\n",
    "    - A path is an ordered list of nodes that are connected by edges. \n",
    "- *Children, Parent, Sibling*: They mean what you think they mean\n",
    "- *Leaf Node*: Node with no children\n",
    "- *Level*: Number of edges from the root\n",
    "- *Height*: Max level"
   ]
  },
  {
   "cell_type": "markdown",
   "metadata": {},
   "source": [
    "# Formal definition of a tree\n",
    "1. Non-recursive def:\n",
    "    - a set of nodes and a set of edges that connect pairs of nodes with the following properties:\n",
    "        - one root node\n",
    "        - Every node $n$, except the root node, is connected by an edge from exactly one other node $p$\n",
    "        - A unique path traverses from the root to each node.\n",
    "\n",
    "2. Recursive def: \n",
    "    - A tree is either empty or consists of a root and zero or more subtrees, each of which is also a tree. \n",
    "    - The root of each subtree is connected to the root of the parent tree by an edge.\n",
    "\n",
    "Note: If each node in the tree has a maximum of two children, we say that the tree is a binary tree.\n"
   ]
  },
  {
   "cell_type": "markdown",
   "metadata": {},
   "source": [
    "# Representing Trees"
   ]
  },
  {
   "cell_type": "code",
   "execution_count": null,
   "metadata": {},
   "outputs": [],
   "source": [
    "class Node:\n",
    "    \n",
    "    def __init__(self, val):\n",
    "        self.val = val\n",
    "        self.left = None\n",
    "        self.right = None\n",
    "        \n",
    "    def insert_left(self, child):\n",
    "        if self.left is None:\n",
    "            self.left = child\n",
    "        else:\n",
    "            child.left = self.left\n",
    "            self.left = child\n",
    "\n",
    "    def insert_right(self, child):\n",
    "        if self.right is None:\n",
    "            self.right = child\n",
    "        else:\n",
    "            child.right = self.right\n",
    "            self.right = child\n"
   ]
  },
  {
   "cell_type": "code",
   "execution_count": null,
   "metadata": {},
   "outputs": [],
   "source": [
    "root = Node(1)\n",
    "root.insert_left(Node(2))\n",
    "root.insert_right(Node(3))"
   ]
  },
  {
   "cell_type": "code",
   "execution_count": null,
   "metadata": {},
   "outputs": [],
   "source": [
    "root.val"
   ]
  },
  {
   "cell_type": "code",
   "execution_count": null,
   "metadata": {},
   "outputs": [],
   "source": [
    "root.left.val"
   ]
  },
  {
   "cell_type": "code",
   "execution_count": null,
   "metadata": {},
   "outputs": [],
   "source": [
    "root.right.val"
   ]
  },
  {
   "cell_type": "markdown",
   "metadata": {},
   "source": [
    "## List of lists representation"
   ]
  },
  {
   "cell_type": "code",
   "execution_count": null,
   "metadata": {},
   "outputs": [],
   "source": [
    "tree = [\n",
    "    'a', #root\n",
    "    [\n",
    "        'b', #left subtree\n",
    "        [ 'd', [], [], ],\n",
    "        [ 'e', [], [], ],\n",
    "    ],\n",
    "    [\n",
    "        'b', #right subtree\n",
    "        [ 'f', [], [] ],\n",
    "        [ ],\n",
    "    ],\n",
    "]"
   ]
  },
  {
   "cell_type": "markdown",
   "metadata": {},
   "source": [
    "- tree[0]: key of the root\n",
    "- tree[1]: left subtree\n",
    "    - tree[1][0]: key of the left subtree\n",
    "- tree[2]: right subtreee\n",
    "    - tree[2][0]: key of the right subtree\n"
   ]
  },
  {
   "cell_type": "code",
   "execution_count": null,
   "metadata": {},
   "outputs": [],
   "source": [
    "tree[0]"
   ]
  },
  {
   "cell_type": "code",
   "execution_count": null,
   "metadata": {},
   "outputs": [],
   "source": [
    "tree[1]"
   ]
  },
  {
   "cell_type": "code",
   "execution_count": null,
   "metadata": {},
   "outputs": [],
   "source": [
    "tree[2]"
   ]
  },
  {
   "cell_type": "markdown",
   "metadata": {},
   "source": [
    "- generalizes easily to trees that can have more than 2 children"
   ]
  },
  {
   "cell_type": "code",
   "execution_count": null,
   "metadata": {},
   "outputs": [],
   "source": [
    "def insert_left(root, child_val):\n",
    "    subtree = root.pop(1)\n",
    "    root.insert(1, [child_val, subtree, []])\n",
    "    return root    \n",
    "    \n",
    "def insert_right(root, child_val):\n",
    "    subtree = root.pop(2)\n",
    "    root.insert(2, [child_val, [], subtree])\n",
    "    return root    "
   ]
  },
  {
   "cell_type": "code",
   "execution_count": null,
   "metadata": {},
   "outputs": [],
   "source": [
    "tree = [\n",
    "    1,\n",
    "    [],\n",
    "    [],\n",
    "]"
   ]
  },
  {
   "cell_type": "code",
   "execution_count": null,
   "metadata": {},
   "outputs": [],
   "source": [
    "insert_left(tree, 3)"
   ]
  },
  {
   "cell_type": "code",
   "execution_count": null,
   "metadata": {},
   "outputs": [],
   "source": [
    "pprint.pprint(tree)"
   ]
  },
  {
   "cell_type": "code",
   "execution_count": null,
   "metadata": {},
   "outputs": [],
   "source": [
    "def get_root_val(root):\n",
    "    return root[0]\n",
    "\n",
    "def set_root_val(root, new_val):\n",
    "    root[0] = new_val\n",
    "\n",
    "def get_left_child(root):\n",
    "    return root[1]\n",
    "\n",
    "def get_right_child(root):\n",
    "    return root[2]"
   ]
  },
  {
   "cell_type": "code",
   "execution_count": null,
   "metadata": {},
   "outputs": [],
   "source": [
    "get_root_val(tree)"
   ]
  },
  {
   "cell_type": "code",
   "execution_count": null,
   "metadata": {},
   "outputs": [],
   "source": [
    "get_left_child(tree)"
   ]
  },
  {
   "cell_type": "code",
   "execution_count": null,
   "metadata": {},
   "outputs": [],
   "source": [
    "get_right_child(tree)"
   ]
  },
  {
   "cell_type": "code",
   "execution_count": null,
   "metadata": {},
   "outputs": [],
   "source": [
    "root = [3, [], []]\n",
    "insert_left(root, 4)\n",
    "insert_left(root, 5)\n",
    "insert_right(root, 6)\n",
    "insert_right(root, 7)"
   ]
  },
  {
   "cell_type": "code",
   "execution_count": null,
   "metadata": {},
   "outputs": [],
   "source": [
    "left = get_left_child(root)\n",
    "right = get_right_child(root)"
   ]
  },
  {
   "cell_type": "code",
   "execution_count": null,
   "metadata": {},
   "outputs": [],
   "source": [
    "left"
   ]
  },
  {
   "cell_type": "code",
   "execution_count": null,
   "metadata": {},
   "outputs": [],
   "source": [
    "right"
   ]
  },
  {
   "cell_type": "code",
   "execution_count": null,
   "metadata": {},
   "outputs": [],
   "source": [
    "set_root_val(right, 9)"
   ]
  },
  {
   "cell_type": "code",
   "execution_count": null,
   "metadata": {},
   "outputs": [],
   "source": [
    "root"
   ]
  },
  {
   "cell_type": "code",
   "execution_count": null,
   "metadata": {},
   "outputs": [],
   "source": [
    "insert_right(right, 11)"
   ]
  },
  {
   "cell_type": "code",
   "execution_count": null,
   "metadata": {},
   "outputs": [],
   "source": [
    "root"
   ]
  },
  {
   "cell_type": "markdown",
   "metadata": {},
   "source": [
    "Advantages of this representation:\n",
    "- It is succinct;\n",
    "- Trees can be easily construct as Python list literals;\n",
    "- Easily serialize and print the tree; and,\n",
    "- Portable to languages and contexts without objects."
   ]
  },
  {
   "cell_type": "markdown",
   "metadata": {},
   "source": [
    "Disadvantages of this representation:\n",
    "- difficult to see the tree-like nature of the composite lists \n",
    "    - particularly if it is printed on a single line."
   ]
  },
  {
   "cell_type": "markdown",
   "metadata": {},
   "source": [
    "## Map based representation\n"
   ]
  },
  {
   "cell_type": "markdown",
   "metadata": {},
   "source": [
    "Advantages:\n",
    "- In addition to the advantages of list of lists, also recognizable as a tree visually"
   ]
  },
  {
   "cell_type": "code",
   "execution_count": null,
   "metadata": {},
   "outputs": [],
   "source": [
    "tree = {\n",
    "    'val': 'A',\n",
    "    'left': {\n",
    "        'val': 'B',\n",
    "        'left': {'val': 'D'},\n",
    "        'right': {'val': 'E'}\n",
    "    },\n",
    "    'right': {\n",
    "        'val': 'C',\n",
    "        'right': {'val': 'F'}\n",
    "    }\n",
    "}"
   ]
  },
  {
   "cell_type": "markdown",
   "metadata": {},
   "source": [
    "For non-binary trees:"
   ]
  },
  {
   "cell_type": "code",
   "execution_count": null,
   "metadata": {},
   "outputs": [],
   "source": [
    "tree = {\n",
    "    'val': 'A',\n",
    "    'children': [\n",
    "        {\n",
    "            'val': 'B',\n",
    "            'children': [\n",
    "                {'val': 'D'},\n",
    "                {'val': 'E'},\n",
    "            ]\n",
    "        },\n",
    "        {\n",
    "            'val': 'C',\n",
    "            'children': [\n",
    "                {'val': 'F'},\n",
    "                {'val': 'G'},\n",
    "                {'val': 'H'}\n",
    "            ]\n",
    "        }\n",
    "    ]\n",
    "}\n"
   ]
  },
  {
   "cell_type": "code",
   "execution_count": null,
   "metadata": {},
   "outputs": [],
   "source": [
    "def get_root_val(root):\n",
    "    return root['val']\n",
    "\n",
    "def set_root_val(root, new_val):\n",
    "    root['val'] = new_val\n",
    "\n",
    "def get_left_child(root):\n",
    "    return root['left']\n",
    "\n",
    "def get_right_child(root):\n",
    "    return root['right']\n",
    "\n",
    "def insert_left(root, child_val):\n",
    "    if 'left' in root:\n",
    "        subtree = root['left']\n",
    "    else:\n",
    "        subtree = {}\n",
    "    root['left'] = {\n",
    "        'val': child_val,\n",
    "        'left': subtree,\n",
    "    }\n",
    "    return root    \n",
    "    \n",
    "def insert_right(root, child_val):\n",
    "    if 'right' in root:\n",
    "        subtree = root['right']\n",
    "    else:\n",
    "        subtree = {}\n",
    "    root['right'] = {\n",
    "        'val': child_val,\n",
    "        'right': subtree,\n",
    "    }\n",
    "    return root    "
   ]
  },
  {
   "cell_type": "code",
   "execution_count": null,
   "metadata": {},
   "outputs": [],
   "source": [
    "tree = {\n",
    "    'val': 'A',\n",
    "    'left': {\n",
    "        'val': 'B',\n",
    "        'left': {'val': 'D'},\n",
    "        'right': {'val': 'E'}\n",
    "    },\n",
    "    'right': {\n",
    "        'val': 'C',\n",
    "        'right': {'val': 'F'}\n",
    "    }\n",
    "}"
   ]
  },
  {
   "cell_type": "code",
   "execution_count": null,
   "metadata": {},
   "outputs": [],
   "source": [
    "get_root_val(tree)"
   ]
  },
  {
   "cell_type": "code",
   "execution_count": null,
   "metadata": {},
   "outputs": [],
   "source": [
    "set_root_val(tree, 'steve')\n",
    "get_root_val(tree)"
   ]
  },
  {
   "cell_type": "code",
   "execution_count": null,
   "metadata": {},
   "outputs": [],
   "source": [
    "get_left_child(tree)"
   ]
  },
  {
   "cell_type": "code",
   "execution_count": null,
   "metadata": {},
   "outputs": [],
   "source": [
    "get_right_child(tree)"
   ]
  },
  {
   "cell_type": "code",
   "execution_count": null,
   "metadata": {},
   "outputs": [],
   "source": [
    "insert_left(tree, 'dog')"
   ]
  },
  {
   "cell_type": "code",
   "execution_count": null,
   "metadata": {},
   "outputs": [],
   "source": [
    "tree['left']['left']"
   ]
  },
  {
   "cell_type": "code",
   "execution_count": null,
   "metadata": {},
   "outputs": [],
   "source": [
    "tree['left']['right']"
   ]
  },
  {
   "cell_type": "code",
   "execution_count": null,
   "metadata": {},
   "outputs": [],
   "source": [
    "insert_right(tree, 'cat')"
   ]
  },
  {
   "cell_type": "markdown",
   "metadata": {},
   "source": [
    "# Parse Trees"
   ]
  },
  {
   "cell_type": "markdown",
   "metadata": {},
   "source": [
    "Parse trees can be used to represent real-world constructions like sentences or mathematical expressions."
   ]
  },
  {
   "cell_type": "code",
   "execution_count": null,
   "metadata": {},
   "outputs": [],
   "source": [
    "from IPython.display import Image"
   ]
  },
  {
   "cell_type": "code",
   "execution_count": null,
   "metadata": {
    "scrolled": true
   },
   "outputs": [],
   "source": [
    "Image(url=\"https://bradfieldcs.com/algos/trees/parse-trees/figures/parse-tree-sentence.png\")"
   ]
  },
  {
   "cell_type": "markdown",
   "metadata": {},
   "source": [
    "Here is an example of a mathematical expression as a parse tree"
   ]
  },
  {
   "cell_type": "code",
   "execution_count": null,
   "metadata": {},
   "outputs": [],
   "source": [
    "Image(url=\"https://bradfieldcs.com/algos/trees/parse-trees/figures/parse-tree-math-expression.png\")"
   ]
  },
  {
   "cell_type": "code",
   "execution_count": null,
   "metadata": {},
   "outputs": [],
   "source": [
    "tree = {\"key\": \"*\",\n",
    "        \"left\": {\n",
    "            \"key\": \"+\",\n",
    "            \"left\": {\"key\": 7},\n",
    "            \"right\": {\"key\": 3},\n",
    "        },\n",
    "        \"right\": {\n",
    "            \"key\": \"-\",\n",
    "            \"left\": {\"key\": 5},\n",
    "            \"right\": {\"key\": 2},\n",
    "        },\n",
    "}"
   ]
  },
  {
   "cell_type": "markdown",
   "metadata": {},
   "source": [
    "Evaluating the expression $(7+3)*(5-2)$ is equivalent to reducing the left and right subtrees to a single value."
   ]
  },
  {
   "cell_type": "code",
   "execution_count": null,
   "metadata": {},
   "outputs": [],
   "source": [
    "tree = {\"key\": \"*\",\n",
    "        \"left\": {\"key\": 10},\n",
    "        \"right\": {\"key\": 3},\n",
    "}"
   ]
  },
  {
   "cell_type": "code",
   "execution_count": null,
   "metadata": {},
   "outputs": [],
   "source": [
    "tree = {\"key\": 30}"
   ]
  },
  {
   "cell_type": "markdown",
   "metadata": {},
   "source": [
    "This section will contain:\n",
    "- how to build a parse tree from a fully parenthesized mathematical expression, \n",
    "- how to evaluate the expression stored in a parse tree."
   ]
  },
  {
   "cell_type": "markdown",
   "metadata": {},
   "source": [
    "## Rules for construction\n",
    "\n",
    "\n",
    "1. If the current token is a '(', add a new node as the left child of the current node, and descend to the left child.\n",
    "1. If the current token is in the list ['+','-','/','*'], set the root value of the current node to the operator represented by the current token. Add a new node as the right child of the current node and descend to the right child.\n",
    "1. If the current token is a number, set the root value of the current node to the number and return to the parent.\n",
    "1. If the current token is a ')', go to the parent of the current node.\n"
   ]
  },
  {
   "cell_type": "markdown",
   "metadata": {},
   "source": [
    "### Example\n",
    "\n",
    "Take $(3+(4*5))$."
   ]
  },
  {
   "cell_type": "markdown",
   "metadata": {},
   "source": [
    "This can be turned into a list of tokens:"
   ]
  },
  {
   "cell_type": "code",
   "execution_count": null,
   "metadata": {},
   "outputs": [],
   "source": [
    "[\"(\",\"3\",\"+\",\"(\",\"4\",\"*\",\"5\",\")\",\")\"]"
   ]
  },
  {
   "cell_type": "markdown",
   "metadata": {},
   "source": [
    "Follow the steps to construct the tree"
   ]
  },
  {
   "cell_type": "markdown",
   "metadata": {},
   "source": [
    "\n",
    "1. Create an empty tree.\n",
    "2. Read ( as the first token. By rule 1, create a new node as the left child of the root. Make the current node this new child.\n",
    "3. Read 3 as the next token. By rule 3, set the root value of the current node to 3 and go back up the tree to the parent.\n",
    "3. Read + as the next token. By rule 2, set the root value of the current node to + and add a new node as the right child. The new right child becomes the current node.\n",
    "3. Read a ( as the next token. By rule 1, create a new node as the left child of the current node. The new left child becomes the current node.\n",
    "3. Read a 4 as the next token. By rule 3, set the value of the current node to 4. Make the parent of 4 the current node.\n",
    "3. Read * as the next token. By rule 2, set the root value of the current node to * and create a new right child. The new right child becomes the current node.\n",
    "3. Read 5 as the next token. By rule 3, set the root value of the current node to 5. Make the parent of 5 the current node.\n",
    "3. Read ) as the next token. By rule 4 we make the parent of * the current node.\n",
    "3. Read ) as the next token. By rule 4 we make the parent of + the current node. At this point there is no parent for + so we are done.\n"
   ]
  },
  {
   "cell_type": "code",
   "execution_count": null,
   "metadata": {},
   "outputs": [],
   "source": [
    "tree = {\"key\": \"+\",\n",
    "        \"left\": {\"key\": \"3\"}, #notice how the \"current node\" became a child\n",
    "        \"right\": {\"key\": \"*\",\n",
    "                  \"left\": {\"key\": \"4\"}, #notice how the \"current node\" became a child\n",
    "                  \"right\": {\"key\": \"5\"},\n",
    "                 },\n",
    "       }"
   ]
  },
  {
   "cell_type": "code",
   "execution_count": null,
   "metadata": {},
   "outputs": [],
   "source": [
    "def read_tree(tree):\n",
    "    if \"left\" in tree:\n",
    "        read_tree(tree[\"left\"])\n",
    "    print(tree[\"key\"])\n",
    "    if \"right\" in tree:\n",
    "        read_tree(tree[\"right\"])    "
   ]
  },
  {
   "cell_type": "code",
   "execution_count": null,
   "metadata": {},
   "outputs": [],
   "source": [
    "read_tree(tree)"
   ]
  },
  {
   "cell_type": "markdown",
   "metadata": {},
   "source": [
    "- How to keep track of the parent?\n",
    "    - You can use a stack:\n",
    "        - push the current node into parent stack before descending to a child\n",
    "        - pop the parent stack whenever we want to return to the parent of the current node"
   ]
  },
  {
   "cell_type": "code",
   "execution_count": 2,
   "metadata": {},
   "outputs": [],
   "source": [
    "import operator #module that exports a set of operators as functions\n",
    "\n",
    "OPERATORS = {\n",
    "    \"+\": operator.add,\n",
    "    \"-\": operator.sub,\n",
    "    \"*\": operator.mul,\n",
    "    \"/\": operator.truediv, #floordiv is \"//\"\n",
    "}\n",
    "\n",
    "LEFT_PAREN = \"(\"\n",
    "RIGHT_PAREN = \")\"\n",
    "\n",
    "def build_parse_tree(expression):\n",
    "    tree = {}\n",
    "    stack = [tree]\n",
    "    node = tree\n",
    "    for token in expression:\n",
    "        if token == LEFT_PAREN:\n",
    "            node[\"left\"] = {}\n",
    "            stack.append(node)\n",
    "            node = node[\"left\"]\n",
    "        elif token == RIGHT_PAREN:\n",
    "            node = stack.pop()\n",
    "        elif token in OPERATORS:\n",
    "            node['val'] = token\n",
    "            node['right'] = {}\n",
    "            stack.append(node)\n",
    "            node = node['right']\n",
    "        else:\n",
    "            node['val'] = int(token)\n",
    "            node = stack.pop()   \n",
    "            \n",
    "    return tree"
   ]
  },
  {
   "cell_type": "code",
   "execution_count": 3,
   "metadata": {},
   "outputs": [],
   "source": [
    "tree = build_parse_tree(\"(3+(4*5))\")"
   ]
  },
  {
   "cell_type": "code",
   "execution_count": 4,
   "metadata": {},
   "outputs": [],
   "source": [
    "def read_tree(tree):\n",
    "    if \"left\" in tree:\n",
    "        read_tree(tree[\"left\"])\n",
    "    print(tree[\"val\"])\n",
    "    if \"right\" in tree:\n",
    "        read_tree(tree[\"right\"]) "
   ]
  },
  {
   "cell_type": "code",
   "execution_count": 5,
   "metadata": {},
   "outputs": [
    {
     "name": "stdout",
     "output_type": "stream",
     "text": [
      "3\n",
      "+\n",
      "4\n",
      "*\n",
      "5\n"
     ]
    }
   ],
   "source": [
    "read_tree(build_parse_tree([\"(\",\"3\",\"+\",\"(\",\"4\",\"*\",\"5\",\")\",\")\"]))"
   ]
  },
  {
   "cell_type": "code",
   "execution_count": null,
   "metadata": {},
   "outputs": [],
   "source": [
    "def evaluate(tree):\n",
    "    if tree[\"val\"] in OPERATORS:\n",
    "        return OPERATORS[tree[\"val\"]](evaluate(tree[\"left\"]),evaluate(tree[\"right\"]))\n",
    "    return tree['val']"
   ]
  },
  {
   "cell_type": "code",
   "execution_count": null,
   "metadata": {},
   "outputs": [],
   "source": [
    "evaluate(tree)"
   ]
  },
  {
   "cell_type": "code",
   "execution_count": null,
   "metadata": {},
   "outputs": [],
   "source": [
    "build_parse_tree()"
   ]
  },
  {
   "cell_type": "markdown",
   "metadata": {},
   "source": [
    "# Tree Traversals"
   ]
  },
  {
   "cell_type": "markdown",
   "metadata": {},
   "source": [
    "Traversal: A pattern for visiting all nodes in a tree\n",
    "- **preorder**: \n",
    "    - root\n",
    "    - recursive preorder of left subtree\n",
    "    - recursive preorder of right subtree\n",
    "- **inorder**: \n",
    "    - recursive inorder of left subtree\n",
    "    - root\n",
    "    - recursive inorder of right subtree\n",
    "- **postorder**: \n",
    "    - recursive postorder of left subtree\n",
    "    - recursive postorder of right subtree\n",
    "    - root"
   ]
  },
  {
   "cell_type": "code",
   "execution_count": null,
   "metadata": {},
   "outputs": [],
   "source": [
    "def preorder(node):\n",
    "    if node:\n",
    "        print(node['val'])\n",
    "        preorder(node.get('left'))\n",
    "        preorder(node.get('right'))"
   ]
  },
  {
   "cell_type": "code",
   "execution_count": 10,
   "metadata": {},
   "outputs": [],
   "source": [
    "book = {\n",
    "    'val': 'The Book',\n",
    "    'left': {\n",
    "        'val': 'Chapter 1',\n",
    "        'left': {\n",
    "            'val': 'Section 1.1',\n",
    "        },\n",
    "        'right': {\n",
    "            'val': 'Section 1.2',\n",
    "            'left': {\n",
    "                'val': 'Section 1.2.1',\n",
    "            },\n",
    "            'right': {\n",
    "                'val': 'Section 1.2.2',\n",
    "            },\n",
    "        },\n",
    "    },\n",
    "    'right': {\n",
    "        'val': 'Chapter 2',\n",
    "        'left': {\n",
    "            'val': 'Section 2.1',\n",
    "        },\n",
    "        'right': {\n",
    "            'val': 'Section 2.2',\n",
    "            'left': {\n",
    "                'val': 'Section 2.2.1',\n",
    "            },\n",
    "            'right': {\n",
    "                'val': 'Section 2.2.2',\n",
    "            },\n",
    "        },\n",
    "    },\n",
    "}"
   ]
  },
  {
   "cell_type": "code",
   "execution_count": null,
   "metadata": {},
   "outputs": [],
   "source": [
    "preorder(book)"
   ]
  },
  {
   "cell_type": "markdown",
   "metadata": {},
   "source": [
    "- Preorder is just like reading a book, cover to cover!"
   ]
  },
  {
   "cell_type": "code",
   "execution_count": null,
   "metadata": {},
   "outputs": [],
   "source": [
    "def postorder(node):\n",
    "    if node:\n",
    "        postorder(node.get('left'))\n",
    "        postorder(node.get('right'))\n",
    "        print(node['val'])\n"
   ]
  },
  {
   "cell_type": "code",
   "execution_count": null,
   "metadata": {},
   "outputs": [],
   "source": [
    "postorder(tree)"
   ]
  },
  {
   "cell_type": "code",
   "execution_count": null,
   "metadata": {},
   "outputs": [],
   "source": [
    "def inorder(node):\n",
    "    if node:\n",
    "        inorder(node.get('left'))\n",
    "        print(node['val'])\n",
    "        inorder(node.get('right'))"
   ]
  },
  {
   "cell_type": "code",
   "execution_count": null,
   "metadata": {},
   "outputs": [],
   "source": [
    "inorder(tree) # We get the expression back... kind of"
   ]
  },
  {
   "cell_type": "markdown",
   "metadata": {},
   "source": [
    "Let's do better than the usual in order to construct the full expression"
   ]
  },
  {
   "cell_type": "code",
   "execution_count": 6,
   "metadata": {},
   "outputs": [],
   "source": [
    "def construct_expression(parse_tree):\n",
    "    if parse_tree is None:\n",
    "        return ''\n",
    "\n",
    "    left = construct_expression(parse_tree.get('left'))\n",
    "    right = construct_expression(parse_tree.get('right'))\n",
    "    val = parse_tree['val']\n",
    "\n",
    "    if left and right:\n",
    "        return '({} {} {})'.format(left, val, right)\n",
    "\n",
    "    return val\n"
   ]
  },
  {
   "cell_type": "code",
   "execution_count": 7,
   "metadata": {},
   "outputs": [
    {
     "data": {
      "text/plain": [
       "'(3 + (4 * 5))'"
      ]
     },
     "execution_count": 7,
     "metadata": {},
     "output_type": "execute_result"
    }
   ],
   "source": [
    "construct_expression(tree)"
   ]
  },
  {
   "cell_type": "code",
   "execution_count": 30,
   "metadata": {},
   "outputs": [
    {
     "data": {
      "text/plain": [
       "{'left': {'val': 3},\n",
       " 'val': '+',\n",
       " 'right': {'left': {'val': 4}, 'val': '*', 'right': {'val': 5}}}"
      ]
     },
     "execution_count": 30,
     "metadata": {},
     "output_type": "execute_result"
    }
   ],
   "source": [
    "tree"
   ]
  },
  {
   "cell_type": "code",
   "execution_count": 31,
   "metadata": {},
   "outputs": [
    {
     "data": {
      "text/plain": [
       "'(((5 Section 1.1 5) Chapter 1 ((5 Section 1.2.1 5) Section 1.2 (5 Section 1.2.2 5))) The Book ((5 Section 2.1 5) Chapter 2 ((5 Section 2.2.1 5) Section 2.2 (5 Section 2.2.2 5))))'"
      ]
     },
     "execution_count": 31,
     "metadata": {},
     "output_type": "execute_result"
    }
   ],
   "source": [
    "construct_expression(book)\n"
   ]
  },
  {
   "cell_type": "code",
   "execution_count": 20,
   "metadata": {},
   "outputs": [],
   "source": [
    "def construct_expression(parse_tree):\n",
    "    if parse_tree is None:\n",
    "        return 5\n",
    "    val = parse_tree['val']\n",
    "    left = construct_expression(parse_tree.get('left'))\n",
    "    right = construct_expression(parse_tree.get('right'))\n",
    "\n",
    "\n",
    "    if left and right:\n",
    "        return '({} {} {})'.format(left, val, right)\n",
    "\n",
    "    return val"
   ]
  },
  {
   "cell_type": "code",
   "execution_count": 27,
   "metadata": {},
   "outputs": [],
   "source": [
    "def inorder(parse_tree):\n",
    "    if parse_tree is None:\n",
    "        return \"\"\n",
    "    val = parse_tree['val']\n",
    "    left = inorder(parse_tree.get('left'))\n",
    "    right = inorder(parse_tree.get('right'))\n",
    "\n",
    "    if left and right:\n",
    "        return '{}\\n{}\\n{}'.format(val, left, right)\n",
    "\n",
    "    return val"
   ]
  },
  {
   "cell_type": "code",
   "execution_count": 28,
   "metadata": {},
   "outputs": [
    {
     "name": "stdout",
     "output_type": "stream",
     "text": [
      "The Book\n",
      "Chapter 1\n",
      "Section 1.1\n",
      "Section 1.2\n",
      "Section 1.2.1\n",
      "Section 1.2.2\n",
      "Chapter 2\n",
      "Section 2.1\n",
      "Section 2.2\n",
      "Section 2.2.1\n",
      "Section 2.2.2\n"
     ]
    }
   ],
   "source": [
    "print(inorder(book))"
   ]
  },
  {
   "cell_type": "code",
   "execution_count": 29,
   "metadata": {},
   "outputs": [
    {
     "data": {
      "text/plain": [
       "'The Book\\nChapter 1\\nSection 1.1\\nSection 1.2\\nSection 1.2.1\\nSection 1.2.2\\nChapter 2\\nSection 2.1\\nSection 2.2\\nSection 2.2.1\\nSection 2.2.2'"
      ]
     },
     "execution_count": 29,
     "metadata": {},
     "output_type": "execute_result"
    }
   ],
   "source": [
    "inorder(book)"
   ]
  },
  {
   "cell_type": "markdown",
   "metadata": {},
   "source": [
    "*NOTE*: This is the first time I am seeing tree traversal written as a recursion with a return statement."
   ]
  },
  {
   "cell_type": "code",
   "execution_count": null,
   "metadata": {},
   "outputs": [],
   "source": []
  },
  {
   "cell_type": "code",
   "execution_count": null,
   "metadata": {},
   "outputs": [],
   "source": []
  }
 ],
 "metadata": {
  "kernelspec": {
   "display_name": "Python 3",
   "language": "python",
   "name": "python3"
  },
  "language_info": {
   "codemirror_mode": {
    "name": "ipython",
    "version": 3
   },
   "file_extension": ".py",
   "mimetype": "text/x-python",
   "name": "python",
   "nbconvert_exporter": "python",
   "pygments_lexer": "ipython3",
   "version": "3.7.2"
  }
 },
 "nbformat": 4,
 "nbformat_minor": 2
}
