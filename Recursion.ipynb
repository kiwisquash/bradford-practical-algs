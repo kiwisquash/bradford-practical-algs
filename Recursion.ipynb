{
 "cells": [
  {
   "cell_type": "markdown",
   "metadata": {},
   "source": [
    "# Recursion\n",
    "\n",
    "- method of solving problems that involves breaking a problem down into smaller and smaller subproblems until you get to a small enough problem that it can be solved trivially. \n",
    "- recursion involves a function calling itself. \n",
    "- recursion allows us to write elegant solutions to problems that may otherwise be very difficult to program."
   ]
  },
  {
   "cell_type": "markdown",
   "metadata": {},
   "source": [
    "## Sum of a list"
   ]
  },
  {
   "cell_type": "markdown",
   "metadata": {},
   "source": [
    "Given a list, how to add the numbers of the list?\n",
    "- You can use an accumulator variable"
   ]
  },
  {
   "cell_type": "code",
   "execution_count": 1,
   "metadata": {},
   "outputs": [],
   "source": [
    "def iternative_sum(nums):\n",
    "    total = 0 # this is the accumulator variable\n",
    "    for n in nums:\n",
    "        total += n\n",
    "    return total"
   ]
  },
  {
   "cell_type": "code",
   "execution_count": 2,
   "metadata": {},
   "outputs": [
    {
     "data": {
      "text/plain": [
       "16"
      ]
     },
     "execution_count": 2,
     "metadata": {},
     "output_type": "execute_result"
    }
   ],
   "source": [
    "iternative_sum([1,3,5,7])"
   ]
  },
  {
   "cell_type": "markdown",
   "metadata": {},
   "source": [
    "iterative_sum does the following: (((1 + 3) + 5) + 7)"
   ]
  },
  {
   "cell_type": "code",
   "execution_count": 3,
   "metadata": {},
   "outputs": [],
   "source": [
    "def sum_of(nums):\n",
    "    if len(nums) == 0:\n",
    "        return 0\n",
    "    return sum_of(nums[:-1]) + nums[-1]"
   ]
  },
  {
   "cell_type": "code",
   "execution_count": 4,
   "metadata": {},
   "outputs": [
    {
     "data": {
      "text/plain": [
       "16"
      ]
     },
     "execution_count": 4,
     "metadata": {},
     "output_type": "execute_result"
    }
   ],
   "source": [
    "sum_of([1,3,5,7])"
   ]
  },
  {
   "cell_type": "markdown",
   "metadata": {},
   "source": [
    "sum(1,3,5,7) = sum(1,3,5) + 7\n",
    "\n",
    "sum(1,3,5) = sum(1,3) + 5\n",
    "\n",
    "sum(1,3) = sum(1) + 3\n",
    "\n",
    "sum(1) = sum() + 1\n",
    "\n",
    "sum() = 0"
   ]
  },
  {
   "cell_type": "markdown",
   "metadata": {},
   "source": [
    "## Three Laws of Recursion"
   ]
  },
  {
   "cell_type": "markdown",
   "metadata": {},
   "source": [
    "1. Must have a *base case*\n",
    "2. Must change its state and move toward the base case.\n",
    "3. Must call itself, recursively."
   ]
  },
  {
   "cell_type": "markdown",
   "metadata": {},
   "source": [
    "    def sum_of(nums):\n",
    "        if len(nums) == 0:\n",
    "            return 0\n",
    "        return sum_of(nums[:-1]) + nums[-1]"
   ]
  },
  {
   "cell_type": "markdown",
   "metadata": {},
   "source": [
    "- The base case is at the top.\n",
    "- The `nums` is replaced with `nums[:-1]`, which has 1 length shorter"
   ]
  },
  {
   "cell_type": "markdown",
   "metadata": {},
   "source": [
    "## Converting an integer to any base"
   ]
  },
  {
   "cell_type": "code",
   "execution_count": 16,
   "metadata": {},
   "outputs": [],
   "source": [
    "CHAR_FOR_INT = '0123456789ABCDEF'\n",
    "def toStr(num, base = 10):\n",
    "    if num < base:\n",
    "        return CHAR_FOR_INT[num]\n",
    "    return toStr(num // base, base) + CHAR_FOR_INT[num % base]"
   ]
  },
  {
   "cell_type": "code",
   "execution_count": 17,
   "metadata": {},
   "outputs": [
    {
     "data": {
      "text/plain": [
       "'5AD'"
      ]
     },
     "execution_count": 17,
     "metadata": {},
     "output_type": "execute_result"
    }
   ],
   "source": [
    "toStr(1453, 16)"
   ]
  },
  {
   "cell_type": "markdown",
   "metadata": {},
   "source": [
    "# Tower of Hanoi"
   ]
  },
  {
   "cell_type": "code",
   "execution_count": 86,
   "metadata": {},
   "outputs": [],
   "source": [
    "start = list(range(5,0,-1))\n",
    "mid = []\n",
    "end = []"
   ]
  },
  {
   "cell_type": "code",
   "execution_count": 87,
   "metadata": {},
   "outputs": [],
   "source": [
    "def towerOfHanoi(height, start, end, mid):\n",
    "    if height >=1:\n",
    "        towerOfHanoi(height - 1, start, mid, end)\n",
    "        end.append(start.pop())\n",
    "        towerOfHanoi(height - 1, mid, end, start)"
   ]
  },
  {
   "cell_type": "markdown",
   "metadata": {},
   "source": [
    "## Dynamic programming"
   ]
  },
  {
   "cell_type": "markdown",
   "metadata": {},
   "source": [
    "- typically in a more efficient manner than the corresponding recursive strategy. \n",
    "    - Specifically, when a problem consists of “overlapping subproblems”\n",
    "    - dynamic programming strategy avoid redundant computation"
   ]
  },
  {
   "cell_type": "code",
   "execution_count": 123,
   "metadata": {},
   "outputs": [],
   "source": [
    "def recursive_fib(n):\n",
    "    if n == 0: return 0\n",
    "    if n == 1: return 1\n",
    "    return slowfib(n - 1) + slowfib(n - 2)"
   ]
  },
  {
   "cell_type": "code",
   "execution_count": 124,
   "metadata": {},
   "outputs": [
    {
     "data": {
      "text/plain": [
       "55"
      ]
     },
     "execution_count": 124,
     "metadata": {},
     "output_type": "execute_result"
    }
   ],
   "source": [
    "recursive_fib(10)"
   ]
  },
  {
   "cell_type": "markdown",
   "metadata": {},
   "source": [
    "This is $O(2^n)$. Also, memory cost is $O(n)$."
   ]
  },
  {
   "cell_type": "code",
   "execution_count": 125,
   "metadata": {},
   "outputs": [],
   "source": [
    "def memo_fib(n):\n",
    "    memo = {0:0, 1:1}\n",
    "    for i in range(2,n+1):\n",
    "        memo[i] = memo[i-1] + memo[i-2]\n",
    "    return memo[n]"
   ]
  },
  {
   "cell_type": "markdown",
   "metadata": {},
   "source": [
    "This is $O(n)$ with memory $O(n)$."
   ]
  },
  {
   "cell_type": "code",
   "execution_count": 100,
   "metadata": {
    "collapsed": true
   },
   "outputs": [],
   "source": [
    "def fib(n):\n",
    "    current_val = 0\n",
    "    next_val = 1\n",
    "    for i in range(n):\n",
    "        current_val, next_val = next_val, current_val + next_val\n",
    "    return current_val"
   ]
  },
  {
   "cell_type": "markdown",
   "metadata": {},
   "source": [
    "This is $O(n)$ with memory $O(1)$."
   ]
  },
  {
   "cell_type": "markdown",
   "metadata": {},
   "source": [
    "### Lattice example"
   ]
  },
  {
   "cell_type": "markdown",
   "metadata": {},
   "source": [
    "- Imagine a lattice of dimension $h$ by $w$. \n",
    "- We want to count all the unique shortest paths from the upper left corner to the lower right corner.\n",
    "- Shortest paths mean that we do not allow backtracking: our particle can only traverse left-to-right or top-to-bottom"
   ]
  },
  {
   "cell_type": "markdown",
   "metadata": {},
   "source": [
    "Recursive strategy:\n",
    "- To get the end, you must come from either\n",
    "    - the point just to the left (h, w - 1)\n",
    "    - from the point just to the top (h - 1, w)\n",
    "- The set of the possible paths do not overlap.\n",
    "- Base wase: When either h == 0 or w == 0, there is only one path.\n"
   ]
  },
  {
   "cell_type": "code",
   "execution_count": 126,
   "metadata": {},
   "outputs": [],
   "source": [
    "def num_paths(h,w):\n",
    "    if h==0 or w==0:\n",
    "        return 1\n",
    "    return num_paths(h-1,w) + num_paths(h,w-1)"
   ]
  },
  {
   "cell_type": "markdown",
   "metadata": {},
   "source": [
    "- Runtime:  $O(2^{h+w})$ (probably a little less)\n",
    "- Memory: $O(h + w)$ (depth of the binary tree)"
   ]
  },
  {
   "cell_type": "markdown",
   "metadata": {},
   "source": [
    "Are there redundancies?\n",
    "\n",
    "num_paths(2,2) => num_paths(2,1) + numpaths(1,2)\n",
    "\n",
    "Both num_paths(2,1) and num_paths(1,2) will compute num_paths(1,1)"
   ]
  },
  {
   "cell_type": "code",
   "execution_count": 159,
   "metadata": {},
   "outputs": [],
   "source": [
    "def num_paths_d(h,w):\n",
    "    memo = [ [1]*(w+1) for _ in range(h+1)]\n",
    "    for i in range(1,h+1):\n",
    "        for j in range(1,w+1):\n",
    "            memo[i][j] = memo[i-1][j] + memo[i][j-1]\n",
    "    return memo[-1][-1]\n",
    "    "
   ]
  },
  {
   "cell_type": "markdown",
   "metadata": {},
   "source": [
    "- Runtime: $O(hw)$ (double loop)\n",
    "- Memory: $O(hw)$ (size of memo)"
   ]
  },
  {
   "cell_type": "markdown",
   "metadata": {},
   "source": [
    "We can save some memory."
   ]
  },
  {
   "cell_type": "code",
   "execution_count": 165,
   "metadata": {},
   "outputs": [],
   "source": [
    "def num_paths_d(h,w):\n",
    "    memo = [ [1]*(w+1) for _ in range(2)]\n",
    "    for i in range(1,h+1):\n",
    "        for j in range(1,w+1):\n",
    "            memo[i%2][j] = memo[(i-1)%2][j] + memo[i%2][j-1]\n",
    "        print(memo)\n",
    "    return memo[h%2][-1]"
   ]
  },
  {
   "cell_type": "markdown",
   "metadata": {},
   "source": [
    "- Runtime: $O(hw)$ (double loop)\n",
    "- Memory: $O(w)$ (size of memo)"
   ]
  },
  {
   "cell_type": "code",
   "execution_count": null,
   "metadata": {},
   "outputs": [],
   "source": []
  }
 ],
 "metadata": {
  "kernelspec": {
   "display_name": "Python 3",
   "language": "python",
   "name": "python3"
  },
  "language_info": {
   "codemirror_mode": {
    "name": "ipython",
    "version": 3
   },
   "file_extension": ".py",
   "mimetype": "text/x-python",
   "name": "python",
   "nbconvert_exporter": "python",
   "pygments_lexer": "ipython3",
   "version": "3.7.2"
  }
 },
 "nbformat": 4,
 "nbformat_minor": 2
}
