{
 "cells": [
  {
   "cell_type": "markdown",
   "metadata": {},
   "source": [
    "# Linear Data Structures"
   ]
  },
  {
   "cell_type": "markdown",
   "metadata": {},
   "source": [
    "- Data collections that preserve the relative ordering of the elements\n",
    "    - Stacks\n",
    "    - Queues\n",
    "    - Deques\n",
    "    - Lists\n",
    "- Has two ends: \n",
    "    - \"left\" and \"right\"\n",
    "    - \"top\" and \"bottom\"\n",
    "    - \"front\" and \"rear\""
   ]
  },
  {
   "cell_type": "markdown",
   "metadata": {},
   "source": [
    "# Stacks"
   ]
  },
  {
   "cell_type": "markdown",
   "metadata": {},
   "source": [
    "- Like a stack of plates, addition and removal of item takes place at the \"top\"\n",
    "- The other end is called a \"base\"\n",
    "- Older elements live near the bottom\n",
    "- Insertion order is reverse of removal order:\n",
    "    - This ability to reverse the order of items is what makes stacks so important.\n",
    "- Real example on a computer:\n",
    "    - Webpages on a web browser\n",
    "        - You browse, the back button is \"pop\""
   ]
  },
  {
   "cell_type": "markdown",
   "metadata": {},
   "source": [
    "## The Stack Abstract Data Type"
   ]
  },
  {
   "cell_type": "markdown",
   "metadata": {},
   "source": [
    "#### Aside: What is an Abstract Data Type (ADT)?"
   ]
  },
  {
   "cell_type": "markdown",
   "metadata": {},
   "source": [
    "- logical description of \n",
    "    - data \n",
    "    - allowed operations \n",
    "- no regard to how they’ll be implemented\n",
    "- This level of abstraction encapsulates the data and hides implementation details from the user's view, a technique called **information hiding**."
   ]
  },
  {
   "cell_type": "markdown",
   "metadata": {},
   "source": [
    "In contrast, a **data structure** is an implementation of an abstract data type \n",
    "- requires a physical view of the data using some collection of \n",
    "    - primitive data types and \n",
    "    - other programming constructs"
   ]
  },
  {
   "cell_type": "markdown",
   "metadata": {},
   "source": [
    "#### Back to stacks"
   ]
  },
  {
   "cell_type": "markdown",
   "metadata": {},
   "source": [
    "Stack abstract data type:\n",
    "- an ordered collection of items\n",
    "- items are added to the top\n",
    "- items are removed from the top "
   ]
  },
  {
   "cell_type": "markdown",
   "metadata": {},
   "source": [
    "Interface:\n",
    "- Stack(): creates a new, empty stack\n",
    "- push(item): adds item to stack. Returns nothing.\n",
    "- pop(): removes and returns the top item.\n",
    "- peek(): returns the top item. No changes made to stack.\n",
    "- is_empty(): returns obvious boolean.\n",
    "- size(): returns the number of items in the stack."
   ]
  },
  {
   "cell_type": "markdown",
   "metadata": {},
   "source": [
    "## An Implementation"
   ]
  },
  {
   "cell_type": "markdown",
   "metadata": {},
   "source": [
    "- Python list can be used as a stack, because\n",
    "    - the implementation of list in Python provides methods that allow us to achieve the behavior of the stack abstract data type"
   ]
  },
  {
   "cell_type": "code",
   "execution_count": 1,
   "metadata": {},
   "outputs": [],
   "source": [
    "class Stack:\n",
    "    \n",
    "    def __init__(self):\n",
    "        self._items = []\n",
    "    \n",
    "    def is_empty(self):\n",
    "        return not bool(self._items) \n",
    "    \n",
    "    # bool([]) returns false. \n",
    "    # bool(any non-empty list) returns true.\n",
    "    \n",
    "    def push(self, item):\n",
    "        self._items.append(item)\n",
    "    \n",
    "    def pop(self):\n",
    "        self._items.pop()\n",
    "    \n",
    "    def peek(self):\n",
    "        return self._items[-1]\n",
    "    \n",
    "    def size(self):\n",
    "        return len(self._items)\n"
   ]
  },
  {
   "cell_type": "markdown",
   "metadata": {},
   "source": [
    "It is also possible to implement stack so that items are added at index 0.\n",
    "- This is a terrible idea, because that will make push/pop $O(n)$ instead of $O(1)$."
   ]
  },
  {
   "cell_type": "markdown",
   "metadata": {},
   "source": [
    "**Note**: In this book, Python list will be used instead of the stack implementation above, but only using the the stack operations."
   ]
  },
  {
   "cell_type": "markdown",
   "metadata": {},
   "source": [
    "# Stack applications"
   ]
  },
  {
   "cell_type": "markdown",
   "metadata": {},
   "source": [
    "## Balanced Parentheses"
   ]
  },
  {
   "cell_type": "markdown",
   "metadata": {},
   "source": [
    "- Problem: Write an algorithm that reads a string from left to right, then determine whether or not the expression is valid.\n",
    "\n",
    "### What suggest this should be a stack problem?\n",
    "\n",
    "- As you process symbols from left to right, \n",
    "    - the most *recent opening parenthesis* must match the next closing symbol\n",
    "        - something about top\n",
    "    - the first opening symbol processed may have to wait until the very last symbol for its match \n",
    "        - something about the base"
   ]
  },
  {
   "cell_type": "markdown",
   "metadata": {},
   "source": [
    "### My idea"
   ]
  },
  {
   "cell_type": "markdown",
   "metadata": {},
   "source": [
    "- Start with an empty stack\n",
    "- Run through a string\n",
    "    - If \"(\" is the character, push it to the stack\n",
    "    - If \")\" is the character, then pop the stack\n",
    "        - If an emtpy stack is popped, the expression is invalid\n",
    "- If the stack is not empty at the end, then the expression is invalid"
   ]
  },
  {
   "cell_type": "code",
   "execution_count": 5,
   "metadata": {},
   "outputs": [],
   "source": [
    "def test_paren(expr: str) -> bool:\n",
    "    l_stack = []\n",
    "    for char in expr:\n",
    "        if char == \"(\":\n",
    "            l_stack.append(\"(\")\n",
    "        elif char == \")\":\n",
    "            if not l_stack:\n",
    "                return False\n",
    "            else:\n",
    "                l_stack.pop()\n",
    "    return len(l_stack) == 0\n",
    "            \n",
    "    "
   ]
  },
  {
   "cell_type": "markdown",
   "metadata": {},
   "source": [
    "### Book solution"
   ]
  },
  {
   "cell_type": "code",
   "execution_count": 10,
   "metadata": {},
   "outputs": [],
   "source": [
    "OPENING = \"(\"\n",
    "\n",
    "def is_balanced(parentheses):\n",
    "    stack = []\n",
    "    for paren in parentheses:\n",
    "        if paren == OPENING:\n",
    "            stack.append(paren)\n",
    "        else:\n",
    "            try:\n",
    "                stack.pop()\n",
    "            except IndexError:\n",
    "                return False\n",
    "    return len(stack)==0"
   ]
  },
  {
   "cell_type": "code",
   "execution_count": 11,
   "metadata": {},
   "outputs": [],
   "source": [
    "test_cases = [\n",
    "    '((()))',\n",
    "    '(())',\n",
    "    '())',\n",
    "]"
   ]
  },
  {
   "cell_type": "code",
   "execution_count": 12,
   "metadata": {},
   "outputs": [
    {
     "name": "stdout",
     "output_type": "stream",
     "text": [
      "True\n",
      "True\n",
      "True\n"
     ]
    }
   ],
   "source": [
    "for test in test_cases:\n",
    "    print(is_balanced(test) == test_paren(test))"
   ]
  },
  {
   "cell_type": "markdown",
   "metadata": {},
   "source": [
    "## Balanced Symbols: A General Case"
   ]
  },
  {
   "cell_type": "code",
   "execution_count": 15,
   "metadata": {},
   "outputs": [],
   "source": [
    "opening = {\n",
    "    \"(\": \")\",\n",
    "    \"<\": \">\",\n",
    "    \"{\": \"}\",\n",
    "    \"[\": \"]\",\n",
    "}"
   ]
  },
  {
   "cell_type": "code",
   "execution_count": 26,
   "metadata": {},
   "outputs": [],
   "source": [
    "def is_balanced(expr: str) -> bool:\n",
    "    stack = []\n",
    "    for char in expr:\n",
    "        if char in opening:\n",
    "            stack.append(char)\n",
    "        elif char in opening.values():\n",
    "            if not stack:\n",
    "                return False\n",
    "            elif opening[stack[-1]]!=char:\n",
    "                return False\n",
    "            else:\n",
    "                stack.pop()\n",
    "    return len(stack) == 0"
   ]
  },
  {
   "cell_type": "code",
   "execution_count": 35,
   "metadata": {},
   "outputs": [],
   "source": [
    "test_cases = [\n",
    "    '{ { ( [ ] [ ] ) } ( ) }',\n",
    "    '[ [ { { ( ( ) ) } } ] ]',\n",
    "    '[ ] [ ] [ ] ( ) { }',\n",
    "    '( [ ) ]',\n",
    "    '[ { ( ) ]',\n",
    "    '{[])',\n",
    "]"
   ]
  },
  {
   "cell_type": "code",
   "execution_count": 36,
   "metadata": {},
   "outputs": [
    {
     "name": "stdout",
     "output_type": "stream",
     "text": [
      "{ { ( [ ] [ ] ) } ( ) } is balanced: True.\n",
      "[ [ { { ( ( ) ) } } ] ] is balanced: True.\n",
      "[ ] [ ] [ ] ( ) { } is balanced: True.\n",
      "( [ ) ] is balanced: False.\n",
      "[ { ( ) ] is balanced: False.\n",
      "{[]) is balanced: False.\n"
     ]
    }
   ],
   "source": [
    "for test_case in test_cases:\n",
    "    print(f\"{test_case} is balanced: {is_balanced(test_case)}.\")"
   ]
  },
  {
   "cell_type": "code",
   "execution_count": 25,
   "metadata": {},
   "outputs": [
    {
     "data": {
      "text/plain": [
       "dict_keys([1])"
      ]
     },
     "execution_count": 25,
     "metadata": {},
     "output_type": "execute_result"
    }
   ],
   "source": [
    "y.keys()"
   ]
  },
  {
   "cell_type": "markdown",
   "metadata": {},
   "source": [
    "## Conveting bases of numbers"
   ]
  },
  {
   "cell_type": "markdown",
   "metadata": {},
   "source": [
    "How does this suggest a stack-like approach?\n",
    "\n",
    "- Recall the way base conversion is done:\n",
    "\n",
    "13 into binary:\n",
    "13 ---> 1\n",
    " 6 ---> 0\n",
    " 3 ---> 1\n",
    " 1 ---> 1\n",
    " 0\n",
    "\n",
    "But the number we want is\n",
    "1101, not 1011"
   ]
  },
  {
   "cell_type": "code",
   "execution_count": 8,
   "metadata": {},
   "outputs": [],
   "source": [
    "def convert_to_binary(num: int) -> str:\n",
    "    '''\n",
    "    num is a positive integer.\n",
    "    '''\n",
    "    remainder_stack = []\n",
    "    while num > 0:\n",
    "        remainder_stack.append(num % 2)\n",
    "        num //= 2\n",
    "    bits = []\n",
    "    while remainder_stack:\n",
    "        bits.append(str(remainder_stack.pop()))\n",
    "    return ''.join(bits)\n",
    "        "
   ]
  },
  {
   "cell_type": "code",
   "execution_count": 9,
   "metadata": {},
   "outputs": [
    {
     "data": {
      "text/plain": [
       "'1101'"
      ]
     },
     "execution_count": 9,
     "metadata": {},
     "output_type": "execute_result"
    }
   ],
   "source": [
    "convert_to_binary(13)"
   ]
  },
  {
   "cell_type": "code",
   "execution_count": 10,
   "metadata": {},
   "outputs": [
    {
     "data": {
      "text/plain": [
       "'101010'"
      ]
     },
     "execution_count": 10,
     "metadata": {},
     "output_type": "execute_result"
    }
   ],
   "source": [
    "convert_to_binary(42)"
   ]
  },
  {
   "cell_type": "code",
   "execution_count": 33,
   "metadata": {},
   "outputs": [],
   "source": [
    "DIGITS = \"0123456789ABCDEF\"\n",
    "\n",
    "def convert_to_base(num: int, base: int) -> str:\n",
    "    '''\n",
    "    num is a positive integer.\n",
    "    base is an integer between 2 and 16, inclusive.\n",
    "    '''\n",
    "    remainder_stack = []\n",
    "    while num > 0:\n",
    "        remainder_stack.append(num % base)\n",
    "        num //= base\n",
    "    bits = []\n",
    "    while remainder_stack:\n",
    "        bits.append(DIGITS[remainder_stack.pop()])\n",
    "    return ''.join(bits)"
   ]
  },
  {
   "cell_type": "code",
   "execution_count": 35,
   "metadata": {},
   "outputs": [
    {
     "name": "stdout",
     "output_type": "stream",
     "text": [
      "2.47 µs ± 139 ns per loop (mean ± std. dev. of 7 runs, 100000 loops each)\n"
     ]
    }
   ],
   "source": [
    "%timeit convert_to_base(255,16)"
   ]
  },
  {
   "cell_type": "markdown",
   "metadata": {},
   "source": [
    "## Infix, Prefix and Postfix Expressions "
   ]
  },
  {
   "cell_type": "markdown",
   "metadata": {},
   "source": [
    "- Infix expression:\n",
    "    - This is an expression that we normally use\n",
    "    - The operations in an infix expression appear in between the numbers, like this:\n",
    "    \n",
    "    $$ A * B + C * D$$"
   ]
  },
  {
   "cell_type": "markdown",
   "metadata": {},
   "source": [
    "- prefix expression:\n",
    "    - I believe this is more of treating the operations like functions:\n",
    "         $$+ * A B * C D$$\n",
    "    - This looks like:\n",
    "        $$Add(Mult(A,B),Mult(C,D))$$"
   ]
  },
  {
   "cell_type": "markdown",
   "metadata": {},
   "source": [
    "- postfix expression:\n",
    "    - This is basically the functional notation backwards, right?\n",
    "    $$ AB * CD * + $$"
   ]
  },
  {
   "cell_type": "markdown",
   "metadata": {},
   "source": [
    "$$ A + B * C$$\n",
    "$$ + A * B C$$\n",
    "$$ A B C * + $$"
   ]
  },
  {
   "cell_type": "markdown",
   "metadata": {},
   "source": [
    "## Do you understand, really? Let's try it out:"
   ]
  },
  {
   "cell_type": "markdown",
   "metadata": {},
   "source": [
    "### Infix\n",
    "\n",
    "- $(A+B)*C$\n",
    "- $A + B*C + D$\n",
    "- $(A+B)*(C+D)$\n",
    "- $A * B + C * D$\n",
    "- $A + B + C + D$"
   ]
  },
  {
   "cell_type": "markdown",
   "metadata": {},
   "source": [
    "### Prefix"
   ]
  },
  {
   "cell_type": "markdown",
   "metadata": {},
   "source": [
    "- $* + A B C$\n",
    "- $+ + A * B C D$\n",
    "- $* + A B + C D$\n",
    "- $+ * A B * C D$\n",
    "- $ + + + A B C D$\n"
   ]
  },
  {
   "cell_type": "markdown",
   "metadata": {},
   "source": [
    "### Postfix"
   ]
  },
  {
   "cell_type": "markdown",
   "metadata": {},
   "source": [
    "- $ A B + C * $\n",
    "- $ A B C * + D + $\n",
    "- $ A B + C D + * $\n",
    "- $ A B * C D * + $\n",
    "- $ A B + C + D + $"
   ]
  },
  {
   "cell_type": "markdown",
   "metadata": {},
   "source": [
    "## General algorithm 1 (for postfix): Fully parenthesized"
   ]
  },
  {
   "cell_type": "markdown",
   "metadata": {},
   "source": [
    "$A + B * C$ is really $(A + (B * C))$\n",
    "\n",
    "- For prefix, move the operation immediately inside the () to the left-parentheses.\n",
    "- For postfix, move the operation immediately inside the () to the right-parentheses.\n",
    "\n",
    "$(A + (B * C))\\to + A * BC$\n",
    "\n",
    "$(A + (B * C))\\to A B C * +$\n",
    "\n"
   ]
  },
  {
   "cell_type": "markdown",
   "metadata": {},
   "source": [
    "Check this out: $(A + B) * C - (D - E) * (F + G)$"
   ]
  },
  {
   "cell_type": "markdown",
   "metadata": {},
   "source": [
    "Prefix: \n",
    "\\begin{align}\n",
    "&(A + B) * C - (D - E) * (F + G)\\\\\n",
    "&(((A + B) * C) - ((D - E) * (F + G)))\\\\\n",
    "&-*+ABC*-DE+FG\n",
    "\\end{align}\n",
    "\n",
    "Postfix: \n",
    "\\begin{align}\n",
    "&(A + B) * C - (D - E) * (F + G)\\\\\n",
    "&(((A + B) * C) - ((D - E) * (F + G)))\\\\\n",
    "& AB+C*DE-FG+*-\n",
    "\\end{align}"
   ]
  },
  {
   "cell_type": "markdown",
   "metadata": {},
   "source": [
    "In the case of a fully parenthesized expressions, the algorithm for the postfix conversion seems like it would be something like this:\n",
    "- run through the expression\n",
    "- ignore parentheses\n",
    "- store any numerical quantities in a list\n",
    "- store any operation symbol in a stack\n",
    "- if a right parentheses is show, pop from the operation list into the list that contains the numerical expression"
   ]
  },
  {
   "cell_type": "code",
   "execution_count": 2,
   "metadata": {},
   "outputs": [],
   "source": [
    "operations = \"()*+-/\"\n",
    "\n",
    "def proto_postfix(expression:str)->str:\n",
    "    postf_exp = []\n",
    "    operations_stack = []\n",
    "    for char in expression:\n",
    "        if char not in operations:\n",
    "            postf_exp.append(char)\n",
    "        elif char==\"(\":\n",
    "            pass\n",
    "        elif char==\")\":\n",
    "            postf_exp.append(operations_stack.pop())\n",
    "        else:\n",
    "            operations_stack.append(char)\n",
    "    return \" \".join(postf_exp)\n",
    "            \n",
    "            \n",
    "            "
   ]
  },
  {
   "cell_type": "code",
   "execution_count": 9,
   "metadata": {},
   "outputs": [
    {
     "data": {
      "text/plain": [
       "'A B + C * D E - F G + * -'"
      ]
     },
     "execution_count": 9,
     "metadata": {},
     "output_type": "execute_result"
    }
   ],
   "source": [
    "proto_postfix(\"(((A+B)*C)-((D-E)*(F+G)))\")"
   ]
  },
  {
   "cell_type": "markdown",
   "metadata": {},
   "source": [
    "## General algorithm 2 (for postfix): Any"
   ]
  },
  {
   "cell_type": "markdown",
   "metadata": {},
   "source": [
    "Closer look at the process:\n",
    "- $A + B * C \\to A B C * +$"
   ]
  },
  {
   "cell_type": "markdown",
   "metadata": {},
   "source": [
    "- The $A$, $B$, and $C$ stay in same order.\n",
    "- The order of operations * and + got reversed.\n",
    "    - This reflects * is done before +"
   ]
  },
  {
   "cell_type": "markdown",
   "metadata": {},
   "source": [
    "What about this one:\n",
    "- $(A+B)*C\\to AB+C*$"
   ]
  },
  {
   "cell_type": "markdown",
   "metadata": {},
   "source": [
    "- ABC stay in same order.\n",
    "- $+$ appears before C, and $*$ comes at the end.\n",
    "    - This reflects $+$ is done before $*$."
   ]
  },
  {
   "cell_type": "markdown",
   "metadata": {},
   "source": [
    "- \"(\" signals that operations of higher importance are coming.\n",
    "- \")\" signals that the operations need to come out!"
   ]
  },
  {
   "cell_type": "markdown",
   "metadata": {},
   "source": [
    "A stack to keep the operators. \n",
    "- provides the reversal that we noted in the first example. \n",
    "- The top of the stack will always be the most recently saved operator. \n",
    "- when a new operator shows up, compare with the top"
   ]
  },
  {
   "cell_type": "markdown",
   "metadata": {},
   "source": [
    "### Assumptions"
   ]
  },
  {
   "cell_type": "markdown",
   "metadata": {},
   "source": [
    "- Operators: (, ), +, -, *, /\n",
    "- Operands: single-character identifiers\n",
    "- Input: a valid infix expression is a string of tokens delimited by spaces."
   ]
  },
  {
   "cell_type": "markdown",
   "metadata": {},
   "source": [
    "## General process\n",
    "\n",
    "- defines a stack for operators\n",
    "- scan the expression (which can be turned into a list)\n",
    "    - if operand, push into output list\n",
    "    - if operator\n",
    "        - if \"(\", push it into the stack\n",
    "        - if \")\", pop stack into output list until \"(\" is poped\n",
    "        - if different operator:\n",
    "            - pop all operators with higher precedence into the output\n",
    "            - push \n",
    "- pop all operations into the output\n"
   ]
  },
  {
   "cell_type": "markdown",
   "metadata": {},
   "source": [
    "How does this apply to \"A * B + C * D\"?\n",
    "\n",
    "1. output = [A], stack = []\n",
    "2. output = [A], stack = [*]\n",
    "3. output = [A, B], stack = [*]\n",
    "4. output = [A, B, *], stack  = [ + ]\n",
    "4. output = [A, B, *, C], stack  = [ + ]\n",
    "4. output = [A, B, *, C], stack  = [ + , *]\n",
    "4. output = [A, B, *, C, D], stack  = [ + , *]\n",
    "4. output = [A, B, *, C, D], stack  = [ + , *]\n",
    "4. output = [A, B, *, C, D, *, +], stack  = []\n"
   ]
  },
  {
   "cell_type": "code",
   "execution_count": 1,
   "metadata": {},
   "outputs": [],
   "source": [
    "import string"
   ]
  },
  {
   "cell_type": "code",
   "execution_count": 2,
   "metadata": {},
   "outputs": [],
   "source": [
    "precedence = {\n",
    "    \"(\": 0, # Other operations may stack on top of it\n",
    "    \"+\": 1,\n",
    "    \"-\": 1,\n",
    "    \"*\": 2,\n",
    "    \"-\": 2,\n",
    "}\n",
    "\n",
    "left_p = \"(\"\n",
    "right_p = \")\"\n",
    "\n",
    "tokens = string.digits + string.ascii_letters"
   ]
  },
  {
   "cell_type": "code",
   "execution_count": 3,
   "metadata": {},
   "outputs": [],
   "source": [
    "def infix_to_postfix(infix:str) -> str:\n",
    "    postfix_list = []\n",
    "    operations_stack = []\n",
    "    for char in infix.split():\n",
    "        if char in tokens:\n",
    "            postfix_list.append(char)\n",
    "        elif char == left_p:\n",
    "            operations_stack.append(left_p)\n",
    "        elif char == right_p:\n",
    "            top = operations_stack.pop()\n",
    "            while top!=left_p:\n",
    "                postfix_list.append(top)\n",
    "                top = operations_stack.pop()\n",
    "        else:\n",
    "            while operations_stack and (precedence[operations_stack[-1]] >= precedence[char]):\n",
    "                # the \"=\" part is important\n",
    "                postfix_list.append(operations_stack.pop())\n",
    "            operations_stack.append(char)\n",
    "    while operations_stack:\n",
    "        postfix_list.append(operations_stack.pop())\n",
    "    return \" \".join(postfix_list)\n",
    "                \n",
    "            \n",
    "    "
   ]
  },
  {
   "cell_type": "code",
   "execution_count": 4,
   "metadata": {},
   "outputs": [
    {
     "data": {
      "text/plain": [
       "'A B - C -'"
      ]
     },
     "execution_count": 4,
     "metadata": {},
     "output_type": "execute_result"
    }
   ],
   "source": [
    "infix_to_postfix(\" A - B - C \")"
   ]
  },
  {
   "cell_type": "code",
   "execution_count": 5,
   "metadata": {},
   "outputs": [
    {
     "data": {
      "text/plain": [
       "'A B - C -'"
      ]
     },
     "execution_count": 5,
     "metadata": {},
     "output_type": "execute_result"
    }
   ],
   "source": [
    "infix_to_postfix(\"A - B - C\")"
   ]
  },
  {
   "cell_type": "markdown",
   "metadata": {},
   "source": [
    "## Evaluating postfix expressions"
   ]
  },
  {
   "cell_type": "markdown",
   "metadata": {},
   "source": [
    "- Think about the process:\n",
    "    - Run through the string\n",
    "    - If not operation, add to number stack\n",
    "    - If operation, then take the last two numbers, evaluate, then put it back in the number stack\n",
    "    - If the string is done, then it should be a number, right?"
   ]
  },
  {
   "cell_type": "markdown",
   "metadata": {},
   "source": [
    "- string = 3 4 * 5 9 * + \n",
    "- [3, 4], see a *\n",
    "- [12, 5, 9], see a *\n",
    "- [12, 45], see a +\n",
    "- [57]\n",
    "- answer: 57!"
   ]
  },
  {
   "cell_type": "code",
   "execution_count": 7,
   "metadata": {},
   "outputs": [],
   "source": [
    "OPERATIONS = {\"+\": lambda x,y: x+y,\n",
    "              \"-\": lambda x,y: x-y,\n",
    "              \"*\": lambda x,y: x*y,\n",
    "              \"/\": lambda x,y: x/y,}\n",
    "\n",
    "# Alternatively:\n",
    "# import operator\n",
    "#\n",
    "# OPERATION = {\n",
    "#    '*': operator.mul,\n",
    "#    '/': operator.div,\n",
    "#    '-': operator.sub,\n",
    "#    '+': operator.add\n",
    "#}\n",
    "\n",
    "def eval_expression(expr:str) -> int:\n",
    "    expr_list = expr.split()\n",
    "    num_stack = []\n",
    "    for char in expr_list:\n",
    "        if char in OPERATIONS:\n",
    "            x2 = num_stack.pop()\n",
    "            x1 = num_stack.pop()\n",
    "            num_stack.append(OPERATIONS[char](x1,x2))\n",
    "        else:\n",
    "            num_stack.append(float(char))\n",
    "    return num_stack.pop()\n",
    "            \n",
    "    "
   ]
  },
  {
   "cell_type": "code",
   "execution_count": 9,
   "metadata": {},
   "outputs": [
    {
     "data": {
      "text/plain": [
       "3.0"
      ]
     },
     "execution_count": 9,
     "metadata": {},
     "output_type": "execute_result"
    }
   ],
   "source": [
    "eval_expression(\"7 8 + 3 2 + /\")"
   ]
  },
  {
   "cell_type": "code",
   "execution_count": null,
   "metadata": {},
   "outputs": [],
   "source": []
  }
 ],
 "metadata": {
  "kernelspec": {
   "display_name": "Python 3",
   "language": "python",
   "name": "python3"
  },
  "language_info": {
   "codemirror_mode": {
    "name": "ipython",
    "version": 3
   },
   "file_extension": ".py",
   "mimetype": "text/x-python",
   "name": "python",
   "nbconvert_exporter": "python",
   "pygments_lexer": "ipython3",
   "version": "3.7.1"
  }
 },
 "nbformat": 4,
 "nbformat_minor": 2
}
