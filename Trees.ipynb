{
 "cells": [
  {
   "cell_type": "code",
   "execution_count": 1,
   "metadata": {},
   "outputs": [],
   "source": [
    "import pprint"
   ]
  },
  {
   "cell_type": "markdown",
   "metadata": {},
   "source": [
    "# Basics\n",
    "- root\n",
    "    - root is at the top\n",
    "- branches\n",
    "- leaves"
   ]
  },
  {
   "cell_type": "markdown",
   "metadata": {},
   "source": [
    "# Properties"
   ]
  },
  {
   "cell_type": "markdown",
   "metadata": {},
   "source": [
    "1. Trees are hierarchical\n",
    "2. Children of one node are indeendent of the children of the other node\n",
    "3. Each leaf is unique"
   ]
  },
  {
   "cell_type": "markdown",
   "metadata": {},
   "source": [
    "    <html>\n",
    "    <head>\n",
    "        <title>simple</title>\n",
    "    </head>\n",
    "    <body>\n",
    "        <h1>A simple web page</h1>\n",
    "        <ul>\n",
    "            <li>List item one</li>\n",
    "            <li>List item two</li>\n",
    "        </ul>\n",
    "        <h2><a href=\"https://www.google.com\">Google</a><h2>\n",
    "    </body>\n",
    "    </html>\n"
   ]
  },
  {
   "cell_type": "markdown",
   "metadata": {},
   "source": [
    "    html -> head -> title\n",
    "        -> body -> h1\n",
    "                -> ul -> li\n",
    "                      -> li\n",
    "                -> h2 -> a\n"
   ]
  },
  {
   "cell_type": "markdown",
   "metadata": {},
   "source": [
    "# Definitions"
   ]
  },
  {
   "cell_type": "markdown",
   "metadata": {},
   "source": [
    "- *Node*: \n",
    "    - It can have a unique name (“key.”) \n",
    "    - A node may also have additional information(“payload.”)\n",
    "        - not central to many tree algorithms, it is often critical in applications that make use of trees.\n",
    "- *Edge*:\n",
    "    - An edge connects two nodes to show that there is a relationship between them. \n",
    "    - Every node other than the root is connected by exactly one incoming edge from another node. \n",
    "    - Each node may have several outgoing edges.\n",
    "- *Root*:\n",
    "    - The root of the tree is the only node in the tree that has no incoming edges.\n",
    "- *Path*:\n",
    "    - A path is an ordered list of nodes that are connected by edges. \n",
    "- *Children, Parent, Sibling*: They mean what you think they mean\n",
    "- *Leaf Node*: Node with no children\n",
    "- *Level*: Number of edges from the root\n",
    "- *Height*: Max level"
   ]
  },
  {
   "cell_type": "markdown",
   "metadata": {},
   "source": [
    "# Formal definition of a tree\n",
    "1. Non-recursive def:\n",
    "    - a set of nodes and a set of edges that connect pairs of nodes with the following properties:\n",
    "        - one root node\n",
    "        - Every node $n$, except the root node, is connected by an edge from exactly one other node $p$\n",
    "        - A unique path traverses from the root to each node.\n",
    "\n",
    "2. Recursive def: \n",
    "    - A tree is either empty or consists of a root and zero or more subtrees, each of which is also a tree. \n",
    "    - The root of each subtree is connected to the root of the parent tree by an edge.\n",
    "\n",
    "Note: If each node in the tree has a maximum of two children, we say that the tree is a binary tree.\n"
   ]
  },
  {
   "cell_type": "markdown",
   "metadata": {},
   "source": [
    "# Representing Trees"
   ]
  },
  {
   "cell_type": "code",
   "execution_count": 2,
   "metadata": {},
   "outputs": [],
   "source": [
    "class Node:\n",
    "    \n",
    "    def __init__(self, val):\n",
    "        self.val = val\n",
    "        self.left = None\n",
    "        self.right = None\n",
    "        \n",
    "    def insert_left(self, child):\n",
    "        if self.left is None:\n",
    "            self.left = child\n",
    "        else:\n",
    "            child.left = self.left\n",
    "            self.left = child\n",
    "\n",
    "    def insert_right(self, child):\n",
    "        if self.right is None:\n",
    "            self.right = child\n",
    "        else:\n",
    "            child.right = self.right\n",
    "            self.right = child\n"
   ]
  },
  {
   "cell_type": "code",
   "execution_count": 3,
   "metadata": {},
   "outputs": [],
   "source": [
    "root = Node(1)\n",
    "root.insert_left(Node(2))\n",
    "root.insert_right(Node(3))"
   ]
  },
  {
   "cell_type": "code",
   "execution_count": 4,
   "metadata": {},
   "outputs": [
    {
     "data": {
      "text/plain": [
       "1"
      ]
     },
     "execution_count": 4,
     "metadata": {},
     "output_type": "execute_result"
    }
   ],
   "source": [
    "root.val"
   ]
  },
  {
   "cell_type": "code",
   "execution_count": 5,
   "metadata": {},
   "outputs": [
    {
     "data": {
      "text/plain": [
       "2"
      ]
     },
     "execution_count": 5,
     "metadata": {},
     "output_type": "execute_result"
    }
   ],
   "source": [
    "root.left.val"
   ]
  },
  {
   "cell_type": "code",
   "execution_count": 6,
   "metadata": {},
   "outputs": [
    {
     "data": {
      "text/plain": [
       "3"
      ]
     },
     "execution_count": 6,
     "metadata": {},
     "output_type": "execute_result"
    }
   ],
   "source": [
    "root.right.val"
   ]
  },
  {
   "cell_type": "markdown",
   "metadata": {},
   "source": [
    "## List of lists representation"
   ]
  },
  {
   "cell_type": "code",
   "execution_count": 7,
   "metadata": {},
   "outputs": [],
   "source": [
    "tree = [\n",
    "    'a', #root\n",
    "    [\n",
    "        'b', #left subtree\n",
    "        [ 'd', [], [], ],\n",
    "        [ 'e', [], [], ],\n",
    "    ],\n",
    "    [\n",
    "        'b', #right subtree\n",
    "        [ 'f', [], [] ],\n",
    "        [ ],\n",
    "    ],\n",
    "]"
   ]
  },
  {
   "cell_type": "markdown",
   "metadata": {},
   "source": [
    "- tree[0]: key of the root\n",
    "- tree[1]: left subtree\n",
    "    - tree[1][0]: key of the left subtree\n",
    "- tree[2]: right subtreee\n",
    "    - tree[2][0]: key of the right subtree\n"
   ]
  },
  {
   "cell_type": "code",
   "execution_count": 8,
   "metadata": {},
   "outputs": [
    {
     "data": {
      "text/plain": [
       "'a'"
      ]
     },
     "execution_count": 8,
     "metadata": {},
     "output_type": "execute_result"
    }
   ],
   "source": [
    "tree[0]"
   ]
  },
  {
   "cell_type": "code",
   "execution_count": 9,
   "metadata": {},
   "outputs": [
    {
     "data": {
      "text/plain": [
       "['b', ['d', [], []], ['e', [], []]]"
      ]
     },
     "execution_count": 9,
     "metadata": {},
     "output_type": "execute_result"
    }
   ],
   "source": [
    "tree[1]"
   ]
  },
  {
   "cell_type": "code",
   "execution_count": 10,
   "metadata": {},
   "outputs": [
    {
     "data": {
      "text/plain": [
       "['b', ['f', [], []], []]"
      ]
     },
     "execution_count": 10,
     "metadata": {},
     "output_type": "execute_result"
    }
   ],
   "source": [
    "tree[2]"
   ]
  },
  {
   "cell_type": "markdown",
   "metadata": {},
   "source": [
    "- generalizes easily to trees that can have more than 2 children"
   ]
  },
  {
   "cell_type": "code",
   "execution_count": 11,
   "metadata": {},
   "outputs": [],
   "source": [
    "def insert_left(root, child_val):\n",
    "    subtree = root.pop(1)\n",
    "    root.insert(1, [child_val, subtree, []])\n",
    "    return root    \n",
    "    \n",
    "def insert_right(root, child_val):\n",
    "    subtree = root.pop(2)\n",
    "    root.insert(2, [child_val, [], subtree])\n",
    "    return root    "
   ]
  },
  {
   "cell_type": "code",
   "execution_count": 12,
   "metadata": {},
   "outputs": [],
   "source": [
    "tree = [\n",
    "    1,\n",
    "    [],\n",
    "    [],\n",
    "]"
   ]
  },
  {
   "cell_type": "code",
   "execution_count": 13,
   "metadata": {},
   "outputs": [
    {
     "data": {
      "text/plain": [
       "[1, [3, [], []], []]"
      ]
     },
     "execution_count": 13,
     "metadata": {},
     "output_type": "execute_result"
    }
   ],
   "source": [
    "insert_left(tree, 3)"
   ]
  },
  {
   "cell_type": "code",
   "execution_count": 14,
   "metadata": {},
   "outputs": [
    {
     "name": "stdout",
     "output_type": "stream",
     "text": [
      "[1, [3, [], []], []]\n"
     ]
    }
   ],
   "source": [
    "pprint.pprint(tree)"
   ]
  },
  {
   "cell_type": "code",
   "execution_count": 15,
   "metadata": {},
   "outputs": [],
   "source": [
    "def get_root_val(root):\n",
    "    return root[0]\n",
    "\n",
    "def set_root_val(root, new_val):\n",
    "    root[0] = new_val\n",
    "\n",
    "def get_left_child(root):\n",
    "    return root[1]\n",
    "\n",
    "def get_right_child(root):\n",
    "    return root[2]"
   ]
  },
  {
   "cell_type": "code",
   "execution_count": 16,
   "metadata": {},
   "outputs": [
    {
     "data": {
      "text/plain": [
       "1"
      ]
     },
     "execution_count": 16,
     "metadata": {},
     "output_type": "execute_result"
    }
   ],
   "source": [
    "get_root_val(tree)"
   ]
  },
  {
   "cell_type": "code",
   "execution_count": 17,
   "metadata": {},
   "outputs": [
    {
     "data": {
      "text/plain": [
       "[3, [], []]"
      ]
     },
     "execution_count": 17,
     "metadata": {},
     "output_type": "execute_result"
    }
   ],
   "source": [
    "get_left_child(tree)"
   ]
  },
  {
   "cell_type": "code",
   "execution_count": 18,
   "metadata": {},
   "outputs": [
    {
     "data": {
      "text/plain": [
       "[]"
      ]
     },
     "execution_count": 18,
     "metadata": {},
     "output_type": "execute_result"
    }
   ],
   "source": [
    "get_right_child(tree)"
   ]
  },
  {
   "cell_type": "code",
   "execution_count": 19,
   "metadata": {},
   "outputs": [
    {
     "data": {
      "text/plain": [
       "[3, [5, [4, [], []], []], [7, [], [6, [], []]]]"
      ]
     },
     "execution_count": 19,
     "metadata": {},
     "output_type": "execute_result"
    }
   ],
   "source": [
    "root = [3, [], []]\n",
    "insert_left(root, 4)\n",
    "insert_left(root, 5)\n",
    "insert_right(root, 6)\n",
    "insert_right(root, 7)"
   ]
  },
  {
   "cell_type": "code",
   "execution_count": 20,
   "metadata": {},
   "outputs": [],
   "source": [
    "left = get_left_child(root)\n",
    "right = get_right_child(root)"
   ]
  },
  {
   "cell_type": "code",
   "execution_count": 21,
   "metadata": {},
   "outputs": [
    {
     "data": {
      "text/plain": [
       "[5, [4, [], []], []]"
      ]
     },
     "execution_count": 21,
     "metadata": {},
     "output_type": "execute_result"
    }
   ],
   "source": [
    "left"
   ]
  },
  {
   "cell_type": "code",
   "execution_count": 22,
   "metadata": {},
   "outputs": [
    {
     "data": {
      "text/plain": [
       "[7, [], [6, [], []]]"
      ]
     },
     "execution_count": 22,
     "metadata": {},
     "output_type": "execute_result"
    }
   ],
   "source": [
    "right"
   ]
  },
  {
   "cell_type": "code",
   "execution_count": 23,
   "metadata": {},
   "outputs": [],
   "source": [
    "set_root_val(right, 9)"
   ]
  },
  {
   "cell_type": "code",
   "execution_count": 24,
   "metadata": {},
   "outputs": [
    {
     "data": {
      "text/plain": [
       "[3, [5, [4, [], []], []], [9, [], [6, [], []]]]"
      ]
     },
     "execution_count": 24,
     "metadata": {},
     "output_type": "execute_result"
    }
   ],
   "source": [
    "root"
   ]
  },
  {
   "cell_type": "code",
   "execution_count": 25,
   "metadata": {},
   "outputs": [
    {
     "data": {
      "text/plain": [
       "[9, [], [11, [], [6, [], []]]]"
      ]
     },
     "execution_count": 25,
     "metadata": {},
     "output_type": "execute_result"
    }
   ],
   "source": [
    "insert_right(right, 11)"
   ]
  },
  {
   "cell_type": "code",
   "execution_count": 26,
   "metadata": {},
   "outputs": [
    {
     "data": {
      "text/plain": [
       "[3, [5, [4, [], []], []], [9, [], [11, [], [6, [], []]]]]"
      ]
     },
     "execution_count": 26,
     "metadata": {},
     "output_type": "execute_result"
    }
   ],
   "source": [
    "root"
   ]
  },
  {
   "cell_type": "markdown",
   "metadata": {},
   "source": [
    "Advantages of this representation:\n",
    "- It is succinct;\n",
    "- Trees can be easily construct as Python list literals;\n",
    "- Easily serialize and print the tree; and,\n",
    "- Portable to languages and contexts without objects."
   ]
  },
  {
   "cell_type": "markdown",
   "metadata": {},
   "source": [
    "Disadvantages of this representation:\n",
    "- difficult to see the tree-like nature of the composite lists \n",
    "    - particularly if it is printed on a single line."
   ]
  },
  {
   "cell_type": "markdown",
   "metadata": {},
   "source": [
    "## Map based representation\n"
   ]
  },
  {
   "cell_type": "markdown",
   "metadata": {},
   "source": [
    "Advantages:\n",
    "- In addition to the advantages of list of lists, also recognizable as a tree visually"
   ]
  },
  {
   "cell_type": "code",
   "execution_count": 27,
   "metadata": {},
   "outputs": [],
   "source": [
    "tree = {\n",
    "    'val': 'A',\n",
    "    'left': {\n",
    "        'val': 'B',\n",
    "        'left': {'val': 'D'},\n",
    "        'right': {'val': 'E'}\n",
    "    },\n",
    "    'right': {\n",
    "        'val': 'C',\n",
    "        'right': {'val': 'F'}\n",
    "    }\n",
    "}"
   ]
  },
  {
   "cell_type": "markdown",
   "metadata": {},
   "source": [
    "For non-binary trees:"
   ]
  },
  {
   "cell_type": "code",
   "execution_count": 28,
   "metadata": {},
   "outputs": [],
   "source": [
    "tree = {\n",
    "    'val': 'A',\n",
    "    'children': [\n",
    "        {\n",
    "            'val': 'B',\n",
    "            'children': [\n",
    "                {'val': 'D'},\n",
    "                {'val': 'E'},\n",
    "            ]\n",
    "        },\n",
    "        {\n",
    "            'val': 'C',\n",
    "            'children': [\n",
    "                {'val': 'F'},\n",
    "                {'val': 'G'},\n",
    "                {'val': 'H'}\n",
    "            ]\n",
    "        }\n",
    "    ]\n",
    "}\n"
   ]
  },
  {
   "cell_type": "code",
   "execution_count": 29,
   "metadata": {},
   "outputs": [],
   "source": [
    "def get_root_val(root):\n",
    "    return root['val']\n",
    "\n",
    "def set_root_val(root, new_val):\n",
    "    root['val'] = new_val\n",
    "\n",
    "def get_left_child(root):\n",
    "    return root['left']\n",
    "\n",
    "def get_right_child(root):\n",
    "    return root['right']\n",
    "\n",
    "def insert_left(root, child_val):\n",
    "    if 'left' in root:\n",
    "        subtree = root['left']\n",
    "    else:\n",
    "        subtree = {}\n",
    "    root['left'] = {\n",
    "        'val': child_val,\n",
    "        'left': subtree,\n",
    "    }\n",
    "    return root    \n",
    "    \n",
    "def insert_right(root, child_val):\n",
    "    if 'right' in root:\n",
    "        subtree = root['right']\n",
    "    else:\n",
    "        subtree = {}\n",
    "    root['right'] = {\n",
    "        'val': child_val,\n",
    "        'right': subtree,\n",
    "    }\n",
    "    return root    "
   ]
  },
  {
   "cell_type": "code",
   "execution_count": 30,
   "metadata": {},
   "outputs": [],
   "source": [
    "tree = {\n",
    "    'val': 'A',\n",
    "    'left': {\n",
    "        'val': 'B',\n",
    "        'left': {'val': 'D'},\n",
    "        'right': {'val': 'E'}\n",
    "    },\n",
    "    'right': {\n",
    "        'val': 'C',\n",
    "        'right': {'val': 'F'}\n",
    "    }\n",
    "}"
   ]
  },
  {
   "cell_type": "code",
   "execution_count": 31,
   "metadata": {},
   "outputs": [
    {
     "data": {
      "text/plain": [
       "'A'"
      ]
     },
     "execution_count": 31,
     "metadata": {},
     "output_type": "execute_result"
    }
   ],
   "source": [
    "get_root_val(tree)"
   ]
  },
  {
   "cell_type": "code",
   "execution_count": 32,
   "metadata": {},
   "outputs": [
    {
     "data": {
      "text/plain": [
       "'steve'"
      ]
     },
     "execution_count": 32,
     "metadata": {},
     "output_type": "execute_result"
    }
   ],
   "source": [
    "set_root_val(tree, 'steve')\n",
    "get_root_val(tree)"
   ]
  },
  {
   "cell_type": "code",
   "execution_count": 33,
   "metadata": {},
   "outputs": [
    {
     "data": {
      "text/plain": [
       "{'val': 'B', 'left': {'val': 'D'}, 'right': {'val': 'E'}}"
      ]
     },
     "execution_count": 33,
     "metadata": {},
     "output_type": "execute_result"
    }
   ],
   "source": [
    "get_left_child(tree)"
   ]
  },
  {
   "cell_type": "code",
   "execution_count": 34,
   "metadata": {},
   "outputs": [
    {
     "data": {
      "text/plain": [
       "{'val': 'C', 'right': {'val': 'F'}}"
      ]
     },
     "execution_count": 34,
     "metadata": {},
     "output_type": "execute_result"
    }
   ],
   "source": [
    "get_right_child(tree)"
   ]
  },
  {
   "cell_type": "code",
   "execution_count": 35,
   "metadata": {},
   "outputs": [
    {
     "data": {
      "text/plain": [
       "{'val': 'steve',\n",
       " 'left': {'val': 'dog',\n",
       "  'left': {'val': 'B', 'left': {'val': 'D'}, 'right': {'val': 'E'}}},\n",
       " 'right': {'val': 'C', 'right': {'val': 'F'}}}"
      ]
     },
     "execution_count": 35,
     "metadata": {},
     "output_type": "execute_result"
    }
   ],
   "source": [
    "insert_left(tree, 'dog')"
   ]
  },
  {
   "cell_type": "code",
   "execution_count": 36,
   "metadata": {},
   "outputs": [
    {
     "data": {
      "text/plain": [
       "{'val': 'B', 'left': {'val': 'D'}, 'right': {'val': 'E'}}"
      ]
     },
     "execution_count": 36,
     "metadata": {},
     "output_type": "execute_result"
    }
   ],
   "source": [
    "tree['left']['left']"
   ]
  },
  {
   "cell_type": "code",
   "execution_count": 37,
   "metadata": {},
   "outputs": [
    {
     "data": {
      "text/plain": [
       "{'val': 'steve',\n",
       " 'left': {'val': 'dog',\n",
       "  'left': {'val': 'B', 'left': {'val': 'D'}, 'right': {'val': 'E'}}},\n",
       " 'right': {'val': 'cat', 'right': {'val': 'C', 'right': {'val': 'F'}}}}"
      ]
     },
     "execution_count": 37,
     "metadata": {},
     "output_type": "execute_result"
    }
   ],
   "source": [
    "insert_right(tree, 'cat')"
   ]
  },
  {
   "cell_type": "markdown",
   "metadata": {},
   "source": [
    "# Parse Trees"
   ]
  },
  {
   "cell_type": "markdown",
   "metadata": {},
   "source": [
    "Parse trees can be used to represent real-world constructions like sentences or mathematical expressions."
   ]
  },
  {
   "cell_type": "code",
   "execution_count": 38,
   "metadata": {},
   "outputs": [],
   "source": [
    "from IPython.display import Image"
   ]
  },
  {
   "cell_type": "code",
   "execution_count": 39,
   "metadata": {
    "scrolled": true
   },
   "outputs": [
    {
     "data": {
      "text/html": [
       "<img src=\"https://bradfieldcs.com/algos/trees/parse-trees/figures/parse-tree-sentence.png\"/>"
      ],
      "text/plain": [
       "<IPython.core.display.Image object>"
      ]
     },
     "execution_count": 39,
     "metadata": {},
     "output_type": "execute_result"
    }
   ],
   "source": [
    "Image(url=\"https://bradfieldcs.com/algos/trees/parse-trees/figures/parse-tree-sentence.png\")"
   ]
  },
  {
   "cell_type": "markdown",
   "metadata": {},
   "source": [
    "Here is an example of a mathematical expression as a parse tree"
   ]
  },
  {
   "cell_type": "code",
   "execution_count": 40,
   "metadata": {},
   "outputs": [
    {
     "data": {
      "text/html": [
       "<img src=\"https://bradfieldcs.com/algos/trees/parse-trees/figures/parse-tree-math-expression.png\"/>"
      ],
      "text/plain": [
       "<IPython.core.display.Image object>"
      ]
     },
     "execution_count": 40,
     "metadata": {},
     "output_type": "execute_result"
    }
   ],
   "source": [
    "Image(url=\"https://bradfieldcs.com/algos/trees/parse-trees/figures/parse-tree-math-expression.png\")"
   ]
  },
  {
   "cell_type": "code",
   "execution_count": 41,
   "metadata": {},
   "outputs": [],
   "source": [
    "tree = {\"key\": \"*\",\n",
    "        \"left\": {\n",
    "            \"key\": \"+\",\n",
    "            \"left\": {\"key\": 7},\n",
    "            \"right\": {\"key\": 3},\n",
    "        },\n",
    "        \"right\": {\n",
    "            \"key\": \"-\",\n",
    "            \"left\": {\"key\": 5},\n",
    "            \"right\": {\"key\": 2},\n",
    "        },\n",
    "}"
   ]
  },
  {
   "cell_type": "markdown",
   "metadata": {},
   "source": [
    "Evaluating the expression $(7+3)*(5-2)$ is equivalent to reducing the left and right subtrees to a single value."
   ]
  },
  {
   "cell_type": "code",
   "execution_count": 42,
   "metadata": {},
   "outputs": [],
   "source": [
    "tree = {\"key\": \"*\",\n",
    "        \"left\": {\"key\": 10},\n",
    "        \"right\": {\"key\": 3},\n",
    "}"
   ]
  },
  {
   "cell_type": "code",
   "execution_count": 43,
   "metadata": {},
   "outputs": [],
   "source": [
    "tree = {\"key\": 30}"
   ]
  },
  {
   "cell_type": "markdown",
   "metadata": {},
   "source": [
    "This section will contain:\n",
    "- how to build a parse tree from a fully parenthesized mathematical expression, \n",
    "- how to evaluate the expression stored in a parse tree."
   ]
  },
  {
   "cell_type": "markdown",
   "metadata": {},
   "source": [
    "## Rules for construction\n",
    "\n",
    "\n",
    "1. If the current token is a '(', add a new node as the left child of the current node, and descend to the left child.\n",
    "1. If the current token is in the list ['+','-','/','*'], set the root value of the current node to the operator represented by the current token. Add a new node as the right child of the current node and descend to the right child.\n",
    "1. If the current token is a number, set the root value of the current node to the number and return to the parent.\n",
    "1. If the current token is a ')', go to the parent of the current node.\n"
   ]
  },
  {
   "cell_type": "markdown",
   "metadata": {},
   "source": [
    "### Example\n",
    "\n",
    "Take $(3+(4*5))$."
   ]
  },
  {
   "cell_type": "markdown",
   "metadata": {},
   "source": [
    "This can be turned into a list of tokens:"
   ]
  },
  {
   "cell_type": "code",
   "execution_count": 44,
   "metadata": {},
   "outputs": [
    {
     "data": {
      "text/plain": [
       "['(', '3', '+', '(', '4', '*', '5', ')', ')']"
      ]
     },
     "execution_count": 44,
     "metadata": {},
     "output_type": "execute_result"
    }
   ],
   "source": [
    "[\"(\",\"3\",\"+\",\"(\",\"4\",\"*\",\"5\",\")\",\")\"]"
   ]
  },
  {
   "cell_type": "markdown",
   "metadata": {},
   "source": [
    "Follow the steps to construct the tree"
   ]
  },
  {
   "cell_type": "markdown",
   "metadata": {},
   "source": [
    "\n",
    "1. Create an empty tree.\n",
    "2. Read ( as the first token. By rule 1, create a new node as the left child of the root. Make the current node this new child.\n",
    "3. Read 3 as the next token. By rule 3, set the root value of the current node to 3 and go back up the tree to the parent.\n",
    "3. Read + as the next token. By rule 2, set the root value of the current node to + and add a new node as the right child. The new right child becomes the current node.\n",
    "3. Read a ( as the next token. By rule 1, create a new node as the left child of the current node. The new left child becomes the current node.\n",
    "3. Read a 4 as the next token. By rule 3, set the value of the current node to 4. Make the parent of 4 the current node.\n",
    "3. Read * as the next token. By rule 2, set the root value of the current node to * and create a new right child. The new right child becomes the current node.\n",
    "3. Read 5 as the next token. By rule 3, set the root value of the current node to 5. Make the parent of 5 the current node.\n",
    "3. Read ) as the next token. By rule 4 we make the parent of * the current node.\n",
    "3. Read ) as the next token. By rule 4 we make the parent of + the current node. At this point there is no parent for + so we are done.\n"
   ]
  },
  {
   "cell_type": "code",
   "execution_count": 45,
   "metadata": {},
   "outputs": [],
   "source": [
    "tree = {\"key\": \"+\",\n",
    "        \"left\": {\"key\": \"3\"}, #notice how the \"current node\" became a child\n",
    "        \"right\": {\"key\": \"*\",\n",
    "                  \"left\": {\"key\": \"4\"}, #notice how the \"current node\" became a child\n",
    "                  \"right\": {\"key\": \"5\"},\n",
    "                 },\n",
    "       }"
   ]
  },
  {
   "cell_type": "code",
   "execution_count": 46,
   "metadata": {},
   "outputs": [],
   "source": [
    "def read_tree(tree):\n",
    "    if \"left\" in tree:\n",
    "        read_tree(tree[\"left\"])\n",
    "    print(tree[\"key\"])\n",
    "    if \"right\" in tree:\n",
    "        read_tree(tree[\"right\"])    "
   ]
  },
  {
   "cell_type": "code",
   "execution_count": 47,
   "metadata": {},
   "outputs": [
    {
     "name": "stdout",
     "output_type": "stream",
     "text": [
      "3\n",
      "+\n",
      "4\n",
      "*\n",
      "5\n"
     ]
    }
   ],
   "source": [
    "read_tree(tree)"
   ]
  },
  {
   "cell_type": "markdown",
   "metadata": {},
   "source": [
    "- How to keep track of the parent?\n",
    "    - You can use a stack:\n",
    "        - push the current node into parent stack before descending to a child\n",
    "        - pop the parent stack whenever we want to return to the parent of the current node"
   ]
  },
  {
   "cell_type": "code",
   "execution_count": 48,
   "metadata": {},
   "outputs": [],
   "source": [
    "import operator #module that exports a set of operators as functions\n",
    "\n",
    "OPERATORS = {\n",
    "    \"+\": operator.add,\n",
    "    \"-\": operator.sub,\n",
    "    \"*\": operator.mul,\n",
    "    \"/\": operator.truediv, #floordiv is \"//\"\n",
    "}\n",
    "\n",
    "LEFT_PAREN = \"(\"\n",
    "RIGHT_PAREN = \")\"\n",
    "\n",
    "def build_parse_tree(expression):\n",
    "    tree = {}\n",
    "    stack = [tree]\n",
    "    node = tree\n",
    "    for token in expression:\n",
    "        if token == LEFT_PAREN:\n",
    "            node[\"left\"] = {}\n",
    "            stack.append(node)\n",
    "            node = node[\"left\"]\n",
    "        elif token == RIGHT_PAREN:\n",
    "            node = stack.pop()\n",
    "        elif token in OPERATORS:\n",
    "            node['val'] = token\n",
    "            node['right'] = {}\n",
    "            stack.append(node)\n",
    "            node = node['right']\n",
    "        else:\n",
    "            node['val'] = int(token)\n",
    "            node = stack.pop()   \n",
    "            \n",
    "    return tree"
   ]
  },
  {
   "cell_type": "code",
   "execution_count": 49,
   "metadata": {},
   "outputs": [],
   "source": [
    "tree = build_parse_tree(\"(3+(4*5))\")"
   ]
  },
  {
   "cell_type": "code",
   "execution_count": 50,
   "metadata": {},
   "outputs": [],
   "source": [
    "def read_tree(tree):\n",
    "    if \"left\" in tree:\n",
    "        read_tree(tree[\"left\"])\n",
    "    print(tree[\"val\"])\n",
    "    if \"right\" in tree:\n",
    "        read_tree(tree[\"right\"]) "
   ]
  },
  {
   "cell_type": "code",
   "execution_count": 51,
   "metadata": {},
   "outputs": [
    {
     "name": "stdout",
     "output_type": "stream",
     "text": [
      "3\n",
      "+\n",
      "4\n",
      "*\n",
      "5\n"
     ]
    }
   ],
   "source": [
    "read_tree(build_parse_tree([\"(\",\"3\",\"+\",\"(\",\"4\",\"*\",\"5\",\")\",\")\"]))"
   ]
  },
  {
   "cell_type": "code",
   "execution_count": 52,
   "metadata": {},
   "outputs": [],
   "source": [
    "def evaluate(tree):\n",
    "    if tree[\"val\"] in OPERATORS:\n",
    "        return OPERATORS[tree[\"val\"]](evaluate(tree[\"left\"]),evaluate(tree[\"right\"]))\n",
    "    return tree['val']"
   ]
  },
  {
   "cell_type": "code",
   "execution_count": 55,
   "metadata": {},
   "outputs": [
    {
     "data": {
      "text/plain": [
       "23"
      ]
     },
     "execution_count": 55,
     "metadata": {},
     "output_type": "execute_result"
    }
   ],
   "source": [
    "evaluate(tree)"
   ]
  },
  {
   "cell_type": "markdown",
   "metadata": {},
   "source": [
    "# Tree Traversals"
   ]
  },
  {
   "cell_type": "markdown",
   "metadata": {},
   "source": [
    "Traversal: A pattern for visiting all nodes in a tree\n",
    "- **preorder**: \n",
    "    - root\n",
    "    - recursive preorder of left subtree\n",
    "    - recursive preorder of right subtree\n",
    "- **inorder**: \n",
    "    - recursive inorder of left subtree\n",
    "    - root\n",
    "    - recursive inorder of right subtree\n",
    "- **postorder**: \n",
    "    - recursive postorder of left subtree\n",
    "    - recursive postorder of right subtree\n",
    "    - root"
   ]
  },
  {
   "cell_type": "code",
   "execution_count": 56,
   "metadata": {},
   "outputs": [],
   "source": [
    "def preorder(node):\n",
    "    if node:\n",
    "        print(node['val'])\n",
    "        preorder(node.get('left'))\n",
    "        preorder(node.get('right'))"
   ]
  },
  {
   "cell_type": "code",
   "execution_count": 57,
   "metadata": {},
   "outputs": [],
   "source": [
    "book = {\n",
    "    'val': 'The Book',\n",
    "    'left': {\n",
    "        'val': 'Chapter 1',\n",
    "        'left': {\n",
    "            'val': 'Section 1.1',\n",
    "        },\n",
    "        'right': {\n",
    "            'val': 'Section 1.2',\n",
    "            'left': {\n",
    "                'val': 'Section 1.2.1',\n",
    "            },\n",
    "            'right': {\n",
    "                'val': 'Section 1.2.2',\n",
    "            },\n",
    "        },\n",
    "    },\n",
    "    'right': {\n",
    "        'val': 'Chapter 2',\n",
    "        'left': {\n",
    "            'val': 'Section 2.1',\n",
    "        },\n",
    "        'right': {\n",
    "            'val': 'Section 2.2',\n",
    "            'left': {\n",
    "                'val': 'Section 2.2.1',\n",
    "            },\n",
    "            'right': {\n",
    "                'val': 'Section 2.2.2',\n",
    "            },\n",
    "        },\n",
    "    },\n",
    "}"
   ]
  },
  {
   "cell_type": "code",
   "execution_count": 58,
   "metadata": {},
   "outputs": [
    {
     "name": "stdout",
     "output_type": "stream",
     "text": [
      "The Book\n",
      "Chapter 1\n",
      "Section 1.1\n",
      "Section 1.2\n",
      "Section 1.2.1\n",
      "Section 1.2.2\n",
      "Chapter 2\n",
      "Section 2.1\n",
      "Section 2.2\n",
      "Section 2.2.1\n",
      "Section 2.2.2\n"
     ]
    }
   ],
   "source": [
    "preorder(book)"
   ]
  },
  {
   "cell_type": "markdown",
   "metadata": {},
   "source": [
    "- Preorder is just like reading a book, cover to cover!"
   ]
  },
  {
   "cell_type": "code",
   "execution_count": 59,
   "metadata": {},
   "outputs": [],
   "source": [
    "def postorder(node):\n",
    "    if node:\n",
    "        postorder(node.get('left'))\n",
    "        postorder(node.get('right'))\n",
    "        print(node['val'])\n"
   ]
  },
  {
   "cell_type": "code",
   "execution_count": 60,
   "metadata": {},
   "outputs": [
    {
     "name": "stdout",
     "output_type": "stream",
     "text": [
      "3\n",
      "4\n",
      "5\n",
      "*\n",
      "+\n"
     ]
    }
   ],
   "source": [
    "postorder(tree)"
   ]
  },
  {
   "cell_type": "code",
   "execution_count": 61,
   "metadata": {},
   "outputs": [],
   "source": [
    "def inorder(node):\n",
    "    if node:\n",
    "        inorder(node.get('left'))\n",
    "        print(node['val'])\n",
    "        inorder(node.get('right'))"
   ]
  },
  {
   "cell_type": "code",
   "execution_count": 62,
   "metadata": {},
   "outputs": [
    {
     "name": "stdout",
     "output_type": "stream",
     "text": [
      "3\n",
      "+\n",
      "4\n",
      "*\n",
      "5\n"
     ]
    }
   ],
   "source": [
    "inorder(tree) # We get the expression back... kind of"
   ]
  },
  {
   "cell_type": "markdown",
   "metadata": {},
   "source": [
    "Let's do better than the usual in order to construct the full expression"
   ]
  },
  {
   "cell_type": "code",
   "execution_count": 63,
   "metadata": {},
   "outputs": [],
   "source": [
    "def construct_expression(parse_tree):\n",
    "    if parse_tree is None:\n",
    "        return ''\n",
    "\n",
    "    left = construct_expression(parse_tree.get('left'))\n",
    "    right = construct_expression(parse_tree.get('right'))\n",
    "    val = parse_tree['val']\n",
    "\n",
    "    if left and right:\n",
    "        return '({} {} {})'.format(left, val, right)\n",
    "\n",
    "    return val\n"
   ]
  },
  {
   "cell_type": "code",
   "execution_count": 64,
   "metadata": {},
   "outputs": [
    {
     "data": {
      "text/plain": [
       "'(3 + (4 * 5))'"
      ]
     },
     "execution_count": 64,
     "metadata": {},
     "output_type": "execute_result"
    }
   ],
   "source": [
    "construct_expression(tree)"
   ]
  },
  {
   "cell_type": "code",
   "execution_count": 65,
   "metadata": {},
   "outputs": [
    {
     "data": {
      "text/plain": [
       "{'left': {'val': 3},\n",
       " 'val': '+',\n",
       " 'right': {'left': {'val': 4}, 'val': '*', 'right': {'val': 5}}}"
      ]
     },
     "execution_count": 65,
     "metadata": {},
     "output_type": "execute_result"
    }
   ],
   "source": [
    "tree"
   ]
  },
  {
   "cell_type": "code",
   "execution_count": 66,
   "metadata": {},
   "outputs": [
    {
     "data": {
      "text/plain": [
       "'((Section 1.1 Chapter 1 (Section 1.2.1 Section 1.2 Section 1.2.2)) The Book (Section 2.1 Chapter 2 (Section 2.2.1 Section 2.2 Section 2.2.2)))'"
      ]
     },
     "execution_count": 66,
     "metadata": {},
     "output_type": "execute_result"
    }
   ],
   "source": [
    "construct_expression(book)\n"
   ]
  },
  {
   "cell_type": "code",
   "execution_count": 67,
   "metadata": {},
   "outputs": [],
   "source": [
    "def construct_expression(parse_tree):\n",
    "    if parse_tree is None:\n",
    "        return 5\n",
    "    val = parse_tree['val']\n",
    "    left = construct_expression(parse_tree.get('left'))\n",
    "    right = construct_expression(parse_tree.get('right'))\n",
    "\n",
    "\n",
    "    if left and right:\n",
    "        return '({} {} {})'.format(left, val, right)\n",
    "\n",
    "    return val"
   ]
  },
  {
   "cell_type": "code",
   "execution_count": 68,
   "metadata": {},
   "outputs": [],
   "source": [
    "def inorder(parse_tree):\n",
    "    if parse_tree is None:\n",
    "        return \"\"\n",
    "    val = parse_tree['val']\n",
    "    left = inorder(parse_tree.get('left'))\n",
    "    right = inorder(parse_tree.get('right'))\n",
    "\n",
    "    if left and right:\n",
    "        return '{}\\n{}\\n{}'.format(val, left, right)\n",
    "\n",
    "    return val"
   ]
  },
  {
   "cell_type": "code",
   "execution_count": 69,
   "metadata": {},
   "outputs": [
    {
     "name": "stdout",
     "output_type": "stream",
     "text": [
      "The Book\n",
      "Chapter 1\n",
      "Section 1.1\n",
      "Section 1.2\n",
      "Section 1.2.1\n",
      "Section 1.2.2\n",
      "Chapter 2\n",
      "Section 2.1\n",
      "Section 2.2\n",
      "Section 2.2.1\n",
      "Section 2.2.2\n"
     ]
    }
   ],
   "source": [
    "print(inorder(book))"
   ]
  },
  {
   "cell_type": "code",
   "execution_count": 70,
   "metadata": {},
   "outputs": [
    {
     "data": {
      "text/plain": [
       "'The Book\\nChapter 1\\nSection 1.1\\nSection 1.2\\nSection 1.2.1\\nSection 1.2.2\\nChapter 2\\nSection 2.1\\nSection 2.2\\nSection 2.2.1\\nSection 2.2.2'"
      ]
     },
     "execution_count": 70,
     "metadata": {},
     "output_type": "execute_result"
    }
   ],
   "source": [
    "inorder(book)"
   ]
  },
  {
   "cell_type": "markdown",
   "metadata": {},
   "source": [
    "*NOTE*: This is the first time I am seeing tree traversal written as a recursion with a return statement."
   ]
  },
  {
   "cell_type": "markdown",
   "metadata": {},
   "source": [
    "#  Priority Queues with Binary Heaps "
   ]
  },
  {
   "cell_type": "markdown",
   "metadata": {},
   "source": [
    "- A **priority queue** acts like a queue in that items remain in it for some time before being dequeued\n",
    "    - logical order of items inside a queue is determined by their “priority”\n",
    "    - the highest priority items are retrieved from the queue ahead of lower priority items\n",
    "    - useful data structure for specific algorithms such as Dijkstra’s shortest path algorithm\n",
    "    - examples: message queues or tasks queues\n",
    "- A **binary heap** will allow us to enqueue or dequeue items $O(\\log{n})$\n",
    "    - the diagram looks a lot like a tree\n",
    "    - implementation uses a single dynamic array (such as a Python list) \n",
    "    - two common variations\n",
    "        - *min heap*: smallest key always at front\n",
    "        - *max heap*: largest key always at the front. \n",
    "    - In this section we will implement the min heap, but the max heap is implemented in the same way.\n",
    "- The basic operations we will implement for our binary heap are:\n",
    "    - BinaryHeap(): create a new, empty, binary heap.\n",
    "    - insert(k): adds a new item to the heap.\n",
    "    - find_min(): returns the item with the minimum key value, leaving item in the heap.\n",
    "    - del_min(): returns the item with the minimum key value, removing the item from the heap.\n",
    "    - is_empty(): returns true if the heap is empty, false otherwise.\n",
    "    - size(): returns the number of items in the heap.\n",
    "    - build_heap(list): builds a new heap from a list of keys.\n"
   ]
  },
  {
   "cell_type": "markdown",
   "metadata": {},
   "source": [
    "## The Structure Property of heaps"
   ]
  },
  {
   "cell_type": "markdown",
   "metadata": {},
   "source": [
    "- heap is represented by balanced binary tree to use loagarithmic nature In order to guarantee logarithmic performance, we must keep our tree balanced. \n",
    "    - A balanced binary tree has roughly the same number of nodes in the left and right subtrees of the root. \n",
    "- In our heap implementation we keep the tree balanced by creating a complete binary tree. \n",
    "    - **complete binary tree** a tree such that\n",
    "        - all but the bottom each level has all of its nodes \n",
    "        - the bottom level of the tree is filled from left to right"
   ]
  },
  {
   "cell_type": "code",
   "execution_count": 71,
   "metadata": {},
   "outputs": [
    {
     "data": {
      "text/html": [
       "<img src=\"https://bradfieldcs.com/algos/trees/priority-queues-with-binary-heaps/figures/complete-binary-tree.png\"/>"
      ],
      "text/plain": [
       "<IPython.core.display.Image object>"
      ]
     },
     "execution_count": 71,
     "metadata": {},
     "output_type": "execute_result"
    }
   ],
   "source": [
    "Image(url=\"https://bradfieldcs.com/algos/trees/priority-queues-with-binary-heaps/figures/complete-binary-tree.png\")"
   ]
  },
  {
   "cell_type": "markdown",
   "metadata": {},
   "source": [
    "Commplete tree can be represented by a single list. \n",
    "- At index 0, we put a placeholder 0. This is not part of the data.\n",
    "- If parent is at index $p$:\n",
    "    - left child: $2p$ \n",
    "    - right child: $2p + 1$ \n",
    "- If a child is at index $k$:\n",
    "    - parent: $k // 2$\n",
    "    \n"
   ]
  },
  {
   "cell_type": "markdown",
   "metadata": {},
   "source": [
    "The list representation of the tree above is\n",
    "\n",
    "    [0, 5, 9, 11, 14, 18, 19, 21, 33, 17, 27]"
   ]
  },
  {
   "cell_type": "markdown",
   "metadata": {},
   "source": [
    "## Heap Operations"
   ]
  },
  {
   "cell_type": "code",
   "execution_count": 72,
   "metadata": {},
   "outputs": [],
   "source": [
    "class BinaryHeap:\n",
    "    \n",
    "    def __init__(self):\n",
    "        self.items = [0]\n",
    "        \n",
    "    def __len__(self):\n",
    "        return len(self.items) - 1\n",
    "    \n",
    "    def percolate_up(self):\n",
    "        i = len(self) # Index of the last element\n",
    "        while i // 2 > 0:\n",
    "            if self.items[i] < self.items[i // 2]: # if current val is smaller than parent\n",
    "                self.items[i // 2], self.items[i] = self.items[i], self.items[i // 2] # swap parent and child\n",
    "                i = i // 2\n",
    "            else:\n",
    "                break\n",
    "\n",
    "    def insert(self, k):\n",
    "        self.items.append(k)\n",
    "        self.percolate_up() # So that the heap property is preserved\n",
    "        \n",
    "    def percolate_down(self, i):\n",
    "        while 2*i <= len(self): # As long as the node has a child\n",
    "            mc = self.min_child(i)\n",
    "            if self.items[i] > self.items[mc]:\n",
    "                self.items[i], self.items[mc] = self.items[mc], self.items[i]\n",
    "            i = mc\n",
    "                    \n",
    "    def min_child(self, i):\n",
    "        if 2*i + 1 > len(self): #If there is no right child\n",
    "            return 2*i\n",
    "        \n",
    "        if self.items[2*i + 1] > self.items[2*i]: \n",
    "            return 2*i\n",
    "    \n",
    "        return 2*i + 1\n",
    "    \n",
    "    def delete_min(self):\n",
    "        return_val = self.items[1]\n",
    "        self.items[1] = self.items[len(self)]\n",
    "        self.items.pop()\n",
    "        self.percolate_down(1)\n",
    "        return return_val\n",
    "    \n",
    "    def build_heap(self, alist):\n",
    "        i = len(alist) // 2\n",
    "        self.items = [0] + alist\n",
    "        while i > 0:\n",
    "            print(self.items)\n",
    "            self.percolate_down(i)\n",
    "            i -= 1\n"
   ]
  },
  {
   "cell_type": "markdown",
   "metadata": {},
   "source": [
    "- delete_min method:\n",
    "    - the heap property requires that the root of the tree be the smallest item in the tree\n",
    "    - The hard part of delete_min is \n",
    "        - restoring full compliance with the heap structure and heap order properties after the root has been removed\n",
    "    - We can restore our heap in two steps:\n",
    "        1. Restore the root item by taking the last item in the list and moving it to the root position. \n",
    "            - maintains heap structure property\n",
    "            - probably destroyed the heap order property of our binary heap. \n",
    "        2. Restore the heap order property by pushing the new root node down the tree to its proper position. "
   ]
  },
  {
   "cell_type": "code",
   "execution_count": 73,
   "metadata": {},
   "outputs": [],
   "source": [
    "test = BinaryHeap()"
   ]
  },
  {
   "cell_type": "code",
   "execution_count": 74,
   "metadata": {},
   "outputs": [
    {
     "name": "stdout",
     "output_type": "stream",
     "text": [
      "[0, 1, 9, 4, 3, 1, 1, 2, 2, 2, 8, 2, 3]\n",
      "[0, 1, 9, 4, 3, 1, 1, 2, 2, 2, 8, 2, 3]\n",
      "[0, 1, 9, 4, 3, 1, 1, 2, 2, 2, 8, 2, 3]\n",
      "[0, 1, 9, 4, 2, 1, 1, 2, 2, 3, 8, 2, 3]\n",
      "[0, 1, 9, 1, 2, 1, 3, 2, 2, 3, 8, 2, 4]\n",
      "[0, 1, 1, 1, 2, 2, 3, 2, 2, 3, 8, 9, 4]\n"
     ]
    }
   ],
   "source": [
    "test.build_heap([1,9,4, 3, 1,1,2,2,2,8, 2,3])"
   ]
  },
  {
   "cell_type": "markdown",
   "metadata": {},
   "source": [
    "- Build-heap takes [$O(n)$ runtime](https://www.cs.umd.edu/~meesh/351/mount/lectures/lect14-heapsort-analysis-part.pdf). The computation is an easy application of the geometric series."
   ]
  },
  {
   "cell_type": "markdown",
   "metadata": {},
   "source": [
    "In a nutshell, we cound the number of swaps that must be performed.\n",
    "\n",
    "- For a node at height $h$ will require $h$ swaps at most.\n",
    "- Most of the time, that node has 2 children that require $h - 1$ swaps.\n",
    "\n",
    "So the total number of swaps, if $h$ is the total height of the tree, is:\n",
    "\n",
    "$$ h + (h-1)*2 + (h - 2)*2^2 + \\dots = \\sum_{k = 1}^h k 2^{h - k} \\le \\sum_{k = 1}^\\infty k 2^{h - k} = 2^{h+1}$$\n",
    "\n"
   ]
  },
  {
   "cell_type": "markdown",
   "metadata": {},
   "source": [
    "# Binary Search Trees"
   ]
  },
  {
   "cell_type": "markdown",
   "metadata": {},
   "source": [
    "Two ways to implement the **map** abstract data type:\n",
    "    - binary search on a list\n",
    "    - hash tables\n",
    "  \n",
    "The binary tree is another focused on efficient searching"
   ]
  },
  {
   "cell_type": "markdown",
   "metadata": {},
   "source": [
    "Map ADT (very similar to Python dict):\n",
    "- Map(): create a new empty map\n",
    "- put(key, val): add a new key-value pair; update val if key exists\n",
    "- get(key): return val stored; None otherwise\n",
    "- del: delete key-value pair (del map[key])\n",
    "- len(): number of key-val pairs\n",
    "- in: `key in map` returns True iff key is in the map\n"
   ]
  },
  {
   "cell_type": "markdown",
   "metadata": {},
   "source": [
    "## Implementation"
   ]
  },
  {
   "cell_type": "markdown",
   "metadata": {},
   "source": [
    "- **BST property**:\n",
    "    - parent >= max(left-subtree)\n",
    "    - parent <= min(right-subtree)"
   ]
  },
  {
   "cell_type": "markdown",
   "metadata": {},
   "source": [
    "- We could use dicts to implement, but \n",
    "    - doing so presupposes that we have the structure we are trying to implement"
   ]
  },
  {
   "cell_type": "markdown",
   "metadata": {},
   "source": [
    "- Will use two classes:\n",
    "    - `TreeNode`: house the lower level logic to construct and manipulate the three\n",
    "        - will provide helper functions to make BST methods easier\n",
    "    - `BinarySearchTree` to hold a reference to the root node and provide a map-like interface"
   ]
  },
  {
   "cell_type": "markdown",
   "metadata": {},
   "source": [
    "## Tree Node class"
   ]
  },
  {
   "cell_type": "code",
   "execution_count": 88,
   "metadata": {},
   "outputs": [],
   "source": [
    "class TreeNode:\n",
    "    \n",
    "    def __init__(self, key, val, left=None, right=None, parent=None):\n",
    "        self.key = key\n",
    "        self.val = val\n",
    "        self.left = left\n",
    "        self.right = right\n",
    "        self.parent = parent\n",
    "    \n",
    "    def is_left_child(self):\n",
    "        return self.parent and self.parent.left == self\n",
    "    \n",
    "    def is_right_child(self):\n",
    "        return self.parent and self.parent.right == self\n",
    "    \n",
    "    def is_leaf(self):\n",
    "        return not (self.right or self.left)\n",
    "    \n",
    "    def has_any_children(self):\n",
    "        return (self.right or self.left)\n",
    "    \n",
    "    def has_both_children(self):\n",
    "        return (self.right and self.left)\n",
    "    \n",
    "    def has_one_child(self):\n",
    "        return self.has_any_children() and not self.has_both_children()\n",
    "    \n",
    "    def replace_node_data(self, key, val, left, right):\n",
    "        self.key = key\n",
    "        self.val = val\n",
    "        self.left = left\n",
    "        self.right = right\n",
    "        \n",
    "        #The new children (if any) need to learn who the new parent is\n",
    "        \n",
    "        if self.left: \n",
    "            self.left.parent = self\n",
    "        if self.right:\n",
    "            self.right.parent = self\n",
    "            \n",
    "    def __iter__(self):\n",
    "        if self is None:\n",
    "            return\n",
    "        \n",
    "        if self.left:\n",
    "            # `in` calls `__iter__`, so this is recursive\n",
    "            for elem in self.left:\n",
    "                yield elem\n",
    "                \n",
    "        yield self.key\n",
    "        \n",
    "        if self.right:\n",
    "            for elem in self.right:\n",
    "                yield elem\n",
    "    \n",
    "    def find_min(self):\n",
    "        current = self\n",
    "        while current.left:\n",
    "            current = current.left\n",
    "        return current\n",
    "    \n",
    "    def find_successor(self):\n",
    "        # Find the next largest node\n",
    "        \n",
    "        if self.right:\n",
    "            # Find the smallest node to the right\n",
    "            return self.right.find_min()\n",
    "        \n",
    "        if self.parent is None:\n",
    "            # A node with no right child and no parent is max\n",
    "            return None\n",
    "        \n",
    "        if self.is_left_child():\n",
    "            # A left-child with no right child, with a parent\n",
    "            # The parent is the next big thing\n",
    "            return self.parent\n",
    "    \n",
    "    def splice_out(self):\n",
    "        if self.is_leaf():\n",
    "            # If a node is a leaf, then sever ties with parent\n",
    "            if self.is_left_child():\n",
    "                self.parent.left = None\n",
    "            else:\n",
    "                self.parent.right = None\n",
    "        \n",
    "        else:\n",
    "            # Pick left node if it exists.\n",
    "            # if left node doesn't exist, pick right node\n",
    "            promoted_node = self.left or self.right \n",
    "            \n",
    "            if self.is_left_child():\n",
    "                self.parent.left = promoted_node\n",
    "            else:\n",
    "                self.parent.right = promoted_node\n",
    "            \n",
    "            promoted_node.parent = self.parent\n",
    "            \n",
    "       "
   ]
  },
  {
   "cell_type": "markdown",
   "metadata": {},
   "source": [
    "### Quick note on iterators"
   ]
  },
  {
   "cell_type": "markdown",
   "metadata": {},
   "source": [
    "A python iterator object must have the **interator protocol**, aka following methods:\n",
    "- __iter__()\n",
    "    - returns an iterator from an object\n",
    "- __next__()\n",
    "    - returns the next item in the seq\n",
    "    - on reaching the end, it must raise stop Iteration\n",
    "\n",
    "An object is iterable if we can get an iterator"
   ]
  },
  {
   "cell_type": "code",
   "execution_count": 80,
   "metadata": {},
   "outputs": [
    {
     "name": "stdout",
     "output_type": "stream",
     "text": [
      "I\n",
      " \n",
      "a\n",
      "m\n",
      " \n",
      "a\n",
      " \n",
      "f\n",
      "i\n",
      "s\n",
      "h\n",
      "Done\n"
     ]
    }
   ],
   "source": [
    "my_list = \"I am a fish\"\n",
    "my_iter = iter(my_list)\n",
    "while True:\n",
    "    try:\n",
    "        print(next(my_iter))\n",
    "    except:\n",
    "        print(\"Done\")\n",
    "        break"
   ]
  },
  {
   "cell_type": "markdown",
   "metadata": {},
   "source": [
    "The while loop abvoe is actually how `for` is implemented in Python."
   ]
  },
  {
   "cell_type": "code",
   "execution_count": 81,
   "metadata": {},
   "outputs": [],
   "source": [
    "class PowTwo:\n",
    "    \n",
    "    def __init__(self, max = 0):\n",
    "        self.max = max\n",
    "        \n",
    "    def __iter__(self):\n",
    "        self.n = 0\n",
    "        return self\n",
    "    \n",
    "    def __next__(self):\n",
    "        if self.n <= self.max:\n",
    "            res = 2**self.n\n",
    "            self.n += 1\n",
    "            return res # this is the next value\n",
    "        else:\n",
    "            raise StopIteration"
   ]
  },
  {
   "cell_type": "code",
   "execution_count": 82,
   "metadata": {},
   "outputs": [
    {
     "name": "stdout",
     "output_type": "stream",
     "text": [
      "1\n",
      "2\n",
      "4\n",
      "8\n",
      "16\n",
      "32\n"
     ]
    }
   ],
   "source": [
    "test = PowTwo(5)\n",
    "test_iter = iter(test)\n",
    "for x in test_iter:\n",
    "    print(x)"
   ]
  },
  {
   "cell_type": "code",
   "execution_count": 85,
   "metadata": {},
   "outputs": [],
   "source": [
    "x = 1 or 2"
   ]
  },
  {
   "cell_type": "code",
   "execution_count": 86,
   "metadata": {},
   "outputs": [
    {
     "data": {
      "text/plain": [
       "1"
      ]
     },
     "execution_count": 86,
     "metadata": {},
     "output_type": "execute_result"
    }
   ],
   "source": [
    "x"
   ]
  },
  {
   "cell_type": "markdown",
   "metadata": {},
   "source": [
    "## Binary Search Tree class"
   ]
  },
  {
   "cell_type": "markdown",
   "metadata": {},
   "source": [
    "- Core functionality will be to enable `put`ing to and `get`ing from the three.\n",
    "- to allow assigments of `tree[1] = 'foo'`, must override the `__setitem__` magic method.\n",
    "- to allow retrieval via `tree[1]`, must override the `__getitem__` magic method."
   ]
  },
  {
   "cell_type": "markdown",
   "metadata": {},
   "source": [
    "How `put` works:\n",
    "- Does tree have a root?\n",
    "    - No: Create a new TreeNode and set it as the root\n",
    "    - Yes: search the tree:\n",
    "        - starting from root, compare key.\n",
    "            - if new key is less, go left\n",
    "            - if new key is greater, go right\n",
    "            - if new key is the same, then overwrite\n",
    "        - there is no child, then this is where the node is needed\n",
    "        - use TreeNode to insert\n",
    "        \n",
    "How `get` works:\n",
    "- Does tree have a root?\n",
    "    - No: there is nothing to get\n",
    "    - Yes: search the tree:\n",
    "        - start from root, compare key.\n",
    "            - if new key is the same, then you are good!\n",
    "            - if new key is less, go left\n",
    "            - if new key is greater, go right"
   ]
  },
  {
   "cell_type": "code",
   "execution_count": 161,
   "metadata": {},
   "outputs": [],
   "source": [
    "class BinarySearchTree:\n",
    "    \n",
    "    TreeNodeClass = TreeNode\n",
    "    \n",
    "    def __init__(self):\n",
    "        self.root = None\n",
    "        self.size = 0\n",
    "    \n",
    "    def __len__(self):\n",
    "        return self.size\n",
    "    \n",
    "    def __iter__(self):\n",
    "        return self.root.__iter__() # Use the __iter__ method of tree node\n",
    "\n",
    "    def __setitem__(self, key, val):\n",
    "        if self.root:\n",
    "            self._put(key, val, self.root)\n",
    "        else:\n",
    "            self.root = self.TreeNodeClass(key, val)\n",
    "        self.size +=1\n",
    "        \n",
    "    def _put(self, key, val, node):\n",
    "        if key < node.key:\n",
    "            if node.left:\n",
    "                self._put(key, val, node.left)\n",
    "            else:\n",
    "                node.left = self.TreeNodeClass(key, val, parent=node)\n",
    "        elif key > node.key:\n",
    "            if node.right:\n",
    "                self._put(key, val, node.right)\n",
    "            else:\n",
    "                node.right = self.TreeNodeClass(key, val, parent=node)\n",
    "        else:\n",
    "            node = self.TreeNodeClass(key, val, parent=node.parent)\n",
    "            self.size -=1\n",
    "    \n",
    "    def __getitem__(self, key):\n",
    "        if self.root:\n",
    "            result = self._get(key, self.root)\n",
    "            if result:\n",
    "                return result.val\n",
    "        \n",
    "        raise KeyError\n",
    "        \n",
    "    def _get(self, key, node):\n",
    "        if not node:\n",
    "            return None\n",
    "        if node.key == key:\n",
    "            return node\n",
    "        if key < node.key:\n",
    "            return self._get(key, node.left)\n",
    "        return self._get(key, node.right)\n",
    "    \n",
    "    # Implement the \"in\" operation with __contains__ method\n",
    "    \n",
    "    def __contains__(self, key):\n",
    "        return bool(self._get(key, self.root))\n",
    "    \n",
    "    def delete(self, key):\n",
    "        if self.size > 1:\n",
    "            # First, grab the node that corresponds to the key\n",
    "            node_to_remove = self._get(key, self.root)\n",
    "            \n",
    "            # if there is a result, let's remove that node\n",
    "            if node_to_remove: \n",
    "                self.remove(node_to_remove)\n",
    "                self.size -= 1\n",
    "                # ...and we are done\n",
    "                return \n",
    "\n",
    "        # pesky edge case\n",
    "        elif self.size == 1 and self.root.key == key:\n",
    "            self.root = None\n",
    "            self.size = 0\n",
    "        \n",
    "        raise KeyError('Error, key not in tree')\n",
    "    \n",
    "    def remove(self, node):\n",
    "        # There are 3 cases to consider:    \n",
    "        # Case 1: no children\n",
    "        # Case 2: one child\n",
    "        # Case 3: two children\n",
    "        \n",
    "        # Case 1: no chilren\n",
    "        if node.is_leaf() and node.parent is not None:\n",
    "            if node == node.parent.left:\n",
    "                node.parent.left = None\n",
    "            else:\n",
    "                node.parent.right = None\n",
    "                \n",
    "        # Case 2: one child\n",
    "        elif node.has_one_child():\n",
    "            promoted_node = node.left or node.right\n",
    "            \n",
    "            if node.is_left_child():\n",
    "                promoted_node.parent = node.parent\n",
    "                node.parent.left = promoted_node\n",
    "            \n",
    "            elif node.is_right_child():\n",
    "                promoted_node.parent = node.parent\n",
    "                node.parent.right = promoted_node\n",
    "            \n",
    "            # node removing is root\n",
    "            else:\n",
    "                node.replace_node_data(\n",
    "                    promoted_node.key,\n",
    "                    promoted_node.val,\n",
    "                    promoted_node.left,\n",
    "                    promoted_node.right,\n",
    "                )\n",
    "        \n",
    "        # Case 3: two children\n",
    "        # Method used in case 2 does not work\n",
    "        # Need to grab the successor fof the node being removed\n",
    "        else:\n",
    "            successor = node.find_successor()\n",
    "            successor.splice_out()\n",
    "            \n",
    "            # I just need to take the successor's key and val\n",
    "            # No need to change anything else\n",
    "            node.key = successor.key\n",
    "            node.val = successor.val\n",
    "                \n",
    "    # Implement the \"del\" operation with __delitems__ method\n",
    "    \n",
    "    def __delitem__(self, key):\n",
    "        self.delete(key)"
   ]
  },
  {
   "cell_type": "code",
   "execution_count": 162,
   "metadata": {},
   "outputs": [
    {
     "data": {
      "text/html": [
       "<img src=\"https://bradfieldcs.com/algos/trees/binary-search-trees/figures/binary-search-tree-delete-3.png\"/>"
      ],
      "text/plain": [
       "<IPython.core.display.Image object>"
      ]
     },
     "execution_count": 162,
     "metadata": {},
     "output_type": "execute_result"
    }
   ],
   "source": [
    "Image(url = \"https://bradfieldcs.com/algos/trees/binary-search-trees/figures/binary-search-tree-delete-3.png\")"
   ]
  },
  {
   "cell_type": "code",
   "execution_count": 163,
   "metadata": {},
   "outputs": [],
   "source": [
    "test = BinarySearchTree()"
   ]
  },
  {
   "cell_type": "code",
   "execution_count": 164,
   "metadata": {},
   "outputs": [],
   "source": [
    "test[17] = 'bob'\n",
    "test[5] = 'b'\n",
    "test[2] = 'c'\n",
    "test[16] = 'd'"
   ]
  },
  {
   "cell_type": "code",
   "execution_count": 165,
   "metadata": {},
   "outputs": [
    {
     "data": {
      "text/plain": [
       "<__main__.BinarySearchTree at 0x10cc870b8>"
      ]
     },
     "execution_count": 165,
     "metadata": {},
     "output_type": "execute_result"
    }
   ],
   "source": [
    "test"
   ]
  },
  {
   "cell_type": "code",
   "execution_count": 170,
   "metadata": {},
   "outputs": [
    {
     "name": "stdout",
     "output_type": "stream",
     "text": [
      "2 c\n",
      "17 bob\n"
     ]
    }
   ],
   "source": [
    "for x in test:\n",
    "    print(x, test[x])"
   ]
  },
  {
   "cell_type": "code",
   "execution_count": 167,
   "metadata": {},
   "outputs": [],
   "source": [
    "test.delete(5)"
   ]
  },
  {
   "cell_type": "code",
   "execution_count": 169,
   "metadata": {},
   "outputs": [],
   "source": [
    "del test[16]"
   ]
  },
  {
   "cell_type": "markdown",
   "metadata": {},
   "source": [
    "## Analysis of methods"
   ]
  },
  {
   "cell_type": "markdown",
   "metadata": {},
   "source": [
    "### put\n",
    "\n"
   ]
  }
 ],
 "metadata": {
  "kernelspec": {
   "display_name": "Python 3",
   "language": "python",
   "name": "python3"
  },
  "language_info": {
   "codemirror_mode": {
    "name": "ipython",
    "version": 3
   },
   "file_extension": ".py",
   "mimetype": "text/x-python",
   "name": "python",
   "nbconvert_exporter": "python",
   "pygments_lexer": "ipython3",
   "version": "3.7.2"
  }
 },
 "nbformat": 4,
 "nbformat_minor": 2
}
