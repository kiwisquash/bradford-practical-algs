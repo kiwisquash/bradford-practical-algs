{
 "cells": [
  {
   "cell_type": "markdown",
   "metadata": {},
   "source": [
    "Searching in Python is really easy:\n",
    "- `x in thing` returns `True` or `False`"
   ]
  },
  {
   "cell_type": "markdown",
   "metadata": {},
   "source": [
    "# Sequential search"
   ]
  },
  {
   "cell_type": "markdown",
   "metadata": {},
   "source": [
    "- Start from the first item, and check the items one-by-one\n",
    "- A data structure like a linked list would use sequential search"
   ]
  },
  {
   "cell_type": "markdown",
   "metadata": {},
   "source": [
    "## Analysis: No order assumption"
   ]
  },
  {
   "cell_type": "markdown",
   "metadata": {},
   "source": [
    "If the item is in the list:\n",
    "- Best: $O(1)$\n",
    "- Worst: $O(n)$\n",
    "- Average: $O(n)$\n",
    "\n",
    "If the item is not in the list:\n",
    "- Best/Worst/Average: $O(n)$ (We won't know unless we checked every single item)"
   ]
  },
  {
   "cell_type": "markdown",
   "metadata": {},
   "source": [
    "## Analysis: Ordered list"
   ]
  },
  {
   "cell_type": "markdown",
   "metadata": {},
   "source": [
    "- Best: $O(1)$\n",
    "- Worst/Average: $O(n)$"
   ]
  },
  {
   "cell_type": "markdown",
   "metadata": {},
   "source": [
    "When the list is ordered (say increasing), if the item being searched for is too big or too small, we can know right away whether that the item does not belong."
   ]
  },
  {
   "cell_type": "markdown",
   "metadata": {},
   "source": [
    "# Binary search"
   ]
  },
  {
   "cell_type": "markdown",
   "metadata": {},
   "source": [
    "(For simplicity, will assume ascending order)\n",
    "\n",
    "- Compare with the middle\n",
    "    - if too big, compare with middle of the upper half\n",
    "    - if too small, compare with middle of the lower hallf\n",
    "    - repeat until match is found\n"
   ]
  },
  {
   "cell_type": "code",
   "execution_count": 39,
   "metadata": {},
   "outputs": [],
   "source": [
    "def binary_search(x, arr, i, j):\n",
    "    if j < i:\n",
    "        return False\n",
    "    if j == i:\n",
    "        return arr[i] == x\n",
    "    mid = (i + j)//2\n",
    "    if arr[mid] == x: return True\n",
    "    if arr[mid] > x:\n",
    "        return binary_search(x, arr, i, mid - 1)\n",
    "    return binary_search(x, arr, mid + 1, j)\n",
    "        "
   ]
  },
  {
   "cell_type": "code",
   "execution_count": 47,
   "metadata": {},
   "outputs": [
    {
     "data": {
      "text/plain": [
       "False"
      ]
     },
     "execution_count": 47,
     "metadata": {},
     "output_type": "execute_result"
    }
   ],
   "source": [
    "binary_search(8, [1,3,4,5,7], 0, 4)"
   ]
  },
  {
   "cell_type": "markdown",
   "metadata": {},
   "source": [
    "- Average/Worst Runtime: $O(\\log(n))$ \n",
    "    - If we use slicing, the slicing take $O(k)$ time and we won't actually get a log time\n",
    "- Memory also costs $O(\\log(n))$ with recursion"
   ]
  },
  {
   "cell_type": "markdown",
   "metadata": {},
   "source": [
    "# Hashing "
   ]
  },
  {
   "cell_type": "markdown",
   "metadata": {},
   "source": [
    "A data structure where items can be searched in $O(1)$ time."
   ]
  },
  {
   "cell_type": "markdown",
   "metadata": {},
   "source": [
    "- **hash table**: collection of items which are stored in such a way as to make it easy to find them later.\n",
    "    - Each position of the hash table, often called a **slot**, can hold an item and is named by an integer value starting at 0. \n",
    "- **hash function**: mapping between an item and the slot where that item belongs in the hash table.\n",
    "- **load factor**: number of items / hash table size"
   ]
  },
  {
   "cell_type": "markdown",
   "metadata": {},
   "source": [
    "To search, \n",
    "- use the hash function to compute the hash value,\n",
    "- use the hash value to look up the value in the hash table"
   ]
  },
  {
   "cell_type": "markdown",
   "metadata": {},
   "source": [
    "- **collision**: hash function fails to be injective\n",
    "- **perfect hash function**: given a collection of items, maps each item into a unique slot\n",
    "    - given an arbitrary collection of items, there is no systematic way to construct a perfect hash function. "
   ]
  },
  {
   "cell_type": "markdown",
   "metadata": {},
   "source": [
    "## Collision resolution\n",
    "- **rehash**\n",
    "    - **linear probing**: Find another slot that is open that is a constnat distance away\n",
    "    - **quadratic probing**: Find another slot that is open that is n^2 distance away, where n is the number of rehasing\n",
    "- **chaining**\n",
    "    - slots hold reference to head of a linked list.\n",
    "    - new items added to the head"
   ]
  },
  {
   "cell_type": "code",
   "execution_count": null,
   "metadata": {},
   "outputs": [],
   "source": []
  }
 ],
 "metadata": {
  "kernelspec": {
   "display_name": "Python 3",
   "language": "python",
   "name": "python3"
  },
  "language_info": {
   "codemirror_mode": {
    "name": "ipython",
    "version": 3
   },
   "file_extension": ".py",
   "mimetype": "text/x-python",
   "name": "python",
   "nbconvert_exporter": "python",
   "pygments_lexer": "ipython3",
   "version": "3.7.2"
  }
 },
 "nbformat": 4,
 "nbformat_minor": 2
}
