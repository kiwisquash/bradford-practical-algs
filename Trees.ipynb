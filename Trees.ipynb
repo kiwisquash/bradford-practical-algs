{
 "cells": [
  {
   "cell_type": "code",
   "execution_count": 66,
   "metadata": {},
   "outputs": [],
   "source": [
    "import pprint"
   ]
  },
  {
   "cell_type": "markdown",
   "metadata": {},
   "source": [
    "# Basics\n",
    "- root\n",
    "    - root is at the top\n",
    "- branches\n",
    "- leaves"
   ]
  },
  {
   "cell_type": "markdown",
   "metadata": {},
   "source": [
    "# Properties"
   ]
  },
  {
   "cell_type": "markdown",
   "metadata": {},
   "source": [
    "1. Trees are hierarchical\n",
    "2. Children of one node are indeendent of the children of the other node\n",
    "3. Each leaf is unique"
   ]
  },
  {
   "cell_type": "markdown",
   "metadata": {},
   "source": [
    "    <html>\n",
    "    <head>\n",
    "        <title>simple</title>\n",
    "    </head>\n",
    "    <body>\n",
    "        <h1>A simple web page</h1>\n",
    "        <ul>\n",
    "            <li>List item one</li>\n",
    "            <li>List item two</li>\n",
    "        </ul>\n",
    "        <h2><a href=\"https://www.google.com\">Google</a><h2>\n",
    "    </body>\n",
    "    </html>\n"
   ]
  },
  {
   "cell_type": "markdown",
   "metadata": {},
   "source": [
    "    html -> head -> title\n",
    "        -> body -> h1\n",
    "                -> ul -> li\n",
    "                      -> li\n",
    "                -> h2 -> a\n"
   ]
  },
  {
   "cell_type": "markdown",
   "metadata": {},
   "source": [
    "# Definitions"
   ]
  },
  {
   "cell_type": "markdown",
   "metadata": {},
   "source": [
    "- *Node*: \n",
    "    - It can have a unique name (“key.”) \n",
    "    - A node may also have additional information(“payload.”)\n",
    "        - not central to many tree algorithms, it is often critical in applications that make use of trees.\n",
    "- *Edge*:\n",
    "    - An edge connects two nodes to show that there is a relationship between them. \n",
    "    - Every node other than the root is connected by exactly one incoming edge from another node. \n",
    "    - Each node may have several outgoing edges.\n",
    "- *Root*:\n",
    "    - The root of the tree is the only node in the tree that has no incoming edges.\n",
    "- *Path*:\n",
    "    - A path is an ordered list of nodes that are connected by edges. \n",
    "- *Children, Parent, Sibling*: They mean what you think they mean\n",
    "- *Leaf Node*: Node with no children\n",
    "- *Level*: Number of edges from the root\n",
    "- *Height*: Max level"
   ]
  },
  {
   "cell_type": "markdown",
   "metadata": {},
   "source": [
    "# Formal definition of a tree\n",
    "1. Non-recursive def:\n",
    "    - a set of nodes and a set of edges that connect pairs of nodes with the following properties:\n",
    "        - one root node\n",
    "        - Every node $n$, except the root node, is connected by an edge from exactly one other node $p$\n",
    "        - A unique path traverses from the root to each node.\n",
    "\n",
    "2. Recursive def: \n",
    "    - A tree is either empty or consists of a root and zero or more subtrees, each of which is also a tree. \n",
    "    - The root of each subtree is connected to the root of the parent tree by an edge.\n",
    "\n",
    "Note: If each node in the tree has a maximum of two children, we say that the tree is a binary tree.\n"
   ]
  },
  {
   "cell_type": "markdown",
   "metadata": {},
   "source": [
    "# Representing Trees"
   ]
  },
  {
   "cell_type": "code",
   "execution_count": 1,
   "metadata": {},
   "outputs": [],
   "source": [
    "class Node:\n",
    "    \n",
    "    def __init__(self, val):\n",
    "        self.val = val\n",
    "        self.left = None\n",
    "        self.right = None\n",
    "        \n",
    "    def insert_left(self, child):\n",
    "        if self.left is None:\n",
    "            self.left = child\n",
    "        else:\n",
    "            child.left = self.left\n",
    "            self.left = child\n",
    "\n",
    "    def insert_right(self, child):\n",
    "        if self.right is None:\n",
    "            self.right = child\n",
    "        else:\n",
    "            child.right = self.right\n",
    "            self.right = child\n"
   ]
  },
  {
   "cell_type": "code",
   "execution_count": 2,
   "metadata": {},
   "outputs": [],
   "source": [
    "root = Node(1)\n",
    "root.insert_left(Node(2))\n",
    "root.insert_right(Node(3))"
   ]
  },
  {
   "cell_type": "code",
   "execution_count": 4,
   "metadata": {},
   "outputs": [
    {
     "data": {
      "text/plain": [
       "1"
      ]
     },
     "execution_count": 4,
     "metadata": {},
     "output_type": "execute_result"
    }
   ],
   "source": [
    "root.val"
   ]
  },
  {
   "cell_type": "code",
   "execution_count": 3,
   "metadata": {},
   "outputs": [
    {
     "data": {
      "text/plain": [
       "2"
      ]
     },
     "execution_count": 3,
     "metadata": {},
     "output_type": "execute_result"
    }
   ],
   "source": [
    "root.left.val"
   ]
  },
  {
   "cell_type": "code",
   "execution_count": 10,
   "metadata": {},
   "outputs": [
    {
     "data": {
      "text/plain": [
       "3"
      ]
     },
     "execution_count": 10,
     "metadata": {},
     "output_type": "execute_result"
    }
   ],
   "source": [
    "root.right.val"
   ]
  },
  {
   "cell_type": "markdown",
   "metadata": {},
   "source": [
    "## List of lists representation"
   ]
  },
  {
   "cell_type": "code",
   "execution_count": 9,
   "metadata": {},
   "outputs": [],
   "source": [
    "tree = [\n",
    "    'a', #root\n",
    "    [\n",
    "        'b', #left subtree\n",
    "        [ 'd', [], [], ],\n",
    "        [ 'e', [], [], ],\n",
    "    ],\n",
    "    [\n",
    "        'b', #right subtree\n",
    "        [ 'f', [], [] ],\n",
    "        [ ],\n",
    "    ],\n",
    "]"
   ]
  },
  {
   "cell_type": "markdown",
   "metadata": {},
   "source": [
    "- tree[0]: key of the root\n",
    "- tree[1]: left subtree\n",
    "    - tree[1][0]: key of the left subtree\n",
    "- tree[2]: right subtreee\n",
    "    - tree[2][0]: key of the right subtree\n"
   ]
  },
  {
   "cell_type": "code",
   "execution_count": 13,
   "metadata": {},
   "outputs": [
    {
     "data": {
      "text/plain": [
       "'a'"
      ]
     },
     "execution_count": 13,
     "metadata": {},
     "output_type": "execute_result"
    }
   ],
   "source": [
    "tree[0]"
   ]
  },
  {
   "cell_type": "code",
   "execution_count": 11,
   "metadata": {},
   "outputs": [
    {
     "data": {
      "text/plain": [
       "['b', ['d', [], []], ['e', [], []]]"
      ]
     },
     "execution_count": 11,
     "metadata": {},
     "output_type": "execute_result"
    }
   ],
   "source": [
    "tree[1]"
   ]
  },
  {
   "cell_type": "code",
   "execution_count": 12,
   "metadata": {},
   "outputs": [
    {
     "data": {
      "text/plain": [
       "['b', ['f', [], []], []]"
      ]
     },
     "execution_count": 12,
     "metadata": {},
     "output_type": "execute_result"
    }
   ],
   "source": [
    "tree[2]"
   ]
  },
  {
   "cell_type": "markdown",
   "metadata": {},
   "source": [
    "- generalizes easily to trees that can have more than 2 children"
   ]
  },
  {
   "cell_type": "code",
   "execution_count": 15,
   "metadata": {},
   "outputs": [],
   "source": [
    "def insert_left(root, child_val):\n",
    "    subtree = root.pop(1)\n",
    "    root.insert(1, [child_val, subtree, []])\n",
    "    return root    \n",
    "    \n",
    "def insert_right(root, child_val):\n",
    "    subtree = root.pop(2)\n",
    "    root.insert(2, [child_val, [], subtree])\n",
    "    return root    "
   ]
  },
  {
   "cell_type": "code",
   "execution_count": 26,
   "metadata": {},
   "outputs": [],
   "source": [
    "tree = [\n",
    "    1,\n",
    "    [],\n",
    "    [],\n",
    "]"
   ]
  },
  {
   "cell_type": "code",
   "execution_count": 30,
   "metadata": {},
   "outputs": [
    {
     "data": {
      "text/plain": [
       "[1, [3, [2, [], []], []], []]"
      ]
     },
     "execution_count": 30,
     "metadata": {},
     "output_type": "execute_result"
    }
   ],
   "source": [
    "insert_left(tree, 3)"
   ]
  },
  {
   "cell_type": "code",
   "execution_count": 29,
   "metadata": {},
   "outputs": [
    {
     "name": "stdout",
     "output_type": "stream",
     "text": [
      "[1, [2, [], []], []]\n"
     ]
    }
   ],
   "source": [
    "pprint.pprint(tree)"
   ]
  },
  {
   "cell_type": "code",
   "execution_count": 32,
   "metadata": {},
   "outputs": [],
   "source": [
    "def get_root_val(root):\n",
    "    return root[0]\n",
    "\n",
    "def set_root_val(root, new_val):\n",
    "    root[0] = new_val\n",
    "\n",
    "def get_left_child(root):\n",
    "    return root[1]\n",
    "\n",
    "def get_right_child(root):\n",
    "    return root[2]"
   ]
  },
  {
   "cell_type": "code",
   "execution_count": 34,
   "metadata": {},
   "outputs": [
    {
     "data": {
      "text/plain": [
       "1"
      ]
     },
     "execution_count": 34,
     "metadata": {},
     "output_type": "execute_result"
    }
   ],
   "source": [
    "get_root_val(tree)"
   ]
  },
  {
   "cell_type": "code",
   "execution_count": 35,
   "metadata": {},
   "outputs": [
    {
     "data": {
      "text/plain": [
       "[3, [2, [], []], []]"
      ]
     },
     "execution_count": 35,
     "metadata": {},
     "output_type": "execute_result"
    }
   ],
   "source": [
    "get_left_child(tree)"
   ]
  },
  {
   "cell_type": "code",
   "execution_count": 36,
   "metadata": {},
   "outputs": [
    {
     "data": {
      "text/plain": [
       "[]"
      ]
     },
     "execution_count": 36,
     "metadata": {},
     "output_type": "execute_result"
    }
   ],
   "source": [
    "get_right_child(tree)"
   ]
  },
  {
   "cell_type": "code",
   "execution_count": 37,
   "metadata": {},
   "outputs": [
    {
     "data": {
      "text/plain": [
       "[3, [5, [4, [], []], []], [7, [], [6, [], []]]]"
      ]
     },
     "execution_count": 37,
     "metadata": {},
     "output_type": "execute_result"
    }
   ],
   "source": [
    "root = [3, [], []]\n",
    "insert_left(root, 4)\n",
    "insert_left(root, 5)\n",
    "insert_right(root, 6)\n",
    "insert_right(root, 7)"
   ]
  },
  {
   "cell_type": "code",
   "execution_count": 40,
   "metadata": {},
   "outputs": [],
   "source": [
    "left = get_left_child(root)\n",
    "right = get_right_child(root)"
   ]
  },
  {
   "cell_type": "code",
   "execution_count": 39,
   "metadata": {},
   "outputs": [
    {
     "data": {
      "text/plain": [
       "[5, [4, [], []], []]"
      ]
     },
     "execution_count": 39,
     "metadata": {},
     "output_type": "execute_result"
    }
   ],
   "source": [
    "left"
   ]
  },
  {
   "cell_type": "code",
   "execution_count": 41,
   "metadata": {},
   "outputs": [
    {
     "data": {
      "text/plain": [
       "[7, [], [6, [], []]]"
      ]
     },
     "execution_count": 41,
     "metadata": {},
     "output_type": "execute_result"
    }
   ],
   "source": [
    "right"
   ]
  },
  {
   "cell_type": "code",
   "execution_count": 42,
   "metadata": {},
   "outputs": [],
   "source": [
    "set_root_val(right, 9)"
   ]
  },
  {
   "cell_type": "code",
   "execution_count": 43,
   "metadata": {},
   "outputs": [
    {
     "data": {
      "text/plain": [
       "[3, [5, [4, [], []], []], [9, [], [6, [], []]]]"
      ]
     },
     "execution_count": 43,
     "metadata": {},
     "output_type": "execute_result"
    }
   ],
   "source": [
    "root"
   ]
  },
  {
   "cell_type": "code",
   "execution_count": 44,
   "metadata": {},
   "outputs": [
    {
     "data": {
      "text/plain": [
       "[9, [], [11, [], [6, [], []]]]"
      ]
     },
     "execution_count": 44,
     "metadata": {},
     "output_type": "execute_result"
    }
   ],
   "source": [
    "insert_right(right, 11)"
   ]
  },
  {
   "cell_type": "code",
   "execution_count": 45,
   "metadata": {},
   "outputs": [
    {
     "data": {
      "text/plain": [
       "[3, [5, [4, [], []], []], [9, [], [11, [], [6, [], []]]]]"
      ]
     },
     "execution_count": 45,
     "metadata": {},
     "output_type": "execute_result"
    }
   ],
   "source": [
    "root"
   ]
  },
  {
   "cell_type": "markdown",
   "metadata": {},
   "source": [
    "Advantages of this representation:\n",
    "- It is succinct;\n",
    "- Trees can be easily construct as Python list literals;\n",
    "- Easily serialize and print the tree; and,\n",
    "- Portable to languages and contexts without objects."
   ]
  },
  {
   "cell_type": "markdown",
   "metadata": {},
   "source": [
    "Disadvantages of this representation:\n",
    "- difficult to see the tree-like nature of the composite lists \n",
    "    - particularly if it is printed on a single line."
   ]
  },
  {
   "cell_type": "markdown",
   "metadata": {},
   "source": [
    "## Map based representation\n"
   ]
  },
  {
   "cell_type": "markdown",
   "metadata": {},
   "source": [
    "Advantages:\n",
    "- In addition to the advantages of list of lists, also recognizable as a tree visually"
   ]
  },
  {
   "cell_type": "code",
   "execution_count": 50,
   "metadata": {},
   "outputs": [],
   "source": [
    "tree = {\n",
    "    'val': 'A',\n",
    "    'left': {\n",
    "        'val': 'B',\n",
    "        'left': {'val': 'D'},\n",
    "        'right': {'val': 'E'}\n",
    "    },\n",
    "    'right': {\n",
    "        'val': 'C',\n",
    "        'right': {'val': 'F'}\n",
    "    }\n",
    "}"
   ]
  },
  {
   "cell_type": "markdown",
   "metadata": {},
   "source": [
    "For non-binary trees:"
   ]
  },
  {
   "cell_type": "code",
   "execution_count": 48,
   "metadata": {},
   "outputs": [],
   "source": [
    "tree = {\n",
    "    'val': 'A',\n",
    "    'children': [\n",
    "        {\n",
    "            'val': 'B',\n",
    "            'children': [\n",
    "                {'val': 'D'},\n",
    "                {'val': 'E'},\n",
    "            ]\n",
    "        },\n",
    "        {\n",
    "            'val': 'C',\n",
    "            'children': [\n",
    "                {'val': 'F'},\n",
    "                {'val': 'G'},\n",
    "                {'val': 'H'}\n",
    "            ]\n",
    "        }\n",
    "    ]\n",
    "}\n"
   ]
  },
  {
   "cell_type": "code",
   "execution_count": 58,
   "metadata": {},
   "outputs": [],
   "source": [
    "def get_root_val(root):\n",
    "    return root['val']\n",
    "\n",
    "def set_root_val(root, new_val):\n",
    "    root['val'] = new_val\n",
    "\n",
    "def get_left_child(root):\n",
    "    return root['left']\n",
    "\n",
    "def get_right_child(root):\n",
    "    return root['right']\n",
    "\n",
    "def insert_left(root, child_val):\n",
    "    if 'left' in root:\n",
    "        subtree = root['left']\n",
    "    else:\n",
    "        subtree = {}\n",
    "    root['left'] = {\n",
    "        'val': child_val,\n",
    "        'left': subtree,\n",
    "    }\n",
    "    return root    \n",
    "    \n",
    "def insert_right(root, child_val):\n",
    "    if 'right' in root:\n",
    "        subtree = root['right']\n",
    "    else:\n",
    "        subtree = {}\n",
    "    root['right'] = {\n",
    "        'val': child_val,\n",
    "        'right': subtree,\n",
    "    }\n",
    "    return root    "
   ]
  },
  {
   "cell_type": "code",
   "execution_count": 51,
   "metadata": {},
   "outputs": [],
   "source": [
    "tree = {\n",
    "    'val': 'A',\n",
    "    'left': {\n",
    "        'val': 'B',\n",
    "        'left': {'val': 'D'},\n",
    "        'right': {'val': 'E'}\n",
    "    },\n",
    "    'right': {\n",
    "        'val': 'C',\n",
    "        'right': {'val': 'F'}\n",
    "    }\n",
    "}"
   ]
  },
  {
   "cell_type": "code",
   "execution_count": 52,
   "metadata": {},
   "outputs": [
    {
     "data": {
      "text/plain": [
       "'A'"
      ]
     },
     "execution_count": 52,
     "metadata": {},
     "output_type": "execute_result"
    }
   ],
   "source": [
    "get_root_val(tree)"
   ]
  },
  {
   "cell_type": "code",
   "execution_count": 53,
   "metadata": {},
   "outputs": [
    {
     "data": {
      "text/plain": [
       "'steve'"
      ]
     },
     "execution_count": 53,
     "metadata": {},
     "output_type": "execute_result"
    }
   ],
   "source": [
    "set_root_val(tree, 'steve')\n",
    "get_root_val(tree)"
   ]
  },
  {
   "cell_type": "code",
   "execution_count": 56,
   "metadata": {},
   "outputs": [
    {
     "data": {
      "text/plain": [
       "{'val': 'B', 'left': {'val': 'D'}, 'right': {'val': 'E'}}"
      ]
     },
     "execution_count": 56,
     "metadata": {},
     "output_type": "execute_result"
    }
   ],
   "source": [
    "get_left_child(tree)"
   ]
  },
  {
   "cell_type": "code",
   "execution_count": 57,
   "metadata": {},
   "outputs": [
    {
     "data": {
      "text/plain": [
       "{'val': 'C', 'right': {'val': 'F'}}"
      ]
     },
     "execution_count": 57,
     "metadata": {},
     "output_type": "execute_result"
    }
   ],
   "source": [
    "get_right_child(tree)"
   ]
  },
  {
   "cell_type": "code",
   "execution_count": 60,
   "metadata": {},
   "outputs": [
    {
     "data": {
      "text/plain": [
       "{'val': 'steve', 'left': {'val': 'dog', 'left': {'val': 'B', 'left': {'val': 'D'}, 'right': {'val': 'E'}}}, 'right': {'val': 'C', 'right': {'val': 'F'}}}"
      ]
     },
     "execution_count": 60,
     "metadata": {},
     "output_type": "execute_result"
    }
   ],
   "source": [
    "insert_left(tree, 'dog')"
   ]
  },
  {
   "cell_type": "code",
   "execution_count": 63,
   "metadata": {},
   "outputs": [
    {
     "data": {
      "text/plain": [
       "{'val': 'B', 'left': {'val': 'D'}, 'right': {'val': 'E'}}"
      ]
     },
     "execution_count": 63,
     "metadata": {},
     "output_type": "execute_result"
    }
   ],
   "source": [
    "tree['left']['left']"
   ]
  },
  {
   "cell_type": "code",
   "execution_count": 64,
   "metadata": {},
   "outputs": [
    {
     "ename": "KeyError",
     "evalue": "'right'",
     "output_type": "error",
     "traceback": [
      "\u001b[0;31m---------------------------------------------------------------------------\u001b[0m",
      "\u001b[0;31mKeyError\u001b[0m                                  Traceback (most recent call last)",
      "\u001b[0;32m<ipython-input-64-1cbd374d8cab>\u001b[0m in \u001b[0;36m<module>\u001b[0;34m\u001b[0m\n\u001b[0;32m----> 1\u001b[0;31m \u001b[0mtree\u001b[0m\u001b[0;34m[\u001b[0m\u001b[0;34m'left'\u001b[0m\u001b[0;34m]\u001b[0m\u001b[0;34m[\u001b[0m\u001b[0;34m'right'\u001b[0m\u001b[0;34m]\u001b[0m\u001b[0;34m\u001b[0m\u001b[0;34m\u001b[0m\u001b[0m\n\u001b[0m",
      "\u001b[0;31mKeyError\u001b[0m: 'right'"
     ]
    }
   ],
   "source": [
    "tree['left']['right']"
   ]
  },
  {
   "cell_type": "code",
   "execution_count": 65,
   "metadata": {},
   "outputs": [
    {
     "data": {
      "text/plain": [
       "{'val': 'steve', 'left': {'val': 'dog', 'left': {'val': 'B', 'left': {'val': 'D'}, 'right': {'val': 'E'}}}, 'right': {'val': 'cat', 'right': {'val': 'C', 'right': {'val': 'F'}}}}"
      ]
     },
     "execution_count": 65,
     "metadata": {},
     "output_type": "execute_result"
    }
   ],
   "source": [
    "insert_right(tree, 'cat')"
   ]
  },
  {
   "cell_type": "markdown",
   "metadata": {},
   "source": [
    "# Parse Trees"
   ]
  },
  {
   "cell_type": "markdown",
   "metadata": {},
   "source": [
    "Parse trees can be used to represent real-world constructions like sentences or mathematical expressions."
   ]
  },
  {
   "cell_type": "code",
   "execution_count": 6,
   "metadata": {},
   "outputs": [],
   "source": [
    "from IPython.display import Image"
   ]
  },
  {
   "cell_type": "code",
   "execution_count": 7,
   "metadata": {
    "scrolled": true
   },
   "outputs": [
    {
     "data": {
      "text/html": [
       "<img src=\"https://bradfieldcs.com/algos/trees/parse-trees/figures/parse-tree-sentence.png\"/>"
      ],
      "text/plain": [
       "<IPython.core.display.Image object>"
      ]
     },
     "execution_count": 7,
     "metadata": {},
     "output_type": "execute_result"
    }
   ],
   "source": [
    "Image(url=\"https://bradfieldcs.com/algos/trees/parse-trees/figures/parse-tree-sentence.png\")"
   ]
  },
  {
   "cell_type": "markdown",
   "metadata": {},
   "source": [
    "Here is an example of a mathematical expression as a parse tree"
   ]
  },
  {
   "cell_type": "code",
   "execution_count": 8,
   "metadata": {},
   "outputs": [
    {
     "data": {
      "text/html": [
       "<img src=\"https://bradfieldcs.com/algos/trees/parse-trees/figures/parse-tree-math-expression.png\"/>"
      ],
      "text/plain": [
       "<IPython.core.display.Image object>"
      ]
     },
     "execution_count": 8,
     "metadata": {},
     "output_type": "execute_result"
    }
   ],
   "source": [
    "Image(url=\"https://bradfieldcs.com/algos/trees/parse-trees/figures/parse-tree-math-expression.png\")"
   ]
  },
  {
   "cell_type": "code",
   "execution_count": 12,
   "metadata": {},
   "outputs": [],
   "source": [
    "tree = {\"key\": \"*\",\n",
    "        \"left\": {\n",
    "            \"key\": \"+\",\n",
    "            \"left\": {\"key\": 7},\n",
    "            \"right\": {\"key\": 3},\n",
    "        },\n",
    "        \"right\": {\n",
    "            \"key\": \"-\",\n",
    "            \"left\": {\"key\": 5},\n",
    "            \"right\": {\"key\": 2},\n",
    "        },\n",
    "}"
   ]
  },
  {
   "cell_type": "markdown",
   "metadata": {},
   "source": [
    "Evaluating the expression $(7+3)*(5-2)$ is equivalent to reducing the left and right subtrees to a single value."
   ]
  },
  {
   "cell_type": "code",
   "execution_count": 13,
   "metadata": {},
   "outputs": [],
   "source": [
    "tree = {\"key\": \"*\",\n",
    "        \"left\": {\"key\": 10},\n",
    "        \"right\": {\"key\": 3},\n",
    "}"
   ]
  },
  {
   "cell_type": "code",
   "execution_count": 14,
   "metadata": {},
   "outputs": [],
   "source": [
    "tree = {\"key\": 30}"
   ]
  },
  {
   "cell_type": "markdown",
   "metadata": {},
   "source": [
    "This section will contain:\n",
    "- how to build a parse tree from a fully parenthesized mathematical expression, \n",
    "- how to evaluate the expression stored in a parse tree."
   ]
  },
  {
   "cell_type": "markdown",
   "metadata": {},
   "source": [
    "## Rules for construction\n",
    "\n",
    "\n",
    "1. If the current token is a '(', add a new node as the left child of the current node, and descend to the left child.\n",
    "1. If the current token is in the list ['+','-','/','*'], set the root value of the current node to the operator represented by the current token. Add a new node as the right child of the current node and descend to the right child.\n",
    "1. If the current token is a number, set the root value of the current node to the number and return to the parent.\n",
    "1. If the current token is a ')', go to the parent of the current node.\n"
   ]
  },
  {
   "cell_type": "markdown",
   "metadata": {},
   "source": [
    "### Example\n",
    "\n",
    "Take $(3+(4*5))$."
   ]
  },
  {
   "cell_type": "markdown",
   "metadata": {},
   "source": [
    "This can be turned into a list of tokens:"
   ]
  },
  {
   "cell_type": "code",
   "execution_count": 17,
   "metadata": {},
   "outputs": [
    {
     "data": {
      "text/plain": [
       "['(', '3', '+', '(', '4', '*', '5', ')', ')']"
      ]
     },
     "execution_count": 17,
     "metadata": {},
     "output_type": "execute_result"
    }
   ],
   "source": [
    "[\"(\",\"3\",\"+\",\"(\",\"4\",\"*\",\"5\",\")\",\")\"]"
   ]
  },
  {
   "cell_type": "markdown",
   "metadata": {},
   "source": [
    "Follow the steps to construct the tree"
   ]
  },
  {
   "cell_type": "code",
   "execution_count": 28,
   "metadata": {},
   "outputs": [],
   "source": [
    "tree = {\"key\": \"+\",\n",
    "        \"left\": {\"key\": \"3\"}, #notice how the \"current node\" became a child\n",
    "        \"right\": {\"key\": \"*\",\n",
    "                  \"left\": {\"key\": \"4\"}, #notice how the \"current node\" became a child\n",
    "                  \"right\": {\"key\": \"5\"},\n",
    "                 },\n",
    "       }"
   ]
  },
  {
   "cell_type": "code",
   "execution_count": 30,
   "metadata": {},
   "outputs": [],
   "source": [
    "def read_tree(tree):\n",
    "    if \"left\" in tree:\n",
    "        read_tree(tree[\"left\"])\n",
    "    print(tree[\"key\"])\n",
    "    if \"right\" in tree:\n",
    "        read_tree(tree[\"right\"])    "
   ]
  },
  {
   "cell_type": "code",
   "execution_count": 31,
   "metadata": {},
   "outputs": [
    {
     "name": "stdout",
     "output_type": "stream",
     "text": [
      "3\n",
      "+\n",
      "4\n",
      "*\n",
      "5\n"
     ]
    }
   ],
   "source": [
    "read_tree(tree)"
   ]
  },
  {
   "cell_type": "code",
   "execution_count": null,
   "metadata": {},
   "outputs": [],
   "source": []
  }
 ],
 "metadata": {
  "kernelspec": {
   "display_name": "Python 3",
   "language": "python",
   "name": "python3"
  },
  "language_info": {
   "codemirror_mode": {
    "name": "ipython",
    "version": 3
   },
   "file_extension": ".py",
   "mimetype": "text/x-python",
   "name": "python",
   "nbconvert_exporter": "python",
   "pygments_lexer": "ipython3",
   "version": "3.7.2"
  }
 },
 "nbformat": 4,
 "nbformat_minor": 2
}
