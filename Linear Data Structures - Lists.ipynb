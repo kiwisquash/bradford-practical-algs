{
 "cells": [
  {
   "cell_type": "code",
   "execution_count": 1,
   "metadata": {},
   "outputs": [],
   "source": [
    "from IPython.display import Image"
   ]
  },
  {
   "cell_type": "markdown",
   "metadata": {},
   "source": [
    "# Introduction"
   ]
  },
  {
   "cell_type": "markdown",
   "metadata": {},
   "source": [
    "- Python lists are more like **arrays**\n",
    "- the list abstract data type,\n",
    "    - a collection where each item holds a relative position with respect to the others.\n",
    "- **node**: a member of a list\n",
    "- **singly linked**: each node holds a reference to the next node\n",
    "- **doubly linked**: each node holds a reference to both the next and previous nodes\n",
    "- **Unordered** vs **Ordered**\n",
    "    - In the latter, the items are maintained in an order.\n",
    "    - e.g. In an ordered list, adding the numbers 1,2,3 in any order would produce the same list, whereas unordered list would yield different lists"
   ]
  },
  {
   "cell_type": "markdown",
   "metadata": {},
   "source": [
    "## Assumption\n",
    "\n",
    "- lists do not have duplicate items"
   ]
  },
  {
   "cell_type": "markdown",
   "metadata": {},
   "source": [
    "# Unordered List Abstract Data Type"
   ]
  },
  {
   "cell_type": "markdown",
   "metadata": {},
   "source": [
    "- List(): creates a new empty list\n",
    "- add(item): adds a new item to the list\n",
    "    - assume the item is not already in the list\n",
    "- remove(item): removes the item from the list (modifies the list)\n",
    "    - assume the item is present in the list\n",
    "- search(item): searches for the item\n",
    "    - returns a boolean value\n",
    "- is_empty()\n",
    "- size()\n",
    "- append(item): adds a new item to the end of the list (modifies the list)\n",
    "    - assume the item is not already in the list\n",
    "- index(item): returns the position of item in the list\n",
    "    - assume the item is present in the list\n",
    "- insert(pos, item) adds a new item to the list at position pos\n",
    "    - assume the item is not already in the list\n",
    "    - assume there are enough existing items to have position pos\n",
    "- pop(): removes and returns the last item in the list\n",
    "    - assume list has at least one item\n",
    "- pop(pos): removes and returns the item at position pos. \n",
    "    - assume there is an item at position pos\n"
   ]
  },
  {
   "cell_type": "markdown",
   "metadata": {},
   "source": [
    "# Implementation of linked list"
   ]
  },
  {
   "cell_type": "code",
   "execution_count": 2,
   "metadata": {},
   "outputs": [
    {
     "data": {
      "text/html": [
       "<img src=\"https://bradfieldcs.com/algos/lists/implementing-an-unordered-list/figures/explicit-links.png\"/>"
      ],
      "text/plain": [
       "<IPython.core.display.Image object>"
      ]
     },
     "execution_count": 2,
     "metadata": {},
     "output_type": "execute_result"
    }
   ],
   "source": [
    "Image(url = \"https://bradfieldcs.com/algos/lists/implementing-an-unordered-list/figures/explicit-links.png\")"
   ]
  },
  {
   "cell_type": "markdown",
   "metadata": {},
   "source": [
    "Take aways from this image:\n",
    "- items don't need to be positioned in contiguous memory\n",
    "- location of the first item is called **head**\n",
    "- if head is known, then the rest of the items can be reached via the pointer to the next node"
   ]
  },
  {
   "cell_type": "markdown",
   "metadata": {},
   "source": [
    "## Node"
   ]
  },
  {
   "cell_type": "code",
   "execution_count": 3,
   "metadata": {},
   "outputs": [],
   "source": [
    "class Node:\n",
    "    \n",
    "    def __init__(self, val):\n",
    "        self.val = val\n",
    "        self.next = None # ground the node"
   ]
  },
  {
   "cell_type": "markdown",
   "metadata": {},
   "source": [
    "# Unordered (Singley LInked) List"
   ]
  },
  {
   "cell_type": "code",
   "execution_count": 4,
   "metadata": {},
   "outputs": [],
   "source": [
    "class UnorderedList:\n",
    "    \n",
    "    def __init__(self): # Create an empy list\n",
    "        self.head = None\n",
    "        \n",
    "    def is_empty(self): # O(1)\n",
    "        return self.head is None\n",
    "    \n",
    "    def add(self, item): # Easiest place to add an item is the beginning (the head!) O(1)\n",
    "        tmp = Node(item)\n",
    "        tmp.next = self.head\n",
    "        self.head = tmp\n",
    "        \n",
    "    def size(self): # O(n)\n",
    "        count = 0\n",
    "        current = self.head\n",
    "        while current is not None:\n",
    "            count +=1\n",
    "            current = current.next\n",
    "        return count\n",
    "    \n",
    "    def search(self, item): # O(n) average/worst\n",
    "        current = self.head\n",
    "        while current is not None:\n",
    "            if current.val == item:\n",
    "                return True\n",
    "            current = current.next\n",
    "        return False\n",
    "    \n",
    "    def remove(self, item): # O(n) average/worst\n",
    "        prev = None\n",
    "        current = self.head\n",
    "        while current.val != item: # This is okay because we are assuming that list is none-empty\n",
    "            prev = current\n",
    "            current = current.next\n",
    "        if prev is None:\n",
    "            self.head = current.next\n",
    "        else:\n",
    "            prev.next = current.next\n",
    "            \n",
    "    # Exercise: Implement the other methods\n",
    "    \n",
    "    def append(self, item): \n",
    "        self.add(item)\n",
    "        \n",
    "    def index(self, item): # O(n) average/worst\n",
    "        count = 0\n",
    "        current = self.head\n",
    "        while current.val !=item:\n",
    "            count += 1\n",
    "            current = current.next\n",
    "        return count\n",
    "    \n",
    "    def insert(self, pos, item):# O(pos)\n",
    "        index = 0\n",
    "        prev = None\n",
    "        current = self.head\n",
    "        if pos == 0:\n",
    "            x = self.head\n",
    "            self.head = Node(item)\n",
    "            self.head.next = x\n",
    "        else:\n",
    "            while (index < pos):\n",
    "                index += 1\n",
    "                prev = current\n",
    "                current = current.next\n",
    "            new_node = Node(item)\n",
    "            prev.next = new_node\n",
    "            new_node.next = current\n",
    "    \n",
    "    def pop(self, pos = None): # O(pos)\n",
    "        if pos == None:\n",
    "            pos = self.size() - 1\n",
    "        prev = None\n",
    "        current = self.head\n",
    "        count = 0\n",
    "        while count < pos:\n",
    "            count += 1\n",
    "            prev = current\n",
    "            current = current.next\n",
    "        if prev is None:\n",
    "            x = self.head\n",
    "            self.head = x.next\n",
    "            return x.val\n",
    "        else:\n",
    "            prev.next = current.next\n",
    "            return current.val\n",
    "    \n",
    "    def __str__(self):\n",
    "        node = self.head\n",
    "        output_list = []\n",
    "        while node is not None:\n",
    "            output_list.append(node.val)\n",
    "            node = node.next\n",
    "        return str(output_list)\n",
    "\n",
    "\n"
   ]
  },
  {
   "cell_type": "code",
   "execution_count": 5,
   "metadata": {},
   "outputs": [
    {
     "data": {
      "text/html": [
       "<img src=\"https://bradfieldcs.com/algos/lists/implementing-an-unordered-list/figures/empty-list.png\"/>"
      ],
      "text/plain": [
       "<IPython.core.display.Image object>"
      ]
     },
     "execution_count": 5,
     "metadata": {},
     "output_type": "execute_result"
    }
   ],
   "source": [
    "Image(url=\"https://bradfieldcs.com/algos/lists/implementing-an-unordered-list/figures/empty-list.png\")"
   ]
  },
  {
   "cell_type": "code",
   "execution_count": 6,
   "metadata": {},
   "outputs": [
    {
     "name": "stdout",
     "output_type": "stream",
     "text": [
      "[54, 26, 93, 17, 77, 31]\n"
     ]
    }
   ],
   "source": [
    "mylist = UnorderedList()\n",
    "some_list = [54, 26, 93, 17, 77, 31]\n",
    "\n",
    "# Without the add method\n",
    "mylist.head = x = Node(some_list[0]) \n",
    "for item in some_list[1:]:\n",
    "    x.next = Node(item)\n",
    "    x = x.next\n",
    "    \n",
    "# list order matches the some_list\n",
    "print(mylist)"
   ]
  },
  {
   "cell_type": "code",
   "execution_count": 7,
   "metadata": {},
   "outputs": [
    {
     "name": "stdout",
     "output_type": "stream",
     "text": [
      "[31, 77, 17, 93, 26, 54]\n"
     ]
    }
   ],
   "source": [
    "mylist = UnorderedList()\n",
    "some_list = [54, 26, 93, 17, 77, 31]\n",
    "\n",
    "# With the add method\n",
    "for item in some_list:\n",
    "    mylist.add(item)\n",
    "    \n",
    "# some_list is reversed\n",
    "print(mylist)"
   ]
  },
  {
   "cell_type": "code",
   "execution_count": 8,
   "metadata": {},
   "outputs": [
    {
     "name": "stdout",
     "output_type": "stream",
     "text": [
      "[54, 26, 93, 17, 77, 31]\n"
     ]
    }
   ],
   "source": [
    "mylist = UnorderedList()\n",
    "some_list = [54, 26, 93, 17, 77, 31]\n",
    "\n",
    "# With the add method, using a stack approach\n",
    "while some_list:\n",
    "    mylist.add(some_list.pop())\n",
    "\n",
    "print(mylist)"
   ]
  },
  {
   "cell_type": "markdown",
   "metadata": {},
   "source": [
    "- Note: Class itself does not contain any node objects\n",
    "    - it has a *reference* to a single node"
   ]
  },
  {
   "cell_type": "code",
   "execution_count": 9,
   "metadata": {},
   "outputs": [
    {
     "name": "stdout",
     "output_type": "stream",
     "text": [
      "[40, 54, 26, 93, 17, 77, 31]\n"
     ]
    }
   ],
   "source": [
    "mylist.insert(0,40)\n",
    "print(mylist)"
   ]
  },
  {
   "cell_type": "code",
   "execution_count": 10,
   "metadata": {},
   "outputs": [
    {
     "name": "stdout",
     "output_type": "stream",
     "text": [
      "40\n",
      "[54, 26, 93, 17, 77, 31]\n"
     ]
    }
   ],
   "source": [
    "print(mylist.pop(0))\n",
    "print(mylist)"
   ]
  },
  {
   "cell_type": "code",
   "execution_count": 11,
   "metadata": {},
   "outputs": [
    {
     "name": "stdout",
     "output_type": "stream",
     "text": [
      "[15, 54, 26, 93, 17, 77, 31]\n"
     ]
    }
   ],
   "source": [
    "mylist.insert(0,15)\n",
    "print(mylist)"
   ]
  },
  {
   "cell_type": "markdown",
   "metadata": {},
   "source": [
    "# Ordered (Singley Linked) List"
   ]
  },
  {
   "cell_type": "markdown",
   "metadata": {},
   "source": [
    "- The ordering of the list depends on some underlying characteristic of the node values\n",
    "- OrderedList class can be defined as a subclass of UnorderedList\n",
    "- methods that potentially disrupt the ordering of the nodes need to be redefined\n",
    "    - any methods for removing nodes will work just fine\n",
    "    - any method for adding nodes will need to be defined so that the new node is added to the correct place\n",
    "- some methods could be optimized to take advantage of the ordered structure"
   ]
  },
  {
   "cell_type": "code",
   "execution_count": 20,
   "metadata": {},
   "outputs": [],
   "source": [
    "class OrderedList(UnorderedList):\n",
    "    \n",
    "    def add(self, item): # O(n) average / worst\n",
    "        prev = None\n",
    "        current = self.head\n",
    "        while current is not None:\n",
    "            if current.val < item:                    \n",
    "                prev = current\n",
    "                current = current.next\n",
    "            else:\n",
    "                break\n",
    "        \n",
    "        newNode = Node(item)\n",
    "        if prev is None:\n",
    "            newNode.next = self.head\n",
    "            self.head = newNode\n",
    "        else:\n",
    "            newNode.next = current\n",
    "            prev.next = newNode\n",
    "            \n",
    "    def search(self, item): # O(n) average / worst\n",
    "        current = self.head\n",
    "        while current is not None:\n",
    "            if current.val == item:\n",
    "                return True\n",
    "            if current.val > item:\n",
    "                return False\n",
    "            current = current.next    \n",
    "        return False\n",
    "    \n",
    "    # Remove append and insert , since they don't make any sense for Ordered Lists\n",
    "    def __getattribute__(self, name):\n",
    "        if name in ['append', 'insert']: \n",
    "            raise AttributeError(name)\n",
    "        else: \n",
    "            return super(OrderedList,self).__getattribute__(name)\n",
    "    \n",
    "    def __dir__(self):\n",
    "        return sorted( ( set( dir( self.__class__ ) ) | set( self.__dict__.keys() ) )-set( ['append', 'insert'] ) )"
   ]
  },
  {
   "cell_type": "code",
   "execution_count": 26,
   "metadata": {},
   "outputs": [],
   "source": [
    "hdList = OrderedList()"
   ]
  },
  {
   "cell_type": "code",
   "execution_count": 27,
   "metadata": {},
   "outputs": [
    {
     "data": {
      "text/plain": [
       "['__class__',\n",
       " '__delattr__',\n",
       " '__dict__',\n",
       " '__dir__',\n",
       " '__doc__',\n",
       " '__eq__',\n",
       " '__format__',\n",
       " '__ge__',\n",
       " '__getattribute__',\n",
       " '__gt__',\n",
       " '__hash__',\n",
       " '__init__',\n",
       " '__init_subclass__',\n",
       " '__le__',\n",
       " '__lt__',\n",
       " '__module__',\n",
       " '__ne__',\n",
       " '__new__',\n",
       " '__reduce__',\n",
       " '__reduce_ex__',\n",
       " '__repr__',\n",
       " '__setattr__',\n",
       " '__sizeof__',\n",
       " '__str__',\n",
       " '__subclasshook__',\n",
       " '__weakref__',\n",
       " 'add',\n",
       " 'head',\n",
       " 'index',\n",
       " 'is_empty',\n",
       " 'pop',\n",
       " 'remove',\n",
       " 'search',\n",
       " 'size']"
      ]
     },
     "execution_count": 27,
     "metadata": {},
     "output_type": "execute_result"
    }
   ],
   "source": [
    "hdList.__dir__()"
   ]
  },
  {
   "cell_type": "code",
   "execution_count": 14,
   "metadata": {},
   "outputs": [
    {
     "ename": "AttributeError",
     "evalue": "append",
     "output_type": "error",
     "traceback": [
      "\u001b[0;31m---------------------------------------------------------------------------\u001b[0m",
      "\u001b[0;31mAttributeError\u001b[0m                            Traceback (most recent call last)",
      "\u001b[0;32m<ipython-input-14-19a8c1012524>\u001b[0m in \u001b[0;36m<module>\u001b[0;34m\u001b[0m\n\u001b[0;32m----> 1\u001b[0;31m \u001b[0mmyOrderedList\u001b[0m\u001b[0;34m.\u001b[0m\u001b[0mappend\u001b[0m\u001b[0;34m(\u001b[0m\u001b[0;36m5\u001b[0m\u001b[0;34m)\u001b[0m\u001b[0;34m\u001b[0m\u001b[0;34m\u001b[0m\u001b[0m\n\u001b[0m",
      "\u001b[0;32m<ipython-input-12-b32e5ad8d561>\u001b[0m in \u001b[0;36m__getattribute__\u001b[0;34m(self, name)\u001b[0m\n\u001b[1;32m     32\u001b[0m     \u001b[0;32mdef\u001b[0m \u001b[0m__getattribute__\u001b[0m\u001b[0;34m(\u001b[0m\u001b[0mself\u001b[0m\u001b[0;34m,\u001b[0m \u001b[0mname\u001b[0m\u001b[0;34m)\u001b[0m\u001b[0;34m:\u001b[0m\u001b[0;34m\u001b[0m\u001b[0;34m\u001b[0m\u001b[0m\n\u001b[1;32m     33\u001b[0m         \u001b[0;32mif\u001b[0m \u001b[0mname\u001b[0m \u001b[0;32min\u001b[0m \u001b[0;34m[\u001b[0m\u001b[0;34m'append'\u001b[0m\u001b[0;34m,\u001b[0m \u001b[0;34m'insert'\u001b[0m\u001b[0;34m]\u001b[0m\u001b[0;34m:\u001b[0m\u001b[0;34m\u001b[0m\u001b[0;34m\u001b[0m\u001b[0m\n\u001b[0;32m---> 34\u001b[0;31m             \u001b[0;32mraise\u001b[0m \u001b[0mAttributeError\u001b[0m\u001b[0;34m(\u001b[0m\u001b[0mname\u001b[0m\u001b[0;34m)\u001b[0m\u001b[0;34m\u001b[0m\u001b[0;34m\u001b[0m\u001b[0m\n\u001b[0m\u001b[1;32m     35\u001b[0m         \u001b[0;32melse\u001b[0m\u001b[0;34m:\u001b[0m\u001b[0;34m\u001b[0m\u001b[0;34m\u001b[0m\u001b[0m\n\u001b[1;32m     36\u001b[0m             \u001b[0;32mreturn\u001b[0m \u001b[0msuper\u001b[0m\u001b[0;34m(\u001b[0m\u001b[0mOrderedList\u001b[0m\u001b[0;34m,\u001b[0m\u001b[0mself\u001b[0m\u001b[0;34m)\u001b[0m\u001b[0;34m.\u001b[0m\u001b[0m__getattribute__\u001b[0m\u001b[0;34m(\u001b[0m\u001b[0mname\u001b[0m\u001b[0;34m)\u001b[0m\u001b[0;34m\u001b[0m\u001b[0;34m\u001b[0m\u001b[0m\n",
      "\u001b[0;31mAttributeError\u001b[0m: append"
     ]
    }
   ],
   "source": [
    "myOrderedList."
   ]
  },
  {
   "cell_type": "code",
   "execution_count": null,
   "metadata": {},
   "outputs": [],
   "source": [
    "for i in range(5,0,-1):\n",
    "    myOrderedList.add(i)"
   ]
  },
  {
   "cell_type": "code",
   "execution_count": null,
   "metadata": {},
   "outputs": [],
   "source": [
    "print(myOrderedList)"
   ]
  },
  {
   "cell_type": "code",
   "execution_count": null,
   "metadata": {},
   "outputs": [],
   "source": [
    "myOrderedList.add(1.3)"
   ]
  },
  {
   "cell_type": "code",
   "execution_count": null,
   "metadata": {},
   "outputs": [],
   "source": [
    "print(myOrderedList)"
   ]
  },
  {
   "cell_type": "code",
   "execution_count": null,
   "metadata": {},
   "outputs": [],
   "source": [
    "myOrderedList.head.val"
   ]
  },
  {
   "cell_type": "code",
   "execution_count": null,
   "metadata": {},
   "outputs": [],
   "source": [
    "set([1,2])|set([3])"
   ]
  },
  {
   "cell_type": "code",
   "execution_count": null,
   "metadata": {},
   "outputs": [],
   "source": [
    "sorted(set([1,2]) - set([1]))"
   ]
  },
  {
   "cell_type": "code",
   "execution_count": null,
   "metadata": {},
   "outputs": [],
   "source": []
  }
 ],
 "metadata": {
  "kernelspec": {
   "display_name": "Python 3",
   "language": "python",
   "name": "python3"
  },
  "language_info": {
   "codemirror_mode": {
    "name": "ipython",
    "version": 3
   },
   "file_extension": ".py",
   "mimetype": "text/x-python",
   "name": "python",
   "nbconvert_exporter": "python",
   "pygments_lexer": "ipython3",
   "version": "3.7.2"
  }
 },
 "nbformat": 4,
 "nbformat_minor": 2
}
