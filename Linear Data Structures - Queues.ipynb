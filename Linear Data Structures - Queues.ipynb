{
 "cells": [
  {
   "cell_type": "markdown",
   "metadata": {},
   "source": [
    "# Queue"
   ]
  },
  {
   "cell_type": "markdown",
   "metadata": {},
   "source": [
    "- FIFO: First-in-First-out (or first-come-first-serve)\n",
    "- Well-behaved lines, or queues, are very restrictive in that they have only one way in and only one way out. \n",
    "    - no jumping in the middle\n",
    "    - no leaving before you have waited the necessary amount of time to get to the front.\n",
    "- Real life:\n",
    "    - An office with 30 computers networked with a single printer. \n",
    "        - print tasks “get in line” with all the other printing tasks that are waiting. \n",
    "        - The first task in is the next to be completed. \n",
    "        - If you are last in line, you must wait for all the other tasks to print ahead of you.\n",
    "    - Operating systems use a number of different queues to control processes within a computer. \n",
    "        - The scheduling of what gets done next is typically based on a queuing algorithm that tries to execute programs as quickly as possible and serve as many users as it can. \n",
    "        - Sometimes keystrokes get ahead of the characters that appear on the screen. \n",
    "            - This is due to the computer doing other work at that moment. The keystrokes are being placed in a queue-like buffer so that they can eventually be displayed on the screen in the proper order."
   ]
  },
  {
   "cell_type": "markdown",
   "metadata": {},
   "source": [
    "# Queue Abstract Data Type"
   ]
  },
  {
   "cell_type": "markdown",
   "metadata": {},
   "source": [
    "- Queue(): Creates an empty queue\n",
    "- enqueue(item): Adds an item to the rear\n",
    "- dequeue(): Removes and returns the item to the front\n",
    "- is_empty(): Checks if the queue is empty\n",
    "- size(): returns the size of the queue"
   ]
  },
  {
   "cell_type": "markdown",
   "metadata": {},
   "source": [
    "# Implementation Example"
   ]
  },
  {
   "cell_type": "markdown",
   "metadata": {},
   "source": [
    "Using a python list:"
   ]
  },
  {
   "cell_type": "code",
   "execution_count": 13,
   "metadata": {},
   "outputs": [],
   "source": [
    "class Queue:\n",
    "    \n",
    "    def __init__(self):\n",
    "        self._items = []\n",
    "\n",
    "    def enqueue(item): # This operation is O(n)\n",
    "        self._items.insert(0, item)\n",
    "    \n",
    "    def dequeue():\n",
    "        return self._items.pop()\n",
    "    \n",
    "    def is_empty():\n",
    "        return not self._items\n",
    "    \n",
    "    def size():\n",
    "        return len(self._items)\n",
    "\n",
    "    "
   ]
  },
  {
   "cell_type": "markdown",
   "metadata": {},
   "source": [
    "There are implementation of the queue which makes all the operations O(1) (with an overflow error) or something with amortized O(1) time using two lists."
   ]
  },
  {
   "cell_type": "markdown",
   "metadata": {},
   "source": [
    "- In practice, Python programmers will use the standard library’s collections.deque class to achieve $O(1)$ enqueues and dequeues. "
   ]
  },
  {
   "cell_type": "markdown",
   "metadata": {},
   "source": [
    "Here is a queue implementation that uses two python lists:"
   ]
  },
  {
   "cell_type": "code",
   "execution_count": 81,
   "metadata": {},
   "outputs": [],
   "source": [
    "class Queue2:\n",
    "    \n",
    "    def __init__(self):\n",
    "        self._enqueue_stack = []\n",
    "        self._denqueue_stack = []\n",
    "    \n",
    "    def __str__(self):\n",
    "        return str(self._denqueue_stack[::-1] + self._enqueue_stack)\n",
    "\n",
    "    def enqueue(self, item): \n",
    "        self._enqueue_stack.append(item)\n",
    "    \n",
    "    def dequeue(self):\n",
    "        if not self._denqueue_stack:\n",
    "            while self._enqueue_stack:\n",
    "                self._denqueue_stack.append(self._enqueue_stack.pop())\n",
    "        return self._denqueue_stack.pop()\n",
    "        \n",
    "    def size(self):\n",
    "        return len(self._enqueue_stack) + len(self._denqueue_stack)\n",
    "    \n",
    "    def is_empty(self):\n",
    "        return self.size() == 0\n"
   ]
  },
  {
   "cell_type": "code",
   "execution_count": 84,
   "metadata": {},
   "outputs": [],
   "source": [
    "testing = Queue2()"
   ]
  },
  {
   "cell_type": "code",
   "execution_count": 85,
   "metadata": {},
   "outputs": [
    {
     "name": "stdout",
     "output_type": "stream",
     "text": [
      "[1]\n",
      "[1, 2]\n",
      "[2]\n",
      "[2, 4]\n",
      "[2, 4, 5]\n",
      "[4, 5]\n",
      "[4, 5, 7]\n",
      "[4, 5, 7, 8]\n",
      "[5, 7, 8]\n",
      "[5, 7, 8, 10]\n",
      "[5, 7, 8, 10, 11]\n"
     ]
    }
   ],
   "source": [
    "for i in range(1,12):\n",
    "    if i % 3 != 0:\n",
    "        testing.enqueue(i)\n",
    "    else:\n",
    "        testing.dequeue()\n",
    "    print(testing)\n"
   ]
  },
  {
   "cell_type": "code",
   "execution_count": 69,
   "metadata": {},
   "outputs": [
    {
     "name": "stdout",
     "output_type": "stream",
     "text": [
      "[0, 1, 2, 3, 4]\n"
     ]
    }
   ],
   "source": [
    "print(testing)"
   ]
  },
  {
   "cell_type": "code",
   "execution_count": 70,
   "metadata": {},
   "outputs": [
    {
     "data": {
      "text/plain": [
       "0"
      ]
     },
     "execution_count": 70,
     "metadata": {},
     "output_type": "execute_result"
    }
   ],
   "source": [
    "testing.dequeue()"
   ]
  },
  {
   "cell_type": "code",
   "execution_count": 71,
   "metadata": {},
   "outputs": [
    {
     "name": "stdout",
     "output_type": "stream",
     "text": [
      "[1, 2, 3, 4]\n"
     ]
    }
   ],
   "source": [
    "print(testing)"
   ]
  },
  {
   "cell_type": "code",
   "execution_count": 72,
   "metadata": {},
   "outputs": [],
   "source": [
    "testing.enqueue(5)"
   ]
  },
  {
   "cell_type": "code",
   "execution_count": 73,
   "metadata": {},
   "outputs": [
    {
     "name": "stdout",
     "output_type": "stream",
     "text": [
      "[1, 2, 3, 4, 5]\n"
     ]
    }
   ],
   "source": [
    "print(testing)"
   ]
  },
  {
   "cell_type": "code",
   "execution_count": 74,
   "metadata": {},
   "outputs": [],
   "source": [
    "testing.enqueue(6)"
   ]
  },
  {
   "cell_type": "code",
   "execution_count": 75,
   "metadata": {},
   "outputs": [
    {
     "name": "stdout",
     "output_type": "stream",
     "text": [
      "[1, 2, 3, 4, 5, 6]\n"
     ]
    }
   ],
   "source": [
    "print(testing)"
   ]
  },
  {
   "cell_type": "markdown",
   "metadata": {},
   "source": [
    "# Simulating Hot Potato"
   ]
  },
  {
   "cell_type": "markdown",
   "metadata": {},
   "source": [
    "What is this \"hot potato\"?\n",
    "- children line up in a circle and pass an item from neighbor to neighbor as fast as they can. \n",
    "- At a certain point in the game, the action is stopped and the child who has the item (the potato) is removed from the circle. \n",
    "- Play continues until only one child is left."
   ]
  },
  {
   "cell_type": "markdown",
   "metadata": {},
   "source": [
    "How it will be done.\n",
    "- Use a queue (in other words, a dequeue).\n",
    "- The child holding the potato will be at the front of the queue. \n",
    "    - For easy dequeue\n",
    "- \"Passing the potato\" means:\n",
    "    - dequeue, then enqueue the dequeued child\n",
    "- After num dequeue/enqueue operations, the child at the front will be removed permanently and another cycle will begin. \n",
    "- This process will continue until only one name remains (the size of the queue is 1)."
   ]
  },
  {
   "cell_type": "code",
   "execution_count": 86,
   "metadata": {},
   "outputs": [],
   "source": [
    "import time_measure"
   ]
  },
  {
   "cell_type": "code",
   "execution_count": 91,
   "metadata": {},
   "outputs": [],
   "source": [
    "from collections import deque\n",
    "\n",
    "@time_measure.get_time\n",
    "def hot_potato(names, num):\n",
    "    queue = deque()\n",
    "    for name in names:\n",
    "        queue.appendleft(name)\n",
    "    print(queue)\n",
    "\n",
    "    while (len(queue) > 1):\n",
    "        for _ in range(num):\n",
    "            queue.appendleft(queue.pop())\n",
    "        print(queue.pop())\n",
    "    \n",
    "    return queue.pop()"
   ]
  },
  {
   "cell_type": "code",
   "execution_count": 99,
   "metadata": {},
   "outputs": [
    {
     "name": "stdout",
     "output_type": "stream",
     "text": [
      "deque(['Brad', 'Kent', 'Jane', 'Susan', 'David', 'Bill'])\n",
      "Jane\n",
      "Susan\n",
      "Brad\n",
      "Bill\n",
      "Kent\n"
     ]
    },
    {
     "data": {
      "text/plain": [
       "('David', 0.00022983551025390625)"
      ]
     },
     "execution_count": 99,
     "metadata": {},
     "output_type": "execute_result"
    }
   ],
   "source": [
    "hot_potato(('Bill', 'David', 'Susan', 'Jane', 'Kent', 'Brad'), 9)"
   ]
  },
  {
   "cell_type": "markdown",
   "metadata": {},
   "source": [
    "Simulating hot popato with my queue implementation"
   ]
  },
  {
   "cell_type": "code",
   "execution_count": 95,
   "metadata": {},
   "outputs": [],
   "source": [
    "@time_measure.get_time\n",
    "def hot_potato2(names, num):\n",
    "    queue = Queue2()\n",
    "    for name in names:\n",
    "        queue.enqueue(name)\n",
    "    print(queue)\n",
    "\n",
    "    while (queue.size() > 1):\n",
    "        for _ in range(num):\n",
    "            queue.enqueue(queue.dequeue())\n",
    "        print(queue.dequeue())\n",
    "    \n",
    "    return queue.dequeue()"
   ]
  },
  {
   "cell_type": "code",
   "execution_count": 100,
   "metadata": {},
   "outputs": [
    {
     "name": "stdout",
     "output_type": "stream",
     "text": [
      "['Bill', 'David', 'Susan', 'Jane', 'Kent', 'Brad']\n",
      "Jane\n",
      "Susan\n",
      "Brad\n",
      "Bill\n",
      "Kent\n"
     ]
    },
    {
     "data": {
      "text/plain": [
       "('David', 0.00034308433532714844)"
      ]
     },
     "execution_count": 100,
     "metadata": {},
     "output_type": "execute_result"
    }
   ],
   "source": [
    "hot_potato2(('Bill', 'David', 'Susan', 'Jane', 'Kent', 'Brad'), 9)"
   ]
  },
  {
   "cell_type": "code",
   "execution_count": null,
   "metadata": {},
   "outputs": [],
   "source": []
  }
 ],
 "metadata": {
  "kernelspec": {
   "display_name": "Python 3",
   "language": "python",
   "name": "python3"
  },
  "language_info": {
   "codemirror_mode": {
    "name": "ipython",
    "version": 3
   },
   "file_extension": ".py",
   "mimetype": "text/x-python",
   "name": "python",
   "nbconvert_exporter": "python",
   "pygments_lexer": "ipython3",
   "version": "3.7.1"
  }
 },
 "nbformat": 4,
 "nbformat_minor": 2
}
