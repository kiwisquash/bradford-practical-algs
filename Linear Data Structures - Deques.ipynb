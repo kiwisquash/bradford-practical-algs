{
 "cells": [
  {
   "cell_type": "markdown",
   "metadata": {},
   "source": [
    "# Deques"
   ]
  },
  {
   "cell_type": "markdown",
   "metadata": {},
   "source": [
    "- \"double-ended queues\"\n",
    "- items can be removed/added from both front/rear\n",
    "- it's like a combination of queue and stack"
   ]
  },
  {
   "cell_type": "markdown",
   "metadata": {},
   "source": [
    "# Deque Abstract Data Type"
   ]
  },
  {
   "cell_type": "markdown",
   "metadata": {},
   "source": [
    "- Deque(): creates a new emppty deque.\n",
    "- add_front(item): adds a `item` to the front.\n",
    "- add_rear(item): adds a new `item` to the rear.\n",
    "- remove_front(): removes and returns the front item.\n",
    "- remove_rear(): removes and returns the the rear item.\n",
    "- is_empty(): tests to see whether the deque is empty.\n",
    "- size(): returns the number of items."
   ]
  },
  {
   "cell_type": "markdown",
   "metadata": {},
   "source": [
    "# Deque implementation"
   ]
  },
  {
   "cell_type": "code",
   "execution_count": 1,
   "metadata": {},
   "outputs": [],
   "source": [
    "from collections import deque"
   ]
  },
  {
   "cell_type": "markdown",
   "metadata": {},
   "source": [
    "- This is how a deque would be used in practice"
   ]
  },
  {
   "cell_type": "markdown",
   "metadata": {},
   "source": [
    "## Implementing it in python for fun"
   ]
  },
  {
   "cell_type": "code",
   "execution_count": 6,
   "metadata": {},
   "outputs": [],
   "source": [
    "class Deque:\n",
    "    \n",
    "    def __init__(self):\n",
    "        self._items = []\n",
    "    \n",
    "    def add_front(self, item):\n",
    "        self._items.insert(0, item)\n",
    "        \n",
    "    def add_rear(self, item):\n",
    "        self._items.append(item)\n",
    "    \n",
    "    def remove_front(self):\n",
    "        return self._items.pop(0)\n",
    "    \n",
    "    def remove_rear(self):\n",
    "        return self._items.pop()\n",
    "    \n",
    "    def is_empty(self):\n",
    "        return not self._items\n",
    "    \n",
    "    def size(self):\n",
    "        return len(self._items)\n",
    "    "
   ]
  },
  {
   "cell_type": "markdown",
   "metadata": {},
   "source": [
    "What are the issues with this implementation?\n",
    "- add_front and remove_front are both $O(n)$"
   ]
  },
  {
   "cell_type": "markdown",
   "metadata": {},
   "source": [
    "# Checking to see if a word is a palindrome using deque"
   ]
  },
  {
   "cell_type": "markdown",
   "metadata": {},
   "source": [
    "- Take a word\n",
    "- Put it in a deque, one char at a time\n",
    "- e.g. \"radar\" => ['r', 'a', 'd', 'a', 'r']\n",
    "- Pop both ends and compare, until the deque becomes size 1 or 0."
   ]
  },
  {
   "cell_type": "code",
   "execution_count": 7,
   "metadata": {},
   "outputs": [],
   "source": [
    "test = deque()"
   ]
  },
  {
   "cell_type": "code",
   "execution_count": 34,
   "metadata": {},
   "outputs": [],
   "source": [
    "from collections import deque\n",
    "\n",
    "def is_palindrome(word:str)->bool:\n",
    "    word_deque = deque(word)\n",
    "    \n",
    "    while len(word_deque) > 1:\n",
    "        if word_deque.popleft() != word_deque.pop():\n",
    "            return False\n",
    "    \n",
    "    return True"
   ]
  },
  {
   "cell_type": "code",
   "execution_count": 30,
   "metadata": {},
   "outputs": [],
   "source": [
    "def is_palindrom2(word:str)->bool:\n",
    "    i = 0\n",
    "    j = len(word) - 1\n",
    "    while (j - i > 1):\n",
    "        if word[i]!=word[j]:\n",
    "            return False\n",
    "        i+=1\n",
    "        j-=1\n",
    "    return True\n",
    "    \n"
   ]
  },
  {
   "cell_type": "code",
   "execution_count": 36,
   "metadata": {},
   "outputs": [],
   "source": [
    "test_words = [\n",
    "    \"data\",\n",
    "    \"radar\",\n",
    "    \"sonar\",\n",
    "    \"contigo\",\n",
    "    \"contigogitnoc\",\n",
    "    \"boob\",\n",
    "    \"boobs\",\n",
    "]"
   ]
  },
  {
   "cell_type": "code",
   "execution_count": 37,
   "metadata": {},
   "outputs": [
    {
     "name": "stdout",
     "output_type": "stream",
     "text": [
      "True\n",
      "True\n",
      "True\n",
      "True\n",
      "True\n",
      "True\n",
      "True\n"
     ]
    }
   ],
   "source": [
    "for test in test_words:\n",
    "    print(is_palindrome(test) == is_palindrom2(test))"
   ]
  },
  {
   "cell_type": "code",
   "execution_count": 38,
   "metadata": {},
   "outputs": [
    {
     "name": "stdout",
     "output_type": "stream",
     "text": [
      "11.3 µs ± 186 ns per loop (mean ± std. dev. of 7 runs, 100000 loops each)\n"
     ]
    }
   ],
   "source": [
    "%timeit for test in test_words: is_palindrome(test)"
   ]
  },
  {
   "cell_type": "code",
   "execution_count": 39,
   "metadata": {},
   "outputs": [
    {
     "name": "stdout",
     "output_type": "stream",
     "text": [
      "6.7 µs ± 130 ns per loop (mean ± std. dev. of 7 runs, 100000 loops each)\n"
     ]
    }
   ],
   "source": [
    "%timeit for test in test_words: is_palindrom2(test)"
   ]
  },
  {
   "cell_type": "code",
   "execution_count": null,
   "metadata": {},
   "outputs": [],
   "source": []
  }
 ],
 "metadata": {
  "kernelspec": {
   "display_name": "Python 3",
   "language": "python",
   "name": "python3"
  },
  "language_info": {
   "codemirror_mode": {
    "name": "ipython",
    "version": 3
   },
   "file_extension": ".py",
   "mimetype": "text/x-python",
   "name": "python",
   "nbconvert_exporter": "python",
   "pygments_lexer": "ipython3",
   "version": "3.7.1"
  }
 },
 "nbformat": 4,
 "nbformat_minor": 2
}
